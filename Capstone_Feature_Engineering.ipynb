{
  "nbformat": 4,
  "nbformat_minor": 0,
  "metadata": {
    "colab": {
      "provenance": [],
      "collapsed_sections": [
        "gKyy0NXs40ve",
        "ia8rx1RF7Nx8",
        "XUNo5qKK8gcu",
        "EaykfAT3auqJ",
        "MaqM8wunHF4Z",
        "5XSZc7Z0RX2Q",
        "ELYI6ty1TNOQ",
        "_nFceM1qYIna",
        "x4RQX7rnNBly"
      ]
    },
    "kernelspec": {
      "name": "python3",
      "display_name": "Python 3"
    },
    "language_info": {
      "name": "python"
    }
  },
  "cells": [
    {
      "cell_type": "markdown",
      "source": [
        "# **Feature Engineering of the Proposals Data**"
      ],
      "metadata": {
        "id": "QR81AV-V3pxK"
      }
    },
    {
      "cell_type": "markdown",
      "source": [
        "**Purpose:** prepare the proposals data for the two modelling problems that were identified during EDA: RFS and All.\n",
        "The modelling that this data will be supporting is a one-off exploration of factors influencing proposal outcomes, so the below is not built in a pipeline fashion"
      ],
      "metadata": {
        "id": "xrchH3IO3xvw"
      }
    },
    {
      "cell_type": "markdown",
      "source": [
        "**Next Steps:** Modelling for ALL and RFS proposals"
      ],
      "metadata": {
        "id": "uIopK-AN4w_H"
      }
    },
    {
      "cell_type": "markdown",
      "source": [
        "# **File Setup**"
      ],
      "metadata": {
        "id": "gKyy0NXs40ve"
      }
    },
    {
      "cell_type": "code",
      "source": [
        "import pandas as pd\n",
        "import numpy as np\n",
        "import matplotlib.pyplot as plt\n",
        "import seaborn as sns\n",
        "import io\n",
        "from sklearn.preprocessing import StandardScaler\n",
        "from sklearn.model_selection import train_test_split\n",
        "from sklearn.cluster import KMeans"
      ],
      "metadata": {
        "id": "mB-T08r_44gF"
      },
      "execution_count": 5,
      "outputs": []
    },
    {
      "cell_type": "code",
      "execution_count": 6,
      "metadata": {
        "colab": {
          "base_uri": "https://localhost:8080/",
          "height": 91
        },
        "id": "cLuSyQCj3kQ1",
        "outputId": "662a1046-4643-4c6a-86d6-e12dfcd09762"
      },
      "outputs": [
        {
          "output_type": "display_data",
          "data": {
            "text/plain": [
              "<IPython.core.display.HTML object>"
            ],
            "text/html": [
              "\n",
              "     <input type=\"file\" id=\"files-c955e613-2ee1-4d13-a66c-de7cae2723f6\" name=\"files[]\" multiple disabled\n",
              "        style=\"border:none\" />\n",
              "     <output id=\"result-c955e613-2ee1-4d13-a66c-de7cae2723f6\">\n",
              "      Upload widget is only available when the cell has been executed in the\n",
              "      current browser session. Please rerun this cell to enable.\n",
              "      </output>\n",
              "      <script>// Copyright 2017 Google LLC\n",
              "//\n",
              "// Licensed under the Apache License, Version 2.0 (the \"License\");\n",
              "// you may not use this file except in compliance with the License.\n",
              "// You may obtain a copy of the License at\n",
              "//\n",
              "//      http://www.apache.org/licenses/LICENSE-2.0\n",
              "//\n",
              "// Unless required by applicable law or agreed to in writing, software\n",
              "// distributed under the License is distributed on an \"AS IS\" BASIS,\n",
              "// WITHOUT WARRANTIES OR CONDITIONS OF ANY KIND, either express or implied.\n",
              "// See the License for the specific language governing permissions and\n",
              "// limitations under the License.\n",
              "\n",
              "/**\n",
              " * @fileoverview Helpers for google.colab Python module.\n",
              " */\n",
              "(function(scope) {\n",
              "function span(text, styleAttributes = {}) {\n",
              "  const element = document.createElement('span');\n",
              "  element.textContent = text;\n",
              "  for (const key of Object.keys(styleAttributes)) {\n",
              "    element.style[key] = styleAttributes[key];\n",
              "  }\n",
              "  return element;\n",
              "}\n",
              "\n",
              "// Max number of bytes which will be uploaded at a time.\n",
              "const MAX_PAYLOAD_SIZE = 100 * 1024;\n",
              "\n",
              "function _uploadFiles(inputId, outputId) {\n",
              "  const steps = uploadFilesStep(inputId, outputId);\n",
              "  const outputElement = document.getElementById(outputId);\n",
              "  // Cache steps on the outputElement to make it available for the next call\n",
              "  // to uploadFilesContinue from Python.\n",
              "  outputElement.steps = steps;\n",
              "\n",
              "  return _uploadFilesContinue(outputId);\n",
              "}\n",
              "\n",
              "// This is roughly an async generator (not supported in the browser yet),\n",
              "// where there are multiple asynchronous steps and the Python side is going\n",
              "// to poll for completion of each step.\n",
              "// This uses a Promise to block the python side on completion of each step,\n",
              "// then passes the result of the previous step as the input to the next step.\n",
              "function _uploadFilesContinue(outputId) {\n",
              "  const outputElement = document.getElementById(outputId);\n",
              "  const steps = outputElement.steps;\n",
              "\n",
              "  const next = steps.next(outputElement.lastPromiseValue);\n",
              "  return Promise.resolve(next.value.promise).then((value) => {\n",
              "    // Cache the last promise value to make it available to the next\n",
              "    // step of the generator.\n",
              "    outputElement.lastPromiseValue = value;\n",
              "    return next.value.response;\n",
              "  });\n",
              "}\n",
              "\n",
              "/**\n",
              " * Generator function which is called between each async step of the upload\n",
              " * process.\n",
              " * @param {string} inputId Element ID of the input file picker element.\n",
              " * @param {string} outputId Element ID of the output display.\n",
              " * @return {!Iterable<!Object>} Iterable of next steps.\n",
              " */\n",
              "function* uploadFilesStep(inputId, outputId) {\n",
              "  const inputElement = document.getElementById(inputId);\n",
              "  inputElement.disabled = false;\n",
              "\n",
              "  const outputElement = document.getElementById(outputId);\n",
              "  outputElement.innerHTML = '';\n",
              "\n",
              "  const pickedPromise = new Promise((resolve) => {\n",
              "    inputElement.addEventListener('change', (e) => {\n",
              "      resolve(e.target.files);\n",
              "    });\n",
              "  });\n",
              "\n",
              "  const cancel = document.createElement('button');\n",
              "  inputElement.parentElement.appendChild(cancel);\n",
              "  cancel.textContent = 'Cancel upload';\n",
              "  const cancelPromise = new Promise((resolve) => {\n",
              "    cancel.onclick = () => {\n",
              "      resolve(null);\n",
              "    };\n",
              "  });\n",
              "\n",
              "  // Wait for the user to pick the files.\n",
              "  const files = yield {\n",
              "    promise: Promise.race([pickedPromise, cancelPromise]),\n",
              "    response: {\n",
              "      action: 'starting',\n",
              "    }\n",
              "  };\n",
              "\n",
              "  cancel.remove();\n",
              "\n",
              "  // Disable the input element since further picks are not allowed.\n",
              "  inputElement.disabled = true;\n",
              "\n",
              "  if (!files) {\n",
              "    return {\n",
              "      response: {\n",
              "        action: 'complete',\n",
              "      }\n",
              "    };\n",
              "  }\n",
              "\n",
              "  for (const file of files) {\n",
              "    const li = document.createElement('li');\n",
              "    li.append(span(file.name, {fontWeight: 'bold'}));\n",
              "    li.append(span(\n",
              "        `(${file.type || 'n/a'}) - ${file.size} bytes, ` +\n",
              "        `last modified: ${\n",
              "            file.lastModifiedDate ? file.lastModifiedDate.toLocaleDateString() :\n",
              "                                    'n/a'} - `));\n",
              "    const percent = span('0% done');\n",
              "    li.appendChild(percent);\n",
              "\n",
              "    outputElement.appendChild(li);\n",
              "\n",
              "    const fileDataPromise = new Promise((resolve) => {\n",
              "      const reader = new FileReader();\n",
              "      reader.onload = (e) => {\n",
              "        resolve(e.target.result);\n",
              "      };\n",
              "      reader.readAsArrayBuffer(file);\n",
              "    });\n",
              "    // Wait for the data to be ready.\n",
              "    let fileData = yield {\n",
              "      promise: fileDataPromise,\n",
              "      response: {\n",
              "        action: 'continue',\n",
              "      }\n",
              "    };\n",
              "\n",
              "    // Use a chunked sending to avoid message size limits. See b/62115660.\n",
              "    let position = 0;\n",
              "    do {\n",
              "      const length = Math.min(fileData.byteLength - position, MAX_PAYLOAD_SIZE);\n",
              "      const chunk = new Uint8Array(fileData, position, length);\n",
              "      position += length;\n",
              "\n",
              "      const base64 = btoa(String.fromCharCode.apply(null, chunk));\n",
              "      yield {\n",
              "        response: {\n",
              "          action: 'append',\n",
              "          file: file.name,\n",
              "          data: base64,\n",
              "        },\n",
              "      };\n",
              "\n",
              "      let percentDone = fileData.byteLength === 0 ?\n",
              "          100 :\n",
              "          Math.round((position / fileData.byteLength) * 100);\n",
              "      percent.textContent = `${percentDone}% done`;\n",
              "\n",
              "    } while (position < fileData.byteLength);\n",
              "  }\n",
              "\n",
              "  // All done.\n",
              "  yield {\n",
              "    response: {\n",
              "      action: 'complete',\n",
              "    }\n",
              "  };\n",
              "}\n",
              "\n",
              "scope.google = scope.google || {};\n",
              "scope.google.colab = scope.google.colab || {};\n",
              "scope.google.colab._files = {\n",
              "  _uploadFiles,\n",
              "  _uploadFilesContinue,\n",
              "};\n",
              "})(self);\n",
              "</script> "
            ]
          },
          "metadata": {}
        },
        {
          "output_type": "stream",
          "name": "stdout",
          "text": [
            "Saving 2.1 EDA Output.csv to 2.1 EDA Output.csv\n",
            "(2227, 26)\n"
          ]
        }
      ],
      "source": [
        "from google.colab import files\n",
        "uploaded = files.upload()\n",
        "\n",
        "for filename, file_content in uploaded.items():\n",
        "   prop = pd.read_csv(io.BytesIO(file_content))\n",
        "   prop.set_index(prop.columns[0], inplace=True)\n",
        "\n",
        "print(prop.shape)"
      ]
    },
    {
      "cell_type": "code",
      "source": [
        "prop.info()"
      ],
      "metadata": {
        "colab": {
          "base_uri": "https://localhost:8080/"
        },
        "id": "wPkEWnZf5ay7",
        "outputId": "33e5820a-89de-4f51-a6cb-e7c13aa599a6"
      },
      "execution_count": 7,
      "outputs": [
        {
          "output_type": "stream",
          "name": "stdout",
          "text": [
            "<class 'pandas.core.frame.DataFrame'>\n",
            "Index: 2227 entries, 0 to 2274\n",
            "Data columns (total 26 columns):\n",
            " #   Column           Non-Null Count  Dtype  \n",
            "---  ------           --------------  -----  \n",
            " 0   proposal_num     2223 non-null   object \n",
            " 1   registry_region  2227 non-null   object \n",
            " 2   sow              2227 non-null   object \n",
            " 3   rfp              2227 non-null   int64  \n",
            " 4   units_orig       2107 non-null   object \n",
            " 5   storeys_orig     2042 non-null   object \n",
            " 6   townhouse_orig   1980 non-null   object \n",
            " 7   parking_orig     1996 non-null   object \n",
            " 8   prev_rfs         2227 non-null   object \n",
            " 9   reminder         2224 non-null   object \n",
            " 10  fee_probable     2225 non-null   float64\n",
            " 11  issued_date      2227 non-null   object \n",
            " 12  outcome          2227 non-null   int64  \n",
            " 13  prev_wins        2227 non-null   float64\n",
            " 14  townhouse_flag   2227 non-null   int64  \n",
            " 15  storeys          910 non-null    float64\n",
            " 16  comm_flag        2227 non-null   float64\n",
            " 17  comm_units       186 non-null    float64\n",
            " 18  potl_units       111 non-null    float64\n",
            " 19  res_units        1224 non-null   float64\n",
            " 20  building_age     1525 non-null   float64\n",
            " 21  project_type     2227 non-null   object \n",
            " 22  quarter          2227 non-null   object \n",
            " 23  region           2227 non-null   object \n",
            " 24  building_type    2227 non-null   object \n",
            " 25  units            1486 non-null   float64\n",
            "dtypes: float64(9), int64(3), object(14)\n",
            "memory usage: 469.8+ KB\n"
          ]
        }
      ]
    },
    {
      "cell_type": "code",
      "source": [
        "#We'll remove the columns that were not identified as significant during EDA\n",
        "prop = prop[['region', 'prev_rfs', 'reminder', 'fee_probable', 'outcome', 'project_type', 'building_type', 'units','sow']]"
      ],
      "metadata": {
        "id": "39LSUQd85fAl"
      },
      "execution_count": 8,
      "outputs": []
    },
    {
      "cell_type": "code",
      "source": [
        "prop.head()"
      ],
      "metadata": {
        "colab": {
          "base_uri": "https://localhost:8080/",
          "height": 237
        },
        "id": "LVhHhIrH6oA6",
        "outputId": "c4aedc55-19bc-48d5-b28a-81cfd47816aa"
      },
      "execution_count": 9,
      "outputs": [
        {
          "output_type": "execute_result",
          "data": {
            "text/plain": [
              "             region prev_rfs reminder  fee_probable  outcome project_type  \\\n",
              "Unnamed: 0                                                                  \n",
              "0               TOR      Yes       No        2795.0        1          RFS   \n",
              "1               TOR       No       No        2500.0        0          RFS   \n",
              "2               TOR      Yes      Yes        3795.0        1          RFS   \n",
              "3           Unknown      Yes       No        1508.0        1          RFS   \n",
              "4               TOR      Yes       No        5825.0        0          RFS   \n",
              "\n",
              "           building_type  units          sow  \n",
              "Unnamed: 0                                    \n",
              "0                unknown    NaN   Update RFS  \n",
              "1            residential   39.0  Class 2 RFS  \n",
              "2               highrise   46.0   Update RFS  \n",
              "3                unknown    NaN  Class 3 RFS  \n",
              "4               highrise  320.0  Class 2 RFS  "
            ],
            "text/html": [
              "\n",
              "  <div id=\"df-fdec40c0-5064-43eb-a662-141ed628022a\" class=\"colab-df-container\">\n",
              "    <div>\n",
              "<style scoped>\n",
              "    .dataframe tbody tr th:only-of-type {\n",
              "        vertical-align: middle;\n",
              "    }\n",
              "\n",
              "    .dataframe tbody tr th {\n",
              "        vertical-align: top;\n",
              "    }\n",
              "\n",
              "    .dataframe thead th {\n",
              "        text-align: right;\n",
              "    }\n",
              "</style>\n",
              "<table border=\"1\" class=\"dataframe\">\n",
              "  <thead>\n",
              "    <tr style=\"text-align: right;\">\n",
              "      <th></th>\n",
              "      <th>region</th>\n",
              "      <th>prev_rfs</th>\n",
              "      <th>reminder</th>\n",
              "      <th>fee_probable</th>\n",
              "      <th>outcome</th>\n",
              "      <th>project_type</th>\n",
              "      <th>building_type</th>\n",
              "      <th>units</th>\n",
              "      <th>sow</th>\n",
              "    </tr>\n",
              "    <tr>\n",
              "      <th>Unnamed: 0</th>\n",
              "      <th></th>\n",
              "      <th></th>\n",
              "      <th></th>\n",
              "      <th></th>\n",
              "      <th></th>\n",
              "      <th></th>\n",
              "      <th></th>\n",
              "      <th></th>\n",
              "      <th></th>\n",
              "    </tr>\n",
              "  </thead>\n",
              "  <tbody>\n",
              "    <tr>\n",
              "      <th>0</th>\n",
              "      <td>TOR</td>\n",
              "      <td>Yes</td>\n",
              "      <td>No</td>\n",
              "      <td>2795.0</td>\n",
              "      <td>1</td>\n",
              "      <td>RFS</td>\n",
              "      <td>unknown</td>\n",
              "      <td>NaN</td>\n",
              "      <td>Update RFS</td>\n",
              "    </tr>\n",
              "    <tr>\n",
              "      <th>1</th>\n",
              "      <td>TOR</td>\n",
              "      <td>No</td>\n",
              "      <td>No</td>\n",
              "      <td>2500.0</td>\n",
              "      <td>0</td>\n",
              "      <td>RFS</td>\n",
              "      <td>residential</td>\n",
              "      <td>39.0</td>\n",
              "      <td>Class 2 RFS</td>\n",
              "    </tr>\n",
              "    <tr>\n",
              "      <th>2</th>\n",
              "      <td>TOR</td>\n",
              "      <td>Yes</td>\n",
              "      <td>Yes</td>\n",
              "      <td>3795.0</td>\n",
              "      <td>1</td>\n",
              "      <td>RFS</td>\n",
              "      <td>highrise</td>\n",
              "      <td>46.0</td>\n",
              "      <td>Update RFS</td>\n",
              "    </tr>\n",
              "    <tr>\n",
              "      <th>3</th>\n",
              "      <td>Unknown</td>\n",
              "      <td>Yes</td>\n",
              "      <td>No</td>\n",
              "      <td>1508.0</td>\n",
              "      <td>1</td>\n",
              "      <td>RFS</td>\n",
              "      <td>unknown</td>\n",
              "      <td>NaN</td>\n",
              "      <td>Class 3 RFS</td>\n",
              "    </tr>\n",
              "    <tr>\n",
              "      <th>4</th>\n",
              "      <td>TOR</td>\n",
              "      <td>Yes</td>\n",
              "      <td>No</td>\n",
              "      <td>5825.0</td>\n",
              "      <td>0</td>\n",
              "      <td>RFS</td>\n",
              "      <td>highrise</td>\n",
              "      <td>320.0</td>\n",
              "      <td>Class 2 RFS</td>\n",
              "    </tr>\n",
              "  </tbody>\n",
              "</table>\n",
              "</div>\n",
              "    <div class=\"colab-df-buttons\">\n",
              "\n",
              "  <div class=\"colab-df-container\">\n",
              "    <button class=\"colab-df-convert\" onclick=\"convertToInteractive('df-fdec40c0-5064-43eb-a662-141ed628022a')\"\n",
              "            title=\"Convert this dataframe to an interactive table.\"\n",
              "            style=\"display:none;\">\n",
              "\n",
              "  <svg xmlns=\"http://www.w3.org/2000/svg\" height=\"24px\" viewBox=\"0 -960 960 960\">\n",
              "    <path d=\"M120-120v-720h720v720H120Zm60-500h600v-160H180v160Zm220 220h160v-160H400v160Zm0 220h160v-160H400v160ZM180-400h160v-160H180v160Zm440 0h160v-160H620v160ZM180-180h160v-160H180v160Zm440 0h160v-160H620v160Z\"/>\n",
              "  </svg>\n",
              "    </button>\n",
              "\n",
              "  <style>\n",
              "    .colab-df-container {\n",
              "      display:flex;\n",
              "      gap: 12px;\n",
              "    }\n",
              "\n",
              "    .colab-df-convert {\n",
              "      background-color: #E8F0FE;\n",
              "      border: none;\n",
              "      border-radius: 50%;\n",
              "      cursor: pointer;\n",
              "      display: none;\n",
              "      fill: #1967D2;\n",
              "      height: 32px;\n",
              "      padding: 0 0 0 0;\n",
              "      width: 32px;\n",
              "    }\n",
              "\n",
              "    .colab-df-convert:hover {\n",
              "      background-color: #E2EBFA;\n",
              "      box-shadow: 0px 1px 2px rgba(60, 64, 67, 0.3), 0px 1px 3px 1px rgba(60, 64, 67, 0.15);\n",
              "      fill: #174EA6;\n",
              "    }\n",
              "\n",
              "    .colab-df-buttons div {\n",
              "      margin-bottom: 4px;\n",
              "    }\n",
              "\n",
              "    [theme=dark] .colab-df-convert {\n",
              "      background-color: #3B4455;\n",
              "      fill: #D2E3FC;\n",
              "    }\n",
              "\n",
              "    [theme=dark] .colab-df-convert:hover {\n",
              "      background-color: #434B5C;\n",
              "      box-shadow: 0px 1px 3px 1px rgba(0, 0, 0, 0.15);\n",
              "      filter: drop-shadow(0px 1px 2px rgba(0, 0, 0, 0.3));\n",
              "      fill: #FFFFFF;\n",
              "    }\n",
              "  </style>\n",
              "\n",
              "    <script>\n",
              "      const buttonEl =\n",
              "        document.querySelector('#df-fdec40c0-5064-43eb-a662-141ed628022a button.colab-df-convert');\n",
              "      buttonEl.style.display =\n",
              "        google.colab.kernel.accessAllowed ? 'block' : 'none';\n",
              "\n",
              "      async function convertToInteractive(key) {\n",
              "        const element = document.querySelector('#df-fdec40c0-5064-43eb-a662-141ed628022a');\n",
              "        const dataTable =\n",
              "          await google.colab.kernel.invokeFunction('convertToInteractive',\n",
              "                                                    [key], {});\n",
              "        if (!dataTable) return;\n",
              "\n",
              "        const docLinkHtml = 'Like what you see? Visit the ' +\n",
              "          '<a target=\"_blank\" href=https://colab.research.google.com/notebooks/data_table.ipynb>data table notebook</a>'\n",
              "          + ' to learn more about interactive tables.';\n",
              "        element.innerHTML = '';\n",
              "        dataTable['output_type'] = 'display_data';\n",
              "        await google.colab.output.renderOutput(dataTable, element);\n",
              "        const docLink = document.createElement('div');\n",
              "        docLink.innerHTML = docLinkHtml;\n",
              "        element.appendChild(docLink);\n",
              "      }\n",
              "    </script>\n",
              "  </div>\n",
              "\n",
              "\n",
              "<div id=\"df-d2107181-6ae5-4818-ad3f-842b2013c77f\">\n",
              "  <button class=\"colab-df-quickchart\" onclick=\"quickchart('df-d2107181-6ae5-4818-ad3f-842b2013c77f')\"\n",
              "            title=\"Suggest charts\"\n",
              "            style=\"display:none;\">\n",
              "\n",
              "<svg xmlns=\"http://www.w3.org/2000/svg\" height=\"24px\"viewBox=\"0 0 24 24\"\n",
              "     width=\"24px\">\n",
              "    <g>\n",
              "        <path d=\"M19 3H5c-1.1 0-2 .9-2 2v14c0 1.1.9 2 2 2h14c1.1 0 2-.9 2-2V5c0-1.1-.9-2-2-2zM9 17H7v-7h2v7zm4 0h-2V7h2v10zm4 0h-2v-4h2v4z\"/>\n",
              "    </g>\n",
              "</svg>\n",
              "  </button>\n",
              "\n",
              "<style>\n",
              "  .colab-df-quickchart {\n",
              "      --bg-color: #E8F0FE;\n",
              "      --fill-color: #1967D2;\n",
              "      --hover-bg-color: #E2EBFA;\n",
              "      --hover-fill-color: #174EA6;\n",
              "      --disabled-fill-color: #AAA;\n",
              "      --disabled-bg-color: #DDD;\n",
              "  }\n",
              "\n",
              "  [theme=dark] .colab-df-quickchart {\n",
              "      --bg-color: #3B4455;\n",
              "      --fill-color: #D2E3FC;\n",
              "      --hover-bg-color: #434B5C;\n",
              "      --hover-fill-color: #FFFFFF;\n",
              "      --disabled-bg-color: #3B4455;\n",
              "      --disabled-fill-color: #666;\n",
              "  }\n",
              "\n",
              "  .colab-df-quickchart {\n",
              "    background-color: var(--bg-color);\n",
              "    border: none;\n",
              "    border-radius: 50%;\n",
              "    cursor: pointer;\n",
              "    display: none;\n",
              "    fill: var(--fill-color);\n",
              "    height: 32px;\n",
              "    padding: 0;\n",
              "    width: 32px;\n",
              "  }\n",
              "\n",
              "  .colab-df-quickchart:hover {\n",
              "    background-color: var(--hover-bg-color);\n",
              "    box-shadow: 0 1px 2px rgba(60, 64, 67, 0.3), 0 1px 3px 1px rgba(60, 64, 67, 0.15);\n",
              "    fill: var(--button-hover-fill-color);\n",
              "  }\n",
              "\n",
              "  .colab-df-quickchart-complete:disabled,\n",
              "  .colab-df-quickchart-complete:disabled:hover {\n",
              "    background-color: var(--disabled-bg-color);\n",
              "    fill: var(--disabled-fill-color);\n",
              "    box-shadow: none;\n",
              "  }\n",
              "\n",
              "  .colab-df-spinner {\n",
              "    border: 2px solid var(--fill-color);\n",
              "    border-color: transparent;\n",
              "    border-bottom-color: var(--fill-color);\n",
              "    animation:\n",
              "      spin 1s steps(1) infinite;\n",
              "  }\n",
              "\n",
              "  @keyframes spin {\n",
              "    0% {\n",
              "      border-color: transparent;\n",
              "      border-bottom-color: var(--fill-color);\n",
              "      border-left-color: var(--fill-color);\n",
              "    }\n",
              "    20% {\n",
              "      border-color: transparent;\n",
              "      border-left-color: var(--fill-color);\n",
              "      border-top-color: var(--fill-color);\n",
              "    }\n",
              "    30% {\n",
              "      border-color: transparent;\n",
              "      border-left-color: var(--fill-color);\n",
              "      border-top-color: var(--fill-color);\n",
              "      border-right-color: var(--fill-color);\n",
              "    }\n",
              "    40% {\n",
              "      border-color: transparent;\n",
              "      border-right-color: var(--fill-color);\n",
              "      border-top-color: var(--fill-color);\n",
              "    }\n",
              "    60% {\n",
              "      border-color: transparent;\n",
              "      border-right-color: var(--fill-color);\n",
              "    }\n",
              "    80% {\n",
              "      border-color: transparent;\n",
              "      border-right-color: var(--fill-color);\n",
              "      border-bottom-color: var(--fill-color);\n",
              "    }\n",
              "    90% {\n",
              "      border-color: transparent;\n",
              "      border-bottom-color: var(--fill-color);\n",
              "    }\n",
              "  }\n",
              "</style>\n",
              "\n",
              "  <script>\n",
              "    async function quickchart(key) {\n",
              "      const quickchartButtonEl =\n",
              "        document.querySelector('#' + key + ' button');\n",
              "      quickchartButtonEl.disabled = true;  // To prevent multiple clicks.\n",
              "      quickchartButtonEl.classList.add('colab-df-spinner');\n",
              "      try {\n",
              "        const charts = await google.colab.kernel.invokeFunction(\n",
              "            'suggestCharts', [key], {});\n",
              "      } catch (error) {\n",
              "        console.error('Error during call to suggestCharts:', error);\n",
              "      }\n",
              "      quickchartButtonEl.classList.remove('colab-df-spinner');\n",
              "      quickchartButtonEl.classList.add('colab-df-quickchart-complete');\n",
              "    }\n",
              "    (() => {\n",
              "      let quickchartButtonEl =\n",
              "        document.querySelector('#df-d2107181-6ae5-4818-ad3f-842b2013c77f button');\n",
              "      quickchartButtonEl.style.display =\n",
              "        google.colab.kernel.accessAllowed ? 'block' : 'none';\n",
              "    })();\n",
              "  </script>\n",
              "</div>\n",
              "\n",
              "    </div>\n",
              "  </div>\n"
            ],
            "application/vnd.google.colaboratory.intrinsic+json": {
              "type": "dataframe",
              "variable_name": "prop",
              "summary": "{\n  \"name\": \"prop\",\n  \"rows\": 2227,\n  \"fields\": [\n    {\n      \"column\": \"Unnamed: 0\",\n      \"properties\": {\n        \"dtype\": \"number\",\n        \"std\": 657,\n        \"min\": 0,\n        \"max\": 2274,\n        \"num_unique_values\": 2227,\n        \"samples\": [\n          56,\n          504,\n          1713\n        ],\n        \"semantic_type\": \"\",\n        \"description\": \"\"\n      }\n    },\n    {\n      \"column\": \"region\",\n      \"properties\": {\n        \"dtype\": \"category\",\n        \"num_unique_values\": 8,\n        \"samples\": [\n          \"Unknown\",\n          \"GR\",\n          \"TOR\"\n        ],\n        \"semantic_type\": \"\",\n        \"description\": \"\"\n      }\n    },\n    {\n      \"column\": \"prev_rfs\",\n      \"properties\": {\n        \"dtype\": \"category\",\n        \"num_unique_values\": 3,\n        \"samples\": [\n          \"Yes\",\n          \"No\",\n          \"-\"\n        ],\n        \"semantic_type\": \"\",\n        \"description\": \"\"\n      }\n    },\n    {\n      \"column\": \"reminder\",\n      \"properties\": {\n        \"dtype\": \"category\",\n        \"num_unique_values\": 3,\n        \"samples\": [\n          \"No\",\n          \"Yes\",\n          \"-\"\n        ],\n        \"semantic_type\": \"\",\n        \"description\": \"\"\n      }\n    },\n    {\n      \"column\": \"fee_probable\",\n      \"properties\": {\n        \"dtype\": \"number\",\n        \"std\": 26689.000435587237,\n        \"min\": 195.0,\n        \"max\": 598770.0,\n        \"num_unique_values\": 525,\n        \"samples\": [\n          8695.0,\n          20395.0,\n          2450.0\n        ],\n        \"semantic_type\": \"\",\n        \"description\": \"\"\n      }\n    },\n    {\n      \"column\": \"outcome\",\n      \"properties\": {\n        \"dtype\": \"number\",\n        \"std\": 0,\n        \"min\": 0,\n        \"max\": 1,\n        \"num_unique_values\": 2,\n        \"samples\": [\n          0,\n          1\n        ],\n        \"semantic_type\": \"\",\n        \"description\": \"\"\n      }\n    },\n    {\n      \"column\": \"project_type\",\n      \"properties\": {\n        \"dtype\": \"category\",\n        \"num_unique_values\": 10,\n        \"samples\": [\n          \"PCA\",\n          \"Other\"\n        ],\n        \"semantic_type\": \"\",\n        \"description\": \"\"\n      }\n    },\n    {\n      \"column\": \"building_type\",\n      \"properties\": {\n        \"dtype\": \"category\",\n        \"num_unique_values\": 7,\n        \"samples\": [\n          \"unknown\",\n          \"residential\"\n        ],\n        \"semantic_type\": \"\",\n        \"description\": \"\"\n      }\n    },\n    {\n      \"column\": \"units\",\n      \"properties\": {\n        \"dtype\": \"number\",\n        \"std\": 134.4542984864445,\n        \"min\": 1.0,\n        \"max\": 1343.0,\n        \"num_unique_values\": 318,\n        \"samples\": [\n          318.0,\n          308.0\n        ],\n        \"semantic_type\": \"\",\n        \"description\": \"\"\n      }\n    },\n    {\n      \"column\": \"sow\",\n      \"properties\": {\n        \"dtype\": \"category\",\n        \"num_unique_values\": 31,\n        \"samples\": [\n          \"Structural\",\n          \"Envelope\"\n        ],\n        \"semantic_type\": \"\",\n        \"description\": \"\"\n      }\n    }\n  ]\n}"
            }
          },
          "metadata": {},
          "execution_count": 9
        }
      ]
    },
    {
      "cell_type": "markdown",
      "source": [
        "# **Classifier: outcome**"
      ],
      "metadata": {
        "id": "ia8rx1RF7Nx8"
      }
    },
    {
      "cell_type": "markdown",
      "source": [
        "outcome is the the final classification that we will be looking to predict for both the RFS and ALL models. This column has already been cleaned, but lets take a look again just to make sure it is good to go from a modelling perspective"
      ],
      "metadata": {
        "id": "Wx7_4O0U7VJZ"
      }
    },
    {
      "cell_type": "code",
      "source": [
        "prop['outcome'].value_counts(dropna=False)"
      ],
      "metadata": {
        "colab": {
          "base_uri": "https://localhost:8080/",
          "height": 215
        },
        "id": "cqsasTvw7jMt",
        "outputId": "57247557-d991-48b1-f268-7215aa7cceac"
      },
      "execution_count": 10,
      "outputs": [
        {
          "output_type": "execute_result",
          "data": {
            "text/plain": [
              "outcome\n",
              "0    1125\n",
              "1    1102\n",
              "Name: count, dtype: int64"
            ],
            "text/html": [
              "<div>\n",
              "<style scoped>\n",
              "    .dataframe tbody tr th:only-of-type {\n",
              "        vertical-align: middle;\n",
              "    }\n",
              "\n",
              "    .dataframe tbody tr th {\n",
              "        vertical-align: top;\n",
              "    }\n",
              "\n",
              "    .dataframe thead th {\n",
              "        text-align: right;\n",
              "    }\n",
              "</style>\n",
              "<table border=\"1\" class=\"dataframe\">\n",
              "  <thead>\n",
              "    <tr style=\"text-align: right;\">\n",
              "      <th></th>\n",
              "      <th>count</th>\n",
              "    </tr>\n",
              "    <tr>\n",
              "      <th>outcome</th>\n",
              "      <th></th>\n",
              "    </tr>\n",
              "  </thead>\n",
              "  <tbody>\n",
              "    <tr>\n",
              "      <th>0</th>\n",
              "      <td>1125</td>\n",
              "    </tr>\n",
              "    <tr>\n",
              "      <th>1</th>\n",
              "      <td>1102</td>\n",
              "    </tr>\n",
              "  </tbody>\n",
              "</table>\n",
              "</div><br><label><b>dtype:</b> int64</label>"
            ]
          },
          "metadata": {},
          "execution_count": 10
        }
      ]
    },
    {
      "cell_type": "markdown",
      "source": [
        "Confirmed that there are no nulls in this column and everything is classified as 0 for loss or 1 for win"
      ],
      "metadata": {
        "id": "RP4tal3R8Y59"
      }
    },
    {
      "cell_type": "markdown",
      "source": [
        "# **ALL Model Feature Prep**"
      ],
      "metadata": {
        "id": "XUNo5qKK8gcu"
      }
    },
    {
      "cell_type": "markdown",
      "source": [
        "This model will be applied across all project types"
      ],
      "metadata": {
        "id": "Ckw7tShwBRoi"
      }
    },
    {
      "cell_type": "markdown",
      "source": [
        "There were only three columns that were identified as usable for All projects types:\n",
        "*   region\n",
        "*   fee_probable\n",
        "*   project_type\n",
        "\n",
        "\n",
        "\n",
        "\n",
        "\n",
        "\n"
      ],
      "metadata": {
        "id": "dK48BSWv8pSE"
      }
    },
    {
      "cell_type": "markdown",
      "source": [
        "The grouping of the project_type column was called into question during EDA, so we will also bring in 'sow' to help evaluate and refine the grouping"
      ],
      "metadata": {
        "id": "9z-kwwtxCV39"
      }
    },
    {
      "cell_type": "code",
      "source": [
        "all = prop[['region', 'fee_probable', 'project_type', 'outcome', 'sow']]"
      ],
      "metadata": {
        "id": "IRoED56tBQ9O"
      },
      "execution_count": 11,
      "outputs": []
    },
    {
      "cell_type": "code",
      "source": [
        "all.info()"
      ],
      "metadata": {
        "colab": {
          "base_uri": "https://localhost:8080/"
        },
        "id": "Ba-cV6YgB3K5",
        "outputId": "4042bc2a-ef80-4d60-a337-27eecda84c9a"
      },
      "execution_count": 12,
      "outputs": [
        {
          "output_type": "stream",
          "name": "stdout",
          "text": [
            "<class 'pandas.core.frame.DataFrame'>\n",
            "Index: 2227 entries, 0 to 2274\n",
            "Data columns (total 5 columns):\n",
            " #   Column        Non-Null Count  Dtype  \n",
            "---  ------        --------------  -----  \n",
            " 0   region        2227 non-null   object \n",
            " 1   fee_probable  2225 non-null   float64\n",
            " 2   project_type  2227 non-null   object \n",
            " 3   outcome       2227 non-null   int64  \n",
            " 4   sow           2227 non-null   object \n",
            "dtypes: float64(1), int64(1), object(3)\n",
            "memory usage: 104.4+ KB\n"
          ]
        }
      ]
    },
    {
      "cell_type": "code",
      "source": [
        "all = all.reset_index(drop = False)"
      ],
      "metadata": {
        "id": "tMQMDtkYBSov"
      },
      "execution_count": 13,
      "outputs": []
    },
    {
      "cell_type": "code",
      "source": [
        "all.info()"
      ],
      "metadata": {
        "colab": {
          "base_uri": "https://localhost:8080/"
        },
        "id": "AgSa7hD9Bk1P",
        "outputId": "075da790-e6c8-4734-d73e-eacf9809b393"
      },
      "execution_count": 14,
      "outputs": [
        {
          "output_type": "stream",
          "name": "stdout",
          "text": [
            "<class 'pandas.core.frame.DataFrame'>\n",
            "RangeIndex: 2227 entries, 0 to 2226\n",
            "Data columns (total 6 columns):\n",
            " #   Column        Non-Null Count  Dtype  \n",
            "---  ------        --------------  -----  \n",
            " 0   Unnamed: 0    2227 non-null   int64  \n",
            " 1   region        2227 non-null   object \n",
            " 2   fee_probable  2225 non-null   float64\n",
            " 3   project_type  2227 non-null   object \n",
            " 4   outcome       2227 non-null   int64  \n",
            " 5   sow           2227 non-null   object \n",
            "dtypes: float64(1), int64(2), object(3)\n",
            "memory usage: 104.5+ KB\n"
          ]
        }
      ]
    },
    {
      "cell_type": "markdown",
      "source": [
        "**project_type**"
      ],
      "metadata": {
        "id": "x_0M2HdPBtCN"
      }
    },
    {
      "cell_type": "code",
      "source": [
        "all['project_type'].value_counts(dropna=False)"
      ],
      "metadata": {
        "colab": {
          "base_uri": "https://localhost:8080/",
          "height": 484
        },
        "id": "G7FO8XoLCDeP",
        "outputId": "f9ea8031-aec9-4ea2-b4fd-05513cff2531"
      },
      "execution_count": 15,
      "outputs": [
        {
          "output_type": "execute_result",
          "data": {
            "text/plain": [
              "project_type\n",
              "RFS                 1320\n",
              "Consult              181\n",
              "Envelope             144\n",
              "Roofing              105\n",
              "Other                 95\n",
              "Garage                92\n",
              "PCA                   91\n",
              "PA & Class 1 RFS      84\n",
              "BCA                   70\n",
              "Mechanical            45\n",
              "Name: count, dtype: int64"
            ],
            "text/html": [
              "<div>\n",
              "<style scoped>\n",
              "    .dataframe tbody tr th:only-of-type {\n",
              "        vertical-align: middle;\n",
              "    }\n",
              "\n",
              "    .dataframe tbody tr th {\n",
              "        vertical-align: top;\n",
              "    }\n",
              "\n",
              "    .dataframe thead th {\n",
              "        text-align: right;\n",
              "    }\n",
              "</style>\n",
              "<table border=\"1\" class=\"dataframe\">\n",
              "  <thead>\n",
              "    <tr style=\"text-align: right;\">\n",
              "      <th></th>\n",
              "      <th>count</th>\n",
              "    </tr>\n",
              "    <tr>\n",
              "      <th>project_type</th>\n",
              "      <th></th>\n",
              "    </tr>\n",
              "  </thead>\n",
              "  <tbody>\n",
              "    <tr>\n",
              "      <th>RFS</th>\n",
              "      <td>1320</td>\n",
              "    </tr>\n",
              "    <tr>\n",
              "      <th>Consult</th>\n",
              "      <td>181</td>\n",
              "    </tr>\n",
              "    <tr>\n",
              "      <th>Envelope</th>\n",
              "      <td>144</td>\n",
              "    </tr>\n",
              "    <tr>\n",
              "      <th>Roofing</th>\n",
              "      <td>105</td>\n",
              "    </tr>\n",
              "    <tr>\n",
              "      <th>Other</th>\n",
              "      <td>95</td>\n",
              "    </tr>\n",
              "    <tr>\n",
              "      <th>Garage</th>\n",
              "      <td>92</td>\n",
              "    </tr>\n",
              "    <tr>\n",
              "      <th>PCA</th>\n",
              "      <td>91</td>\n",
              "    </tr>\n",
              "    <tr>\n",
              "      <th>PA &amp; Class 1 RFS</th>\n",
              "      <td>84</td>\n",
              "    </tr>\n",
              "    <tr>\n",
              "      <th>BCA</th>\n",
              "      <td>70</td>\n",
              "    </tr>\n",
              "    <tr>\n",
              "      <th>Mechanical</th>\n",
              "      <td>45</td>\n",
              "    </tr>\n",
              "  </tbody>\n",
              "</table>\n",
              "</div><br><label><b>dtype:</b> int64</label>"
            ]
          },
          "metadata": {},
          "execution_count": 15
        }
      ]
    },
    {
      "cell_type": "markdown",
      "source": [
        "During EDA, project_type was found to have impact, but it was also found to be perhaps a bit too high-level. We will be evaluating whether the project_types can be better grouped using the sow column. To this end, we'll start with one-hot encoding both the project_type and will revisit this later"
      ],
      "metadata": {
        "id": "gAOrN_hABxFq"
      }
    },
    {
      "cell_type": "code",
      "source": [
        "all = pd.get_dummies(all, columns=['project_type'], prefix = 'project_type')"
      ],
      "metadata": {
        "id": "iiGIimwObTgk"
      },
      "execution_count": 16,
      "outputs": []
    },
    {
      "cell_type": "code",
      "source": [
        "all.head()"
      ],
      "metadata": {
        "colab": {
          "base_uri": "https://localhost:8080/",
          "height": 330
        },
        "id": "tlqW2D2ubeNM",
        "outputId": "0e3d7ce2-ad92-4414-bf8d-0da3e0accc3f"
      },
      "execution_count": 17,
      "outputs": [
        {
          "output_type": "execute_result",
          "data": {
            "text/plain": [
              "   Unnamed: 0   region  fee_probable  outcome          sow  project_type_BCA  \\\n",
              "0           0      TOR        2795.0        1   Update RFS             False   \n",
              "1           1      TOR        2500.0        0  Class 2 RFS             False   \n",
              "2           2      TOR        3795.0        1   Update RFS             False   \n",
              "3           3  Unknown        1508.0        1  Class 3 RFS             False   \n",
              "4           4      TOR        5825.0        0  Class 2 RFS             False   \n",
              "\n",
              "   project_type_Consult  project_type_Envelope  project_type_Garage  \\\n",
              "0                 False                  False                False   \n",
              "1                 False                  False                False   \n",
              "2                 False                  False                False   \n",
              "3                 False                  False                False   \n",
              "4                 False                  False                False   \n",
              "\n",
              "   project_type_Mechanical  project_type_Other  project_type_PA & Class 1 RFS  \\\n",
              "0                    False               False                          False   \n",
              "1                    False               False                          False   \n",
              "2                    False               False                          False   \n",
              "3                    False               False                          False   \n",
              "4                    False               False                          False   \n",
              "\n",
              "   project_type_PCA  project_type_RFS  project_type_Roofing  \n",
              "0             False              True                 False  \n",
              "1             False              True                 False  \n",
              "2             False              True                 False  \n",
              "3             False              True                 False  \n",
              "4             False              True                 False  "
            ],
            "text/html": [
              "\n",
              "  <div id=\"df-49e85b67-9454-4ed0-acb9-fd71a45cf0c5\" class=\"colab-df-container\">\n",
              "    <div>\n",
              "<style scoped>\n",
              "    .dataframe tbody tr th:only-of-type {\n",
              "        vertical-align: middle;\n",
              "    }\n",
              "\n",
              "    .dataframe tbody tr th {\n",
              "        vertical-align: top;\n",
              "    }\n",
              "\n",
              "    .dataframe thead th {\n",
              "        text-align: right;\n",
              "    }\n",
              "</style>\n",
              "<table border=\"1\" class=\"dataframe\">\n",
              "  <thead>\n",
              "    <tr style=\"text-align: right;\">\n",
              "      <th></th>\n",
              "      <th>Unnamed: 0</th>\n",
              "      <th>region</th>\n",
              "      <th>fee_probable</th>\n",
              "      <th>outcome</th>\n",
              "      <th>sow</th>\n",
              "      <th>project_type_BCA</th>\n",
              "      <th>project_type_Consult</th>\n",
              "      <th>project_type_Envelope</th>\n",
              "      <th>project_type_Garage</th>\n",
              "      <th>project_type_Mechanical</th>\n",
              "      <th>project_type_Other</th>\n",
              "      <th>project_type_PA &amp; Class 1 RFS</th>\n",
              "      <th>project_type_PCA</th>\n",
              "      <th>project_type_RFS</th>\n",
              "      <th>project_type_Roofing</th>\n",
              "    </tr>\n",
              "  </thead>\n",
              "  <tbody>\n",
              "    <tr>\n",
              "      <th>0</th>\n",
              "      <td>0</td>\n",
              "      <td>TOR</td>\n",
              "      <td>2795.0</td>\n",
              "      <td>1</td>\n",
              "      <td>Update RFS</td>\n",
              "      <td>False</td>\n",
              "      <td>False</td>\n",
              "      <td>False</td>\n",
              "      <td>False</td>\n",
              "      <td>False</td>\n",
              "      <td>False</td>\n",
              "      <td>False</td>\n",
              "      <td>False</td>\n",
              "      <td>True</td>\n",
              "      <td>False</td>\n",
              "    </tr>\n",
              "    <tr>\n",
              "      <th>1</th>\n",
              "      <td>1</td>\n",
              "      <td>TOR</td>\n",
              "      <td>2500.0</td>\n",
              "      <td>0</td>\n",
              "      <td>Class 2 RFS</td>\n",
              "      <td>False</td>\n",
              "      <td>False</td>\n",
              "      <td>False</td>\n",
              "      <td>False</td>\n",
              "      <td>False</td>\n",
              "      <td>False</td>\n",
              "      <td>False</td>\n",
              "      <td>False</td>\n",
              "      <td>True</td>\n",
              "      <td>False</td>\n",
              "    </tr>\n",
              "    <tr>\n",
              "      <th>2</th>\n",
              "      <td>2</td>\n",
              "      <td>TOR</td>\n",
              "      <td>3795.0</td>\n",
              "      <td>1</td>\n",
              "      <td>Update RFS</td>\n",
              "      <td>False</td>\n",
              "      <td>False</td>\n",
              "      <td>False</td>\n",
              "      <td>False</td>\n",
              "      <td>False</td>\n",
              "      <td>False</td>\n",
              "      <td>False</td>\n",
              "      <td>False</td>\n",
              "      <td>True</td>\n",
              "      <td>False</td>\n",
              "    </tr>\n",
              "    <tr>\n",
              "      <th>3</th>\n",
              "      <td>3</td>\n",
              "      <td>Unknown</td>\n",
              "      <td>1508.0</td>\n",
              "      <td>1</td>\n",
              "      <td>Class 3 RFS</td>\n",
              "      <td>False</td>\n",
              "      <td>False</td>\n",
              "      <td>False</td>\n",
              "      <td>False</td>\n",
              "      <td>False</td>\n",
              "      <td>False</td>\n",
              "      <td>False</td>\n",
              "      <td>False</td>\n",
              "      <td>True</td>\n",
              "      <td>False</td>\n",
              "    </tr>\n",
              "    <tr>\n",
              "      <th>4</th>\n",
              "      <td>4</td>\n",
              "      <td>TOR</td>\n",
              "      <td>5825.0</td>\n",
              "      <td>0</td>\n",
              "      <td>Class 2 RFS</td>\n",
              "      <td>False</td>\n",
              "      <td>False</td>\n",
              "      <td>False</td>\n",
              "      <td>False</td>\n",
              "      <td>False</td>\n",
              "      <td>False</td>\n",
              "      <td>False</td>\n",
              "      <td>False</td>\n",
              "      <td>True</td>\n",
              "      <td>False</td>\n",
              "    </tr>\n",
              "  </tbody>\n",
              "</table>\n",
              "</div>\n",
              "    <div class=\"colab-df-buttons\">\n",
              "\n",
              "  <div class=\"colab-df-container\">\n",
              "    <button class=\"colab-df-convert\" onclick=\"convertToInteractive('df-49e85b67-9454-4ed0-acb9-fd71a45cf0c5')\"\n",
              "            title=\"Convert this dataframe to an interactive table.\"\n",
              "            style=\"display:none;\">\n",
              "\n",
              "  <svg xmlns=\"http://www.w3.org/2000/svg\" height=\"24px\" viewBox=\"0 -960 960 960\">\n",
              "    <path d=\"M120-120v-720h720v720H120Zm60-500h600v-160H180v160Zm220 220h160v-160H400v160Zm0 220h160v-160H400v160ZM180-400h160v-160H180v160Zm440 0h160v-160H620v160ZM180-180h160v-160H180v160Zm440 0h160v-160H620v160Z\"/>\n",
              "  </svg>\n",
              "    </button>\n",
              "\n",
              "  <style>\n",
              "    .colab-df-container {\n",
              "      display:flex;\n",
              "      gap: 12px;\n",
              "    }\n",
              "\n",
              "    .colab-df-convert {\n",
              "      background-color: #E8F0FE;\n",
              "      border: none;\n",
              "      border-radius: 50%;\n",
              "      cursor: pointer;\n",
              "      display: none;\n",
              "      fill: #1967D2;\n",
              "      height: 32px;\n",
              "      padding: 0 0 0 0;\n",
              "      width: 32px;\n",
              "    }\n",
              "\n",
              "    .colab-df-convert:hover {\n",
              "      background-color: #E2EBFA;\n",
              "      box-shadow: 0px 1px 2px rgba(60, 64, 67, 0.3), 0px 1px 3px 1px rgba(60, 64, 67, 0.15);\n",
              "      fill: #174EA6;\n",
              "    }\n",
              "\n",
              "    .colab-df-buttons div {\n",
              "      margin-bottom: 4px;\n",
              "    }\n",
              "\n",
              "    [theme=dark] .colab-df-convert {\n",
              "      background-color: #3B4455;\n",
              "      fill: #D2E3FC;\n",
              "    }\n",
              "\n",
              "    [theme=dark] .colab-df-convert:hover {\n",
              "      background-color: #434B5C;\n",
              "      box-shadow: 0px 1px 3px 1px rgba(0, 0, 0, 0.15);\n",
              "      filter: drop-shadow(0px 1px 2px rgba(0, 0, 0, 0.3));\n",
              "      fill: #FFFFFF;\n",
              "    }\n",
              "  </style>\n",
              "\n",
              "    <script>\n",
              "      const buttonEl =\n",
              "        document.querySelector('#df-49e85b67-9454-4ed0-acb9-fd71a45cf0c5 button.colab-df-convert');\n",
              "      buttonEl.style.display =\n",
              "        google.colab.kernel.accessAllowed ? 'block' : 'none';\n",
              "\n",
              "      async function convertToInteractive(key) {\n",
              "        const element = document.querySelector('#df-49e85b67-9454-4ed0-acb9-fd71a45cf0c5');\n",
              "        const dataTable =\n",
              "          await google.colab.kernel.invokeFunction('convertToInteractive',\n",
              "                                                    [key], {});\n",
              "        if (!dataTable) return;\n",
              "\n",
              "        const docLinkHtml = 'Like what you see? Visit the ' +\n",
              "          '<a target=\"_blank\" href=https://colab.research.google.com/notebooks/data_table.ipynb>data table notebook</a>'\n",
              "          + ' to learn more about interactive tables.';\n",
              "        element.innerHTML = '';\n",
              "        dataTable['output_type'] = 'display_data';\n",
              "        await google.colab.output.renderOutput(dataTable, element);\n",
              "        const docLink = document.createElement('div');\n",
              "        docLink.innerHTML = docLinkHtml;\n",
              "        element.appendChild(docLink);\n",
              "      }\n",
              "    </script>\n",
              "  </div>\n",
              "\n",
              "\n",
              "<div id=\"df-a2970440-3a64-4872-abf5-c511b5d23250\">\n",
              "  <button class=\"colab-df-quickchart\" onclick=\"quickchart('df-a2970440-3a64-4872-abf5-c511b5d23250')\"\n",
              "            title=\"Suggest charts\"\n",
              "            style=\"display:none;\">\n",
              "\n",
              "<svg xmlns=\"http://www.w3.org/2000/svg\" height=\"24px\"viewBox=\"0 0 24 24\"\n",
              "     width=\"24px\">\n",
              "    <g>\n",
              "        <path d=\"M19 3H5c-1.1 0-2 .9-2 2v14c0 1.1.9 2 2 2h14c1.1 0 2-.9 2-2V5c0-1.1-.9-2-2-2zM9 17H7v-7h2v7zm4 0h-2V7h2v10zm4 0h-2v-4h2v4z\"/>\n",
              "    </g>\n",
              "</svg>\n",
              "  </button>\n",
              "\n",
              "<style>\n",
              "  .colab-df-quickchart {\n",
              "      --bg-color: #E8F0FE;\n",
              "      --fill-color: #1967D2;\n",
              "      --hover-bg-color: #E2EBFA;\n",
              "      --hover-fill-color: #174EA6;\n",
              "      --disabled-fill-color: #AAA;\n",
              "      --disabled-bg-color: #DDD;\n",
              "  }\n",
              "\n",
              "  [theme=dark] .colab-df-quickchart {\n",
              "      --bg-color: #3B4455;\n",
              "      --fill-color: #D2E3FC;\n",
              "      --hover-bg-color: #434B5C;\n",
              "      --hover-fill-color: #FFFFFF;\n",
              "      --disabled-bg-color: #3B4455;\n",
              "      --disabled-fill-color: #666;\n",
              "  }\n",
              "\n",
              "  .colab-df-quickchart {\n",
              "    background-color: var(--bg-color);\n",
              "    border: none;\n",
              "    border-radius: 50%;\n",
              "    cursor: pointer;\n",
              "    display: none;\n",
              "    fill: var(--fill-color);\n",
              "    height: 32px;\n",
              "    padding: 0;\n",
              "    width: 32px;\n",
              "  }\n",
              "\n",
              "  .colab-df-quickchart:hover {\n",
              "    background-color: var(--hover-bg-color);\n",
              "    box-shadow: 0 1px 2px rgba(60, 64, 67, 0.3), 0 1px 3px 1px rgba(60, 64, 67, 0.15);\n",
              "    fill: var(--button-hover-fill-color);\n",
              "  }\n",
              "\n",
              "  .colab-df-quickchart-complete:disabled,\n",
              "  .colab-df-quickchart-complete:disabled:hover {\n",
              "    background-color: var(--disabled-bg-color);\n",
              "    fill: var(--disabled-fill-color);\n",
              "    box-shadow: none;\n",
              "  }\n",
              "\n",
              "  .colab-df-spinner {\n",
              "    border: 2px solid var(--fill-color);\n",
              "    border-color: transparent;\n",
              "    border-bottom-color: var(--fill-color);\n",
              "    animation:\n",
              "      spin 1s steps(1) infinite;\n",
              "  }\n",
              "\n",
              "  @keyframes spin {\n",
              "    0% {\n",
              "      border-color: transparent;\n",
              "      border-bottom-color: var(--fill-color);\n",
              "      border-left-color: var(--fill-color);\n",
              "    }\n",
              "    20% {\n",
              "      border-color: transparent;\n",
              "      border-left-color: var(--fill-color);\n",
              "      border-top-color: var(--fill-color);\n",
              "    }\n",
              "    30% {\n",
              "      border-color: transparent;\n",
              "      border-left-color: var(--fill-color);\n",
              "      border-top-color: var(--fill-color);\n",
              "      border-right-color: var(--fill-color);\n",
              "    }\n",
              "    40% {\n",
              "      border-color: transparent;\n",
              "      border-right-color: var(--fill-color);\n",
              "      border-top-color: var(--fill-color);\n",
              "    }\n",
              "    60% {\n",
              "      border-color: transparent;\n",
              "      border-right-color: var(--fill-color);\n",
              "    }\n",
              "    80% {\n",
              "      border-color: transparent;\n",
              "      border-right-color: var(--fill-color);\n",
              "      border-bottom-color: var(--fill-color);\n",
              "    }\n",
              "    90% {\n",
              "      border-color: transparent;\n",
              "      border-bottom-color: var(--fill-color);\n",
              "    }\n",
              "  }\n",
              "</style>\n",
              "\n",
              "  <script>\n",
              "    async function quickchart(key) {\n",
              "      const quickchartButtonEl =\n",
              "        document.querySelector('#' + key + ' button');\n",
              "      quickchartButtonEl.disabled = true;  // To prevent multiple clicks.\n",
              "      quickchartButtonEl.classList.add('colab-df-spinner');\n",
              "      try {\n",
              "        const charts = await google.colab.kernel.invokeFunction(\n",
              "            'suggestCharts', [key], {});\n",
              "      } catch (error) {\n",
              "        console.error('Error during call to suggestCharts:', error);\n",
              "      }\n",
              "      quickchartButtonEl.classList.remove('colab-df-spinner');\n",
              "      quickchartButtonEl.classList.add('colab-df-quickchart-complete');\n",
              "    }\n",
              "    (() => {\n",
              "      let quickchartButtonEl =\n",
              "        document.querySelector('#df-a2970440-3a64-4872-abf5-c511b5d23250 button');\n",
              "      quickchartButtonEl.style.display =\n",
              "        google.colab.kernel.accessAllowed ? 'block' : 'none';\n",
              "    })();\n",
              "  </script>\n",
              "</div>\n",
              "\n",
              "    </div>\n",
              "  </div>\n"
            ],
            "application/vnd.google.colaboratory.intrinsic+json": {
              "type": "dataframe",
              "variable_name": "all",
              "summary": "{\n  \"name\": \"all\",\n  \"rows\": 2227,\n  \"fields\": [\n    {\n      \"column\": \"Unnamed: 0\",\n      \"properties\": {\n        \"dtype\": \"number\",\n        \"std\": 657,\n        \"min\": 0,\n        \"max\": 2274,\n        \"num_unique_values\": 2227,\n        \"samples\": [\n          56,\n          504,\n          1713\n        ],\n        \"semantic_type\": \"\",\n        \"description\": \"\"\n      }\n    },\n    {\n      \"column\": \"region\",\n      \"properties\": {\n        \"dtype\": \"category\",\n        \"num_unique_values\": 8,\n        \"samples\": [\n          \"Unknown\",\n          \"GR\",\n          \"TOR\"\n        ],\n        \"semantic_type\": \"\",\n        \"description\": \"\"\n      }\n    },\n    {\n      \"column\": \"fee_probable\",\n      \"properties\": {\n        \"dtype\": \"number\",\n        \"std\": 26689.000435587237,\n        \"min\": 195.0,\n        \"max\": 598770.0,\n        \"num_unique_values\": 525,\n        \"samples\": [\n          8695.0,\n          20395.0,\n          2450.0\n        ],\n        \"semantic_type\": \"\",\n        \"description\": \"\"\n      }\n    },\n    {\n      \"column\": \"outcome\",\n      \"properties\": {\n        \"dtype\": \"number\",\n        \"std\": 0,\n        \"min\": 0,\n        \"max\": 1,\n        \"num_unique_values\": 2,\n        \"samples\": [\n          0,\n          1\n        ],\n        \"semantic_type\": \"\",\n        \"description\": \"\"\n      }\n    },\n    {\n      \"column\": \"sow\",\n      \"properties\": {\n        \"dtype\": \"category\",\n        \"num_unique_values\": 31,\n        \"samples\": [\n          \"Structural\",\n          \"Envelope\"\n        ],\n        \"semantic_type\": \"\",\n        \"description\": \"\"\n      }\n    },\n    {\n      \"column\": \"project_type_BCA\",\n      \"properties\": {\n        \"dtype\": \"boolean\",\n        \"num_unique_values\": 2,\n        \"samples\": [\n          true,\n          false\n        ],\n        \"semantic_type\": \"\",\n        \"description\": \"\"\n      }\n    },\n    {\n      \"column\": \"project_type_Consult\",\n      \"properties\": {\n        \"dtype\": \"boolean\",\n        \"num_unique_values\": 2,\n        \"samples\": [\n          true,\n          false\n        ],\n        \"semantic_type\": \"\",\n        \"description\": \"\"\n      }\n    },\n    {\n      \"column\": \"project_type_Envelope\",\n      \"properties\": {\n        \"dtype\": \"boolean\",\n        \"num_unique_values\": 2,\n        \"samples\": [\n          true,\n          false\n        ],\n        \"semantic_type\": \"\",\n        \"description\": \"\"\n      }\n    },\n    {\n      \"column\": \"project_type_Garage\",\n      \"properties\": {\n        \"dtype\": \"boolean\",\n        \"num_unique_values\": 2,\n        \"samples\": [\n          true,\n          false\n        ],\n        \"semantic_type\": \"\",\n        \"description\": \"\"\n      }\n    },\n    {\n      \"column\": \"project_type_Mechanical\",\n      \"properties\": {\n        \"dtype\": \"boolean\",\n        \"num_unique_values\": 2,\n        \"samples\": [\n          true,\n          false\n        ],\n        \"semantic_type\": \"\",\n        \"description\": \"\"\n      }\n    },\n    {\n      \"column\": \"project_type_Other\",\n      \"properties\": {\n        \"dtype\": \"boolean\",\n        \"num_unique_values\": 2,\n        \"samples\": [\n          true,\n          false\n        ],\n        \"semantic_type\": \"\",\n        \"description\": \"\"\n      }\n    },\n    {\n      \"column\": \"project_type_PA & Class 1 RFS\",\n      \"properties\": {\n        \"dtype\": \"boolean\",\n        \"num_unique_values\": 2,\n        \"samples\": [\n          true,\n          false\n        ],\n        \"semantic_type\": \"\",\n        \"description\": \"\"\n      }\n    },\n    {\n      \"column\": \"project_type_PCA\",\n      \"properties\": {\n        \"dtype\": \"boolean\",\n        \"num_unique_values\": 2,\n        \"samples\": [\n          true,\n          false\n        ],\n        \"semantic_type\": \"\",\n        \"description\": \"\"\n      }\n    },\n    {\n      \"column\": \"project_type_RFS\",\n      \"properties\": {\n        \"dtype\": \"boolean\",\n        \"num_unique_values\": 2,\n        \"samples\": [\n          false,\n          true\n        ],\n        \"semantic_type\": \"\",\n        \"description\": \"\"\n      }\n    },\n    {\n      \"column\": \"project_type_Roofing\",\n      \"properties\": {\n        \"dtype\": \"boolean\",\n        \"num_unique_values\": 2,\n        \"samples\": [\n          true,\n          false\n        ],\n        \"semantic_type\": \"\",\n        \"description\": \"\"\n      }\n    }\n  ]\n}"
            }
          },
          "metadata": {},
          "execution_count": 17
        }
      ]
    },
    {
      "cell_type": "markdown",
      "source": [
        "**sow**"
      ],
      "metadata": {
        "id": "GyWqxz8Ack94"
      }
    },
    {
      "cell_type": "code",
      "source": [
        "all['sow'].describe()"
      ],
      "metadata": {
        "colab": {
          "base_uri": "https://localhost:8080/",
          "height": 282
        },
        "id": "NQpw1OWgcj8l",
        "outputId": "118ae880-a8c6-466f-93a2-1333fd3e5f05"
      },
      "execution_count": 18,
      "outputs": [
        {
          "output_type": "execute_result",
          "data": {
            "text/plain": [
              "count            2227\n",
              "unique             31\n",
              "top       Class 2 RFS\n",
              "freq              815\n",
              "Name: sow, dtype: object"
            ],
            "text/html": [
              "<div>\n",
              "<style scoped>\n",
              "    .dataframe tbody tr th:only-of-type {\n",
              "        vertical-align: middle;\n",
              "    }\n",
              "\n",
              "    .dataframe tbody tr th {\n",
              "        vertical-align: top;\n",
              "    }\n",
              "\n",
              "    .dataframe thead th {\n",
              "        text-align: right;\n",
              "    }\n",
              "</style>\n",
              "<table border=\"1\" class=\"dataframe\">\n",
              "  <thead>\n",
              "    <tr style=\"text-align: right;\">\n",
              "      <th></th>\n",
              "      <th>sow</th>\n",
              "    </tr>\n",
              "  </thead>\n",
              "  <tbody>\n",
              "    <tr>\n",
              "      <th>count</th>\n",
              "      <td>2227</td>\n",
              "    </tr>\n",
              "    <tr>\n",
              "      <th>unique</th>\n",
              "      <td>31</td>\n",
              "    </tr>\n",
              "    <tr>\n",
              "      <th>top</th>\n",
              "      <td>Class 2 RFS</td>\n",
              "    </tr>\n",
              "    <tr>\n",
              "      <th>freq</th>\n",
              "      <td>815</td>\n",
              "    </tr>\n",
              "  </tbody>\n",
              "</table>\n",
              "</div><br><label><b>dtype:</b> object</label>"
            ]
          },
          "metadata": {},
          "execution_count": 18
        }
      ]
    },
    {
      "cell_type": "code",
      "source": [
        "all['sow'].value_counts(dropna=False)"
      ],
      "metadata": {
        "colab": {
          "base_uri": "https://localhost:8080/",
          "height": 1000
        },
        "id": "oZkS7Nbtc3Q-",
        "outputId": "382e4073-1857-4f88-832a-973bfe34fab3"
      },
      "execution_count": 19,
      "outputs": [
        {
          "output_type": "execute_result",
          "data": {
            "text/plain": [
              "sow\n",
              "Class 2 RFS            815\n",
              "Update RFS             447\n",
              "Consult                181\n",
              "Roofing                105\n",
              "Garage                  92\n",
              "PCA                     91\n",
              "PA & Class 1 RFS        84\n",
              "BCA                     66\n",
              "Envelope                64\n",
              "Mechanical              45\n",
              "Class 1 RFS             42\n",
              "Balcony                 35\n",
              "PA1, C1, PA2            25\n",
              "Pavement                23\n",
              "Structural              22\n",
              "Class 3 RFS             16\n",
              "Windows                 13\n",
              "Renovation              12\n",
              "Landscaping             12\n",
              "PA Year 7                6\n",
              "Sealants                 6\n",
              "C2 RFS with C3 Fee       5\n",
              "PA Follow-Up             4\n",
              "BCA & RFS                4\n",
              "PPA                      4\n",
              "Stairs                   3\n",
              "Electrical               1\n",
              "PA Year 1                1\n",
              "Doors                    1\n",
              "PA Year 2                1\n",
              "Accessibility Audit      1\n",
              "Name: count, dtype: int64"
            ],
            "text/html": [
              "<div>\n",
              "<style scoped>\n",
              "    .dataframe tbody tr th:only-of-type {\n",
              "        vertical-align: middle;\n",
              "    }\n",
              "\n",
              "    .dataframe tbody tr th {\n",
              "        vertical-align: top;\n",
              "    }\n",
              "\n",
              "    .dataframe thead th {\n",
              "        text-align: right;\n",
              "    }\n",
              "</style>\n",
              "<table border=\"1\" class=\"dataframe\">\n",
              "  <thead>\n",
              "    <tr style=\"text-align: right;\">\n",
              "      <th></th>\n",
              "      <th>count</th>\n",
              "    </tr>\n",
              "    <tr>\n",
              "      <th>sow</th>\n",
              "      <th></th>\n",
              "    </tr>\n",
              "  </thead>\n",
              "  <tbody>\n",
              "    <tr>\n",
              "      <th>Class 2 RFS</th>\n",
              "      <td>815</td>\n",
              "    </tr>\n",
              "    <tr>\n",
              "      <th>Update RFS</th>\n",
              "      <td>447</td>\n",
              "    </tr>\n",
              "    <tr>\n",
              "      <th>Consult</th>\n",
              "      <td>181</td>\n",
              "    </tr>\n",
              "    <tr>\n",
              "      <th>Roofing</th>\n",
              "      <td>105</td>\n",
              "    </tr>\n",
              "    <tr>\n",
              "      <th>Garage</th>\n",
              "      <td>92</td>\n",
              "    </tr>\n",
              "    <tr>\n",
              "      <th>PCA</th>\n",
              "      <td>91</td>\n",
              "    </tr>\n",
              "    <tr>\n",
              "      <th>PA &amp; Class 1 RFS</th>\n",
              "      <td>84</td>\n",
              "    </tr>\n",
              "    <tr>\n",
              "      <th>BCA</th>\n",
              "      <td>66</td>\n",
              "    </tr>\n",
              "    <tr>\n",
              "      <th>Envelope</th>\n",
              "      <td>64</td>\n",
              "    </tr>\n",
              "    <tr>\n",
              "      <th>Mechanical</th>\n",
              "      <td>45</td>\n",
              "    </tr>\n",
              "    <tr>\n",
              "      <th>Class 1 RFS</th>\n",
              "      <td>42</td>\n",
              "    </tr>\n",
              "    <tr>\n",
              "      <th>Balcony</th>\n",
              "      <td>35</td>\n",
              "    </tr>\n",
              "    <tr>\n",
              "      <th>PA1, C1, PA2</th>\n",
              "      <td>25</td>\n",
              "    </tr>\n",
              "    <tr>\n",
              "      <th>Pavement</th>\n",
              "      <td>23</td>\n",
              "    </tr>\n",
              "    <tr>\n",
              "      <th>Structural</th>\n",
              "      <td>22</td>\n",
              "    </tr>\n",
              "    <tr>\n",
              "      <th>Class 3 RFS</th>\n",
              "      <td>16</td>\n",
              "    </tr>\n",
              "    <tr>\n",
              "      <th>Windows</th>\n",
              "      <td>13</td>\n",
              "    </tr>\n",
              "    <tr>\n",
              "      <th>Renovation</th>\n",
              "      <td>12</td>\n",
              "    </tr>\n",
              "    <tr>\n",
              "      <th>Landscaping</th>\n",
              "      <td>12</td>\n",
              "    </tr>\n",
              "    <tr>\n",
              "      <th>PA Year 7</th>\n",
              "      <td>6</td>\n",
              "    </tr>\n",
              "    <tr>\n",
              "      <th>Sealants</th>\n",
              "      <td>6</td>\n",
              "    </tr>\n",
              "    <tr>\n",
              "      <th>C2 RFS with C3 Fee</th>\n",
              "      <td>5</td>\n",
              "    </tr>\n",
              "    <tr>\n",
              "      <th>PA Follow-Up</th>\n",
              "      <td>4</td>\n",
              "    </tr>\n",
              "    <tr>\n",
              "      <th>BCA &amp; RFS</th>\n",
              "      <td>4</td>\n",
              "    </tr>\n",
              "    <tr>\n",
              "      <th>PPA</th>\n",
              "      <td>4</td>\n",
              "    </tr>\n",
              "    <tr>\n",
              "      <th>Stairs</th>\n",
              "      <td>3</td>\n",
              "    </tr>\n",
              "    <tr>\n",
              "      <th>Electrical</th>\n",
              "      <td>1</td>\n",
              "    </tr>\n",
              "    <tr>\n",
              "      <th>PA Year 1</th>\n",
              "      <td>1</td>\n",
              "    </tr>\n",
              "    <tr>\n",
              "      <th>Doors</th>\n",
              "      <td>1</td>\n",
              "    </tr>\n",
              "    <tr>\n",
              "      <th>PA Year 2</th>\n",
              "      <td>1</td>\n",
              "    </tr>\n",
              "    <tr>\n",
              "      <th>Accessibility Audit</th>\n",
              "      <td>1</td>\n",
              "    </tr>\n",
              "  </tbody>\n",
              "</table>\n",
              "</div><br><label><b>dtype:</b> int64</label>"
            ]
          },
          "metadata": {},
          "execution_count": 19
        }
      ]
    },
    {
      "cell_type": "markdown",
      "source": [
        "We'll group anything under 20 as 'Other'"
      ],
      "metadata": {
        "id": "Yhy7_X-HdQNO"
      }
    },
    {
      "cell_type": "code",
      "source": [
        "counts = all['sow'].value_counts()\n",
        "mask = all['sow'].isin(counts[counts < 20].index)\n",
        "all.loc[mask, 'sow'] = 'Other'"
      ],
      "metadata": {
        "id": "x5DZjap7dJX0"
      },
      "execution_count": 20,
      "outputs": []
    },
    {
      "cell_type": "code",
      "source": [
        "all['sow'].describe()"
      ],
      "metadata": {
        "colab": {
          "base_uri": "https://localhost:8080/",
          "height": 282
        },
        "id": "oZ-Fb6zhd7ZM",
        "outputId": "d948559c-5a15-48d5-f7a0-f3224aa57b1a"
      },
      "execution_count": 21,
      "outputs": [
        {
          "output_type": "execute_result",
          "data": {
            "text/plain": [
              "count            2227\n",
              "unique             16\n",
              "top       Class 2 RFS\n",
              "freq              815\n",
              "Name: sow, dtype: object"
            ],
            "text/html": [
              "<div>\n",
              "<style scoped>\n",
              "    .dataframe tbody tr th:only-of-type {\n",
              "        vertical-align: middle;\n",
              "    }\n",
              "\n",
              "    .dataframe tbody tr th {\n",
              "        vertical-align: top;\n",
              "    }\n",
              "\n",
              "    .dataframe thead th {\n",
              "        text-align: right;\n",
              "    }\n",
              "</style>\n",
              "<table border=\"1\" class=\"dataframe\">\n",
              "  <thead>\n",
              "    <tr style=\"text-align: right;\">\n",
              "      <th></th>\n",
              "      <th>sow</th>\n",
              "    </tr>\n",
              "  </thead>\n",
              "  <tbody>\n",
              "    <tr>\n",
              "      <th>count</th>\n",
              "      <td>2227</td>\n",
              "    </tr>\n",
              "    <tr>\n",
              "      <th>unique</th>\n",
              "      <td>16</td>\n",
              "    </tr>\n",
              "    <tr>\n",
              "      <th>top</th>\n",
              "      <td>Class 2 RFS</td>\n",
              "    </tr>\n",
              "    <tr>\n",
              "      <th>freq</th>\n",
              "      <td>815</td>\n",
              "    </tr>\n",
              "  </tbody>\n",
              "</table>\n",
              "</div><br><label><b>dtype:</b> object</label>"
            ]
          },
          "metadata": {},
          "execution_count": 21
        }
      ]
    },
    {
      "cell_type": "markdown",
      "source": [
        "Now the column is ready to be made into dummies"
      ],
      "metadata": {
        "id": "5RsZBgnmeZkt"
      }
    },
    {
      "cell_type": "code",
      "source": [
        "all = pd.get_dummies(all, columns=['sow'], prefix = 'sow')"
      ],
      "metadata": {
        "id": "qdKD3Co0ekL2"
      },
      "execution_count": 22,
      "outputs": []
    },
    {
      "cell_type": "markdown",
      "source": [
        "**Region**"
      ],
      "metadata": {
        "id": "h-O8t5SMBB_G"
      }
    },
    {
      "cell_type": "markdown",
      "source": [
        "This column has already been cleaned since it was grouped from a more detailed indicator. We'll check for completeness just in case"
      ],
      "metadata": {
        "id": "5Rn6uq47BEc0"
      }
    },
    {
      "cell_type": "code",
      "source": [
        "all['region'].value_counts(dropna=False)"
      ],
      "metadata": {
        "colab": {
          "base_uri": "https://localhost:8080/",
          "height": 404
        },
        "id": "IIaBcRcQEwcL",
        "outputId": "68b620fa-4f60-4fe7-9e3e-fae3533b1a5d"
      },
      "execution_count": 23,
      "outputs": [
        {
          "output_type": "execute_result",
          "data": {
            "text/plain": [
              "region\n",
              "TOR        1205\n",
              "EO          331\n",
              "Unknown     326\n",
              "HUR         243\n",
              "GH           91\n",
              "LON          13\n",
              "GR           12\n",
              "WIN           6\n",
              "Name: count, dtype: int64"
            ],
            "text/html": [
              "<div>\n",
              "<style scoped>\n",
              "    .dataframe tbody tr th:only-of-type {\n",
              "        vertical-align: middle;\n",
              "    }\n",
              "\n",
              "    .dataframe tbody tr th {\n",
              "        vertical-align: top;\n",
              "    }\n",
              "\n",
              "    .dataframe thead th {\n",
              "        text-align: right;\n",
              "    }\n",
              "</style>\n",
              "<table border=\"1\" class=\"dataframe\">\n",
              "  <thead>\n",
              "    <tr style=\"text-align: right;\">\n",
              "      <th></th>\n",
              "      <th>count</th>\n",
              "    </tr>\n",
              "    <tr>\n",
              "      <th>region</th>\n",
              "      <th></th>\n",
              "    </tr>\n",
              "  </thead>\n",
              "  <tbody>\n",
              "    <tr>\n",
              "      <th>TOR</th>\n",
              "      <td>1205</td>\n",
              "    </tr>\n",
              "    <tr>\n",
              "      <th>EO</th>\n",
              "      <td>331</td>\n",
              "    </tr>\n",
              "    <tr>\n",
              "      <th>Unknown</th>\n",
              "      <td>326</td>\n",
              "    </tr>\n",
              "    <tr>\n",
              "      <th>HUR</th>\n",
              "      <td>243</td>\n",
              "    </tr>\n",
              "    <tr>\n",
              "      <th>GH</th>\n",
              "      <td>91</td>\n",
              "    </tr>\n",
              "    <tr>\n",
              "      <th>LON</th>\n",
              "      <td>13</td>\n",
              "    </tr>\n",
              "    <tr>\n",
              "      <th>GR</th>\n",
              "      <td>12</td>\n",
              "    </tr>\n",
              "    <tr>\n",
              "      <th>WIN</th>\n",
              "      <td>6</td>\n",
              "    </tr>\n",
              "  </tbody>\n",
              "</table>\n",
              "</div><br><label><b>dtype:</b> int64</label>"
            ]
          },
          "metadata": {},
          "execution_count": 23
        }
      ]
    },
    {
      "cell_type": "code",
      "source": [
        "#Lets roll the low-count regions into an 'Other' category\n",
        "all['region'] = all['region'].replace({\n",
        "    'WIN': 'Other',\n",
        "    'GR': 'Other',\n",
        "    'LON': 'Other'\n",
        "})"
      ],
      "metadata": {
        "id": "7xItjeSeE6Wh"
      },
      "execution_count": 24,
      "outputs": []
    },
    {
      "cell_type": "code",
      "source": [
        "all['region'].value_counts(dropna=False)"
      ],
      "metadata": {
        "colab": {
          "base_uri": "https://localhost:8080/",
          "height": 341
        },
        "id": "Hgjmn8ZnHOo6",
        "outputId": "d3fc2ef9-86ca-425c-a72d-867b325e6527"
      },
      "execution_count": 25,
      "outputs": [
        {
          "output_type": "execute_result",
          "data": {
            "text/plain": [
              "region\n",
              "TOR        1205\n",
              "EO          331\n",
              "Unknown     326\n",
              "HUR         243\n",
              "GH           91\n",
              "Other        31\n",
              "Name: count, dtype: int64"
            ],
            "text/html": [
              "<div>\n",
              "<style scoped>\n",
              "    .dataframe tbody tr th:only-of-type {\n",
              "        vertical-align: middle;\n",
              "    }\n",
              "\n",
              "    .dataframe tbody tr th {\n",
              "        vertical-align: top;\n",
              "    }\n",
              "\n",
              "    .dataframe thead th {\n",
              "        text-align: right;\n",
              "    }\n",
              "</style>\n",
              "<table border=\"1\" class=\"dataframe\">\n",
              "  <thead>\n",
              "    <tr style=\"text-align: right;\">\n",
              "      <th></th>\n",
              "      <th>count</th>\n",
              "    </tr>\n",
              "    <tr>\n",
              "      <th>region</th>\n",
              "      <th></th>\n",
              "    </tr>\n",
              "  </thead>\n",
              "  <tbody>\n",
              "    <tr>\n",
              "      <th>TOR</th>\n",
              "      <td>1205</td>\n",
              "    </tr>\n",
              "    <tr>\n",
              "      <th>EO</th>\n",
              "      <td>331</td>\n",
              "    </tr>\n",
              "    <tr>\n",
              "      <th>Unknown</th>\n",
              "      <td>326</td>\n",
              "    </tr>\n",
              "    <tr>\n",
              "      <th>HUR</th>\n",
              "      <td>243</td>\n",
              "    </tr>\n",
              "    <tr>\n",
              "      <th>GH</th>\n",
              "      <td>91</td>\n",
              "    </tr>\n",
              "    <tr>\n",
              "      <th>Other</th>\n",
              "      <td>31</td>\n",
              "    </tr>\n",
              "  </tbody>\n",
              "</table>\n",
              "</div><br><label><b>dtype:</b> int64</label>"
            ]
          },
          "metadata": {},
          "execution_count": 25
        }
      ]
    },
    {
      "cell_type": "markdown",
      "source": [
        "Ready for one-hot encoding"
      ],
      "metadata": {
        "id": "9xVWfyhMHXXv"
      }
    },
    {
      "cell_type": "code",
      "source": [
        "#one-hot encode the region column\n",
        "all = pd.get_dummies(all, columns=['region'], prefix = 'region')"
      ],
      "metadata": {
        "id": "M9ZOtciqHa7P"
      },
      "execution_count": 26,
      "outputs": []
    },
    {
      "cell_type": "code",
      "source": [
        "all.head()"
      ],
      "metadata": {
        "colab": {
          "base_uri": "https://localhost:8080/",
          "height": 273
        },
        "id": "d6A7j74nH_9h",
        "outputId": "ce179c47-3f63-4553-914a-b276bbe21d03"
      },
      "execution_count": 27,
      "outputs": [
        {
          "output_type": "execute_result",
          "data": {
            "text/plain": [
              "   Unnamed: 0  fee_probable  outcome  project_type_BCA  project_type_Consult  \\\n",
              "0           0        2795.0        1             False                 False   \n",
              "1           1        2500.0        0             False                 False   \n",
              "2           2        3795.0        1             False                 False   \n",
              "3           3        1508.0        1             False                 False   \n",
              "4           4        5825.0        0             False                 False   \n",
              "\n",
              "   project_type_Envelope  project_type_Garage  project_type_Mechanical  \\\n",
              "0                  False                False                    False   \n",
              "1                  False                False                    False   \n",
              "2                  False                False                    False   \n",
              "3                  False                False                    False   \n",
              "4                  False                False                    False   \n",
              "\n",
              "   project_type_Other  project_type_PA & Class 1 RFS  ...  sow_Pavement  \\\n",
              "0               False                          False  ...         False   \n",
              "1               False                          False  ...         False   \n",
              "2               False                          False  ...         False   \n",
              "3               False                          False  ...         False   \n",
              "4               False                          False  ...         False   \n",
              "\n",
              "   sow_Roofing  sow_Structural  sow_Update RFS  region_EO  region_GH  \\\n",
              "0        False           False            True      False      False   \n",
              "1        False           False           False      False      False   \n",
              "2        False           False            True      False      False   \n",
              "3        False           False           False      False      False   \n",
              "4        False           False           False      False      False   \n",
              "\n",
              "   region_HUR  region_Other  region_TOR  region_Unknown  \n",
              "0       False         False        True           False  \n",
              "1       False         False        True           False  \n",
              "2       False         False        True           False  \n",
              "3       False         False       False            True  \n",
              "4       False         False        True           False  \n",
              "\n",
              "[5 rows x 35 columns]"
            ],
            "text/html": [
              "\n",
              "  <div id=\"df-b68923ef-9c80-444c-856b-c040f3acf046\" class=\"colab-df-container\">\n",
              "    <div>\n",
              "<style scoped>\n",
              "    .dataframe tbody tr th:only-of-type {\n",
              "        vertical-align: middle;\n",
              "    }\n",
              "\n",
              "    .dataframe tbody tr th {\n",
              "        vertical-align: top;\n",
              "    }\n",
              "\n",
              "    .dataframe thead th {\n",
              "        text-align: right;\n",
              "    }\n",
              "</style>\n",
              "<table border=\"1\" class=\"dataframe\">\n",
              "  <thead>\n",
              "    <tr style=\"text-align: right;\">\n",
              "      <th></th>\n",
              "      <th>Unnamed: 0</th>\n",
              "      <th>fee_probable</th>\n",
              "      <th>outcome</th>\n",
              "      <th>project_type_BCA</th>\n",
              "      <th>project_type_Consult</th>\n",
              "      <th>project_type_Envelope</th>\n",
              "      <th>project_type_Garage</th>\n",
              "      <th>project_type_Mechanical</th>\n",
              "      <th>project_type_Other</th>\n",
              "      <th>project_type_PA &amp; Class 1 RFS</th>\n",
              "      <th>...</th>\n",
              "      <th>sow_Pavement</th>\n",
              "      <th>sow_Roofing</th>\n",
              "      <th>sow_Structural</th>\n",
              "      <th>sow_Update RFS</th>\n",
              "      <th>region_EO</th>\n",
              "      <th>region_GH</th>\n",
              "      <th>region_HUR</th>\n",
              "      <th>region_Other</th>\n",
              "      <th>region_TOR</th>\n",
              "      <th>region_Unknown</th>\n",
              "    </tr>\n",
              "  </thead>\n",
              "  <tbody>\n",
              "    <tr>\n",
              "      <th>0</th>\n",
              "      <td>0</td>\n",
              "      <td>2795.0</td>\n",
              "      <td>1</td>\n",
              "      <td>False</td>\n",
              "      <td>False</td>\n",
              "      <td>False</td>\n",
              "      <td>False</td>\n",
              "      <td>False</td>\n",
              "      <td>False</td>\n",
              "      <td>False</td>\n",
              "      <td>...</td>\n",
              "      <td>False</td>\n",
              "      <td>False</td>\n",
              "      <td>False</td>\n",
              "      <td>True</td>\n",
              "      <td>False</td>\n",
              "      <td>False</td>\n",
              "      <td>False</td>\n",
              "      <td>False</td>\n",
              "      <td>True</td>\n",
              "      <td>False</td>\n",
              "    </tr>\n",
              "    <tr>\n",
              "      <th>1</th>\n",
              "      <td>1</td>\n",
              "      <td>2500.0</td>\n",
              "      <td>0</td>\n",
              "      <td>False</td>\n",
              "      <td>False</td>\n",
              "      <td>False</td>\n",
              "      <td>False</td>\n",
              "      <td>False</td>\n",
              "      <td>False</td>\n",
              "      <td>False</td>\n",
              "      <td>...</td>\n",
              "      <td>False</td>\n",
              "      <td>False</td>\n",
              "      <td>False</td>\n",
              "      <td>False</td>\n",
              "      <td>False</td>\n",
              "      <td>False</td>\n",
              "      <td>False</td>\n",
              "      <td>False</td>\n",
              "      <td>True</td>\n",
              "      <td>False</td>\n",
              "    </tr>\n",
              "    <tr>\n",
              "      <th>2</th>\n",
              "      <td>2</td>\n",
              "      <td>3795.0</td>\n",
              "      <td>1</td>\n",
              "      <td>False</td>\n",
              "      <td>False</td>\n",
              "      <td>False</td>\n",
              "      <td>False</td>\n",
              "      <td>False</td>\n",
              "      <td>False</td>\n",
              "      <td>False</td>\n",
              "      <td>...</td>\n",
              "      <td>False</td>\n",
              "      <td>False</td>\n",
              "      <td>False</td>\n",
              "      <td>True</td>\n",
              "      <td>False</td>\n",
              "      <td>False</td>\n",
              "      <td>False</td>\n",
              "      <td>False</td>\n",
              "      <td>True</td>\n",
              "      <td>False</td>\n",
              "    </tr>\n",
              "    <tr>\n",
              "      <th>3</th>\n",
              "      <td>3</td>\n",
              "      <td>1508.0</td>\n",
              "      <td>1</td>\n",
              "      <td>False</td>\n",
              "      <td>False</td>\n",
              "      <td>False</td>\n",
              "      <td>False</td>\n",
              "      <td>False</td>\n",
              "      <td>False</td>\n",
              "      <td>False</td>\n",
              "      <td>...</td>\n",
              "      <td>False</td>\n",
              "      <td>False</td>\n",
              "      <td>False</td>\n",
              "      <td>False</td>\n",
              "      <td>False</td>\n",
              "      <td>False</td>\n",
              "      <td>False</td>\n",
              "      <td>False</td>\n",
              "      <td>False</td>\n",
              "      <td>True</td>\n",
              "    </tr>\n",
              "    <tr>\n",
              "      <th>4</th>\n",
              "      <td>4</td>\n",
              "      <td>5825.0</td>\n",
              "      <td>0</td>\n",
              "      <td>False</td>\n",
              "      <td>False</td>\n",
              "      <td>False</td>\n",
              "      <td>False</td>\n",
              "      <td>False</td>\n",
              "      <td>False</td>\n",
              "      <td>False</td>\n",
              "      <td>...</td>\n",
              "      <td>False</td>\n",
              "      <td>False</td>\n",
              "      <td>False</td>\n",
              "      <td>False</td>\n",
              "      <td>False</td>\n",
              "      <td>False</td>\n",
              "      <td>False</td>\n",
              "      <td>False</td>\n",
              "      <td>True</td>\n",
              "      <td>False</td>\n",
              "    </tr>\n",
              "  </tbody>\n",
              "</table>\n",
              "<p>5 rows × 35 columns</p>\n",
              "</div>\n",
              "    <div class=\"colab-df-buttons\">\n",
              "\n",
              "  <div class=\"colab-df-container\">\n",
              "    <button class=\"colab-df-convert\" onclick=\"convertToInteractive('df-b68923ef-9c80-444c-856b-c040f3acf046')\"\n",
              "            title=\"Convert this dataframe to an interactive table.\"\n",
              "            style=\"display:none;\">\n",
              "\n",
              "  <svg xmlns=\"http://www.w3.org/2000/svg\" height=\"24px\" viewBox=\"0 -960 960 960\">\n",
              "    <path d=\"M120-120v-720h720v720H120Zm60-500h600v-160H180v160Zm220 220h160v-160H400v160Zm0 220h160v-160H400v160ZM180-400h160v-160H180v160Zm440 0h160v-160H620v160ZM180-180h160v-160H180v160Zm440 0h160v-160H620v160Z\"/>\n",
              "  </svg>\n",
              "    </button>\n",
              "\n",
              "  <style>\n",
              "    .colab-df-container {\n",
              "      display:flex;\n",
              "      gap: 12px;\n",
              "    }\n",
              "\n",
              "    .colab-df-convert {\n",
              "      background-color: #E8F0FE;\n",
              "      border: none;\n",
              "      border-radius: 50%;\n",
              "      cursor: pointer;\n",
              "      display: none;\n",
              "      fill: #1967D2;\n",
              "      height: 32px;\n",
              "      padding: 0 0 0 0;\n",
              "      width: 32px;\n",
              "    }\n",
              "\n",
              "    .colab-df-convert:hover {\n",
              "      background-color: #E2EBFA;\n",
              "      box-shadow: 0px 1px 2px rgba(60, 64, 67, 0.3), 0px 1px 3px 1px rgba(60, 64, 67, 0.15);\n",
              "      fill: #174EA6;\n",
              "    }\n",
              "\n",
              "    .colab-df-buttons div {\n",
              "      margin-bottom: 4px;\n",
              "    }\n",
              "\n",
              "    [theme=dark] .colab-df-convert {\n",
              "      background-color: #3B4455;\n",
              "      fill: #D2E3FC;\n",
              "    }\n",
              "\n",
              "    [theme=dark] .colab-df-convert:hover {\n",
              "      background-color: #434B5C;\n",
              "      box-shadow: 0px 1px 3px 1px rgba(0, 0, 0, 0.15);\n",
              "      filter: drop-shadow(0px 1px 2px rgba(0, 0, 0, 0.3));\n",
              "      fill: #FFFFFF;\n",
              "    }\n",
              "  </style>\n",
              "\n",
              "    <script>\n",
              "      const buttonEl =\n",
              "        document.querySelector('#df-b68923ef-9c80-444c-856b-c040f3acf046 button.colab-df-convert');\n",
              "      buttonEl.style.display =\n",
              "        google.colab.kernel.accessAllowed ? 'block' : 'none';\n",
              "\n",
              "      async function convertToInteractive(key) {\n",
              "        const element = document.querySelector('#df-b68923ef-9c80-444c-856b-c040f3acf046');\n",
              "        const dataTable =\n",
              "          await google.colab.kernel.invokeFunction('convertToInteractive',\n",
              "                                                    [key], {});\n",
              "        if (!dataTable) return;\n",
              "\n",
              "        const docLinkHtml = 'Like what you see? Visit the ' +\n",
              "          '<a target=\"_blank\" href=https://colab.research.google.com/notebooks/data_table.ipynb>data table notebook</a>'\n",
              "          + ' to learn more about interactive tables.';\n",
              "        element.innerHTML = '';\n",
              "        dataTable['output_type'] = 'display_data';\n",
              "        await google.colab.output.renderOutput(dataTable, element);\n",
              "        const docLink = document.createElement('div');\n",
              "        docLink.innerHTML = docLinkHtml;\n",
              "        element.appendChild(docLink);\n",
              "      }\n",
              "    </script>\n",
              "  </div>\n",
              "\n",
              "\n",
              "<div id=\"df-e7de2e40-52ea-46d4-a778-66835703667d\">\n",
              "  <button class=\"colab-df-quickchart\" onclick=\"quickchart('df-e7de2e40-52ea-46d4-a778-66835703667d')\"\n",
              "            title=\"Suggest charts\"\n",
              "            style=\"display:none;\">\n",
              "\n",
              "<svg xmlns=\"http://www.w3.org/2000/svg\" height=\"24px\"viewBox=\"0 0 24 24\"\n",
              "     width=\"24px\">\n",
              "    <g>\n",
              "        <path d=\"M19 3H5c-1.1 0-2 .9-2 2v14c0 1.1.9 2 2 2h14c1.1 0 2-.9 2-2V5c0-1.1-.9-2-2-2zM9 17H7v-7h2v7zm4 0h-2V7h2v10zm4 0h-2v-4h2v4z\"/>\n",
              "    </g>\n",
              "</svg>\n",
              "  </button>\n",
              "\n",
              "<style>\n",
              "  .colab-df-quickchart {\n",
              "      --bg-color: #E8F0FE;\n",
              "      --fill-color: #1967D2;\n",
              "      --hover-bg-color: #E2EBFA;\n",
              "      --hover-fill-color: #174EA6;\n",
              "      --disabled-fill-color: #AAA;\n",
              "      --disabled-bg-color: #DDD;\n",
              "  }\n",
              "\n",
              "  [theme=dark] .colab-df-quickchart {\n",
              "      --bg-color: #3B4455;\n",
              "      --fill-color: #D2E3FC;\n",
              "      --hover-bg-color: #434B5C;\n",
              "      --hover-fill-color: #FFFFFF;\n",
              "      --disabled-bg-color: #3B4455;\n",
              "      --disabled-fill-color: #666;\n",
              "  }\n",
              "\n",
              "  .colab-df-quickchart {\n",
              "    background-color: var(--bg-color);\n",
              "    border: none;\n",
              "    border-radius: 50%;\n",
              "    cursor: pointer;\n",
              "    display: none;\n",
              "    fill: var(--fill-color);\n",
              "    height: 32px;\n",
              "    padding: 0;\n",
              "    width: 32px;\n",
              "  }\n",
              "\n",
              "  .colab-df-quickchart:hover {\n",
              "    background-color: var(--hover-bg-color);\n",
              "    box-shadow: 0 1px 2px rgba(60, 64, 67, 0.3), 0 1px 3px 1px rgba(60, 64, 67, 0.15);\n",
              "    fill: var(--button-hover-fill-color);\n",
              "  }\n",
              "\n",
              "  .colab-df-quickchart-complete:disabled,\n",
              "  .colab-df-quickchart-complete:disabled:hover {\n",
              "    background-color: var(--disabled-bg-color);\n",
              "    fill: var(--disabled-fill-color);\n",
              "    box-shadow: none;\n",
              "  }\n",
              "\n",
              "  .colab-df-spinner {\n",
              "    border: 2px solid var(--fill-color);\n",
              "    border-color: transparent;\n",
              "    border-bottom-color: var(--fill-color);\n",
              "    animation:\n",
              "      spin 1s steps(1) infinite;\n",
              "  }\n",
              "\n",
              "  @keyframes spin {\n",
              "    0% {\n",
              "      border-color: transparent;\n",
              "      border-bottom-color: var(--fill-color);\n",
              "      border-left-color: var(--fill-color);\n",
              "    }\n",
              "    20% {\n",
              "      border-color: transparent;\n",
              "      border-left-color: var(--fill-color);\n",
              "      border-top-color: var(--fill-color);\n",
              "    }\n",
              "    30% {\n",
              "      border-color: transparent;\n",
              "      border-left-color: var(--fill-color);\n",
              "      border-top-color: var(--fill-color);\n",
              "      border-right-color: var(--fill-color);\n",
              "    }\n",
              "    40% {\n",
              "      border-color: transparent;\n",
              "      border-right-color: var(--fill-color);\n",
              "      border-top-color: var(--fill-color);\n",
              "    }\n",
              "    60% {\n",
              "      border-color: transparent;\n",
              "      border-right-color: var(--fill-color);\n",
              "    }\n",
              "    80% {\n",
              "      border-color: transparent;\n",
              "      border-right-color: var(--fill-color);\n",
              "      border-bottom-color: var(--fill-color);\n",
              "    }\n",
              "    90% {\n",
              "      border-color: transparent;\n",
              "      border-bottom-color: var(--fill-color);\n",
              "    }\n",
              "  }\n",
              "</style>\n",
              "\n",
              "  <script>\n",
              "    async function quickchart(key) {\n",
              "      const quickchartButtonEl =\n",
              "        document.querySelector('#' + key + ' button');\n",
              "      quickchartButtonEl.disabled = true;  // To prevent multiple clicks.\n",
              "      quickchartButtonEl.classList.add('colab-df-spinner');\n",
              "      try {\n",
              "        const charts = await google.colab.kernel.invokeFunction(\n",
              "            'suggestCharts', [key], {});\n",
              "      } catch (error) {\n",
              "        console.error('Error during call to suggestCharts:', error);\n",
              "      }\n",
              "      quickchartButtonEl.classList.remove('colab-df-spinner');\n",
              "      quickchartButtonEl.classList.add('colab-df-quickchart-complete');\n",
              "    }\n",
              "    (() => {\n",
              "      let quickchartButtonEl =\n",
              "        document.querySelector('#df-e7de2e40-52ea-46d4-a778-66835703667d button');\n",
              "      quickchartButtonEl.style.display =\n",
              "        google.colab.kernel.accessAllowed ? 'block' : 'none';\n",
              "    })();\n",
              "  </script>\n",
              "</div>\n",
              "\n",
              "    </div>\n",
              "  </div>\n"
            ],
            "application/vnd.google.colaboratory.intrinsic+json": {
              "type": "dataframe",
              "variable_name": "all"
            }
          },
          "metadata": {},
          "execution_count": 27
        }
      ]
    },
    {
      "cell_type": "markdown",
      "source": [
        "**fee_probable**"
      ],
      "metadata": {
        "id": "TFJnqCzFPiA8"
      }
    },
    {
      "cell_type": "code",
      "source": [
        "#Let's start by dropping the two rows with nulls in the fee_probable column\n",
        "all = all.dropna(subset=['fee_probable'])"
      ],
      "metadata": {
        "id": "gIcYa1oTPyzv"
      },
      "execution_count": 28,
      "outputs": []
    },
    {
      "cell_type": "code",
      "source": [
        "all.info()"
      ],
      "metadata": {
        "colab": {
          "base_uri": "https://localhost:8080/"
        },
        "id": "2I8UIspAQA51",
        "outputId": "d0c27ac4-6fb8-4056-c948-cbce117e4e94"
      },
      "execution_count": 29,
      "outputs": [
        {
          "output_type": "stream",
          "name": "stdout",
          "text": [
            "<class 'pandas.core.frame.DataFrame'>\n",
            "Index: 2225 entries, 0 to 2226\n",
            "Data columns (total 35 columns):\n",
            " #   Column                         Non-Null Count  Dtype  \n",
            "---  ------                         --------------  -----  \n",
            " 0   Unnamed: 0                     2225 non-null   int64  \n",
            " 1   fee_probable                   2225 non-null   float64\n",
            " 2   outcome                        2225 non-null   int64  \n",
            " 3   project_type_BCA               2225 non-null   bool   \n",
            " 4   project_type_Consult           2225 non-null   bool   \n",
            " 5   project_type_Envelope          2225 non-null   bool   \n",
            " 6   project_type_Garage            2225 non-null   bool   \n",
            " 7   project_type_Mechanical        2225 non-null   bool   \n",
            " 8   project_type_Other             2225 non-null   bool   \n",
            " 9   project_type_PA & Class 1 RFS  2225 non-null   bool   \n",
            " 10  project_type_PCA               2225 non-null   bool   \n",
            " 11  project_type_RFS               2225 non-null   bool   \n",
            " 12  project_type_Roofing           2225 non-null   bool   \n",
            " 13  sow_BCA                        2225 non-null   bool   \n",
            " 14  sow_Balcony                    2225 non-null   bool   \n",
            " 15  sow_Class 1 RFS                2225 non-null   bool   \n",
            " 16  sow_Class 2 RFS                2225 non-null   bool   \n",
            " 17  sow_Consult                    2225 non-null   bool   \n",
            " 18  sow_Envelope                   2225 non-null   bool   \n",
            " 19  sow_Garage                     2225 non-null   bool   \n",
            " 20  sow_Mechanical                 2225 non-null   bool   \n",
            " 21  sow_Other                      2225 non-null   bool   \n",
            " 22  sow_PA & Class 1 RFS           2225 non-null   bool   \n",
            " 23  sow_PA1, C1, PA2               2225 non-null   bool   \n",
            " 24  sow_PCA                        2225 non-null   bool   \n",
            " 25  sow_Pavement                   2225 non-null   bool   \n",
            " 26  sow_Roofing                    2225 non-null   bool   \n",
            " 27  sow_Structural                 2225 non-null   bool   \n",
            " 28  sow_Update RFS                 2225 non-null   bool   \n",
            " 29  region_EO                      2225 non-null   bool   \n",
            " 30  region_GH                      2225 non-null   bool   \n",
            " 31  region_HUR                     2225 non-null   bool   \n",
            " 32  region_Other                   2225 non-null   bool   \n",
            " 33  region_TOR                     2225 non-null   bool   \n",
            " 34  region_Unknown                 2225 non-null   bool   \n",
            "dtypes: bool(32), float64(1), int64(2)\n",
            "memory usage: 139.1 KB\n"
          ]
        }
      ]
    },
    {
      "cell_type": "code",
      "source": [
        "all['fee_probable'].describe()"
      ],
      "metadata": {
        "colab": {
          "base_uri": "https://localhost:8080/",
          "height": 372
        },
        "id": "WWAGseejQDq2",
        "outputId": "2932f059-8d65-468e-c0b3-4f79fc24ee01"
      },
      "execution_count": 30,
      "outputs": [
        {
          "output_type": "execute_result",
          "data": {
            "text/plain": [
              "count      2225.000000\n",
              "mean       7905.606930\n",
              "std       26689.000436\n",
              "min         195.000000\n",
              "25%        2400.000000\n",
              "50%        3295.000000\n",
              "75%        5190.000000\n",
              "max      598770.000000\n",
              "Name: fee_probable, dtype: float64"
            ],
            "text/html": [
              "<div>\n",
              "<style scoped>\n",
              "    .dataframe tbody tr th:only-of-type {\n",
              "        vertical-align: middle;\n",
              "    }\n",
              "\n",
              "    .dataframe tbody tr th {\n",
              "        vertical-align: top;\n",
              "    }\n",
              "\n",
              "    .dataframe thead th {\n",
              "        text-align: right;\n",
              "    }\n",
              "</style>\n",
              "<table border=\"1\" class=\"dataframe\">\n",
              "  <thead>\n",
              "    <tr style=\"text-align: right;\">\n",
              "      <th></th>\n",
              "      <th>fee_probable</th>\n",
              "    </tr>\n",
              "  </thead>\n",
              "  <tbody>\n",
              "    <tr>\n",
              "      <th>count</th>\n",
              "      <td>2225.000000</td>\n",
              "    </tr>\n",
              "    <tr>\n",
              "      <th>mean</th>\n",
              "      <td>7905.606930</td>\n",
              "    </tr>\n",
              "    <tr>\n",
              "      <th>std</th>\n",
              "      <td>26689.000436</td>\n",
              "    </tr>\n",
              "    <tr>\n",
              "      <th>min</th>\n",
              "      <td>195.000000</td>\n",
              "    </tr>\n",
              "    <tr>\n",
              "      <th>25%</th>\n",
              "      <td>2400.000000</td>\n",
              "    </tr>\n",
              "    <tr>\n",
              "      <th>50%</th>\n",
              "      <td>3295.000000</td>\n",
              "    </tr>\n",
              "    <tr>\n",
              "      <th>75%</th>\n",
              "      <td>5190.000000</td>\n",
              "    </tr>\n",
              "    <tr>\n",
              "      <th>max</th>\n",
              "      <td>598770.000000</td>\n",
              "    </tr>\n",
              "  </tbody>\n",
              "</table>\n",
              "</div><br><label><b>dtype:</b> float64</label>"
            ]
          },
          "metadata": {},
          "execution_count": 30
        }
      ]
    },
    {
      "cell_type": "markdown",
      "source": [
        "The distribution of this column is extremely left-skewed with a high number of outliers on the right. During EDA the attempts to describe the shape were not successful, so we will have to bucket the values"
      ],
      "metadata": {
        "id": "UKeYwIjTPmQs"
      }
    },
    {
      "cell_type": "markdown",
      "source": [
        "We need to do this transformation after splitting the dataset into train/test this will bee done in the next section"
      ],
      "metadata": {
        "id": "W-t5cheUQ_7A"
      }
    },
    {
      "cell_type": "markdown",
      "source": [
        "# **ALL Model Transformations**"
      ],
      "metadata": {
        "id": "EaykfAT3auqJ"
      }
    },
    {
      "cell_type": "markdown",
      "source": [
        "The ALL model data is ready for transformations now"
      ],
      "metadata": {
        "id": "WdpFPNJGe0yv"
      }
    },
    {
      "cell_type": "code",
      "source": [
        "all.info()"
      ],
      "metadata": {
        "colab": {
          "base_uri": "https://localhost:8080/"
        },
        "id": "-cCYPIEHe6uD",
        "outputId": "b1460518-2108-468b-eb08-53150d688ea0"
      },
      "execution_count": 31,
      "outputs": [
        {
          "output_type": "stream",
          "name": "stdout",
          "text": [
            "<class 'pandas.core.frame.DataFrame'>\n",
            "Index: 2225 entries, 0 to 2226\n",
            "Data columns (total 35 columns):\n",
            " #   Column                         Non-Null Count  Dtype  \n",
            "---  ------                         --------------  -----  \n",
            " 0   Unnamed: 0                     2225 non-null   int64  \n",
            " 1   fee_probable                   2225 non-null   float64\n",
            " 2   outcome                        2225 non-null   int64  \n",
            " 3   project_type_BCA               2225 non-null   bool   \n",
            " 4   project_type_Consult           2225 non-null   bool   \n",
            " 5   project_type_Envelope          2225 non-null   bool   \n",
            " 6   project_type_Garage            2225 non-null   bool   \n",
            " 7   project_type_Mechanical        2225 non-null   bool   \n",
            " 8   project_type_Other             2225 non-null   bool   \n",
            " 9   project_type_PA & Class 1 RFS  2225 non-null   bool   \n",
            " 10  project_type_PCA               2225 non-null   bool   \n",
            " 11  project_type_RFS               2225 non-null   bool   \n",
            " 12  project_type_Roofing           2225 non-null   bool   \n",
            " 13  sow_BCA                        2225 non-null   bool   \n",
            " 14  sow_Balcony                    2225 non-null   bool   \n",
            " 15  sow_Class 1 RFS                2225 non-null   bool   \n",
            " 16  sow_Class 2 RFS                2225 non-null   bool   \n",
            " 17  sow_Consult                    2225 non-null   bool   \n",
            " 18  sow_Envelope                   2225 non-null   bool   \n",
            " 19  sow_Garage                     2225 non-null   bool   \n",
            " 20  sow_Mechanical                 2225 non-null   bool   \n",
            " 21  sow_Other                      2225 non-null   bool   \n",
            " 22  sow_PA & Class 1 RFS           2225 non-null   bool   \n",
            " 23  sow_PA1, C1, PA2               2225 non-null   bool   \n",
            " 24  sow_PCA                        2225 non-null   bool   \n",
            " 25  sow_Pavement                   2225 non-null   bool   \n",
            " 26  sow_Roofing                    2225 non-null   bool   \n",
            " 27  sow_Structural                 2225 non-null   bool   \n",
            " 28  sow_Update RFS                 2225 non-null   bool   \n",
            " 29  region_EO                      2225 non-null   bool   \n",
            " 30  region_GH                      2225 non-null   bool   \n",
            " 31  region_HUR                     2225 non-null   bool   \n",
            " 32  region_Other                   2225 non-null   bool   \n",
            " 33  region_TOR                     2225 non-null   bool   \n",
            " 34  region_Unknown                 2225 non-null   bool   \n",
            "dtypes: bool(32), float64(1), int64(2)\n",
            "memory usage: 139.1 KB\n"
          ]
        }
      ]
    },
    {
      "cell_type": "markdown",
      "source": [
        "train-test-split"
      ],
      "metadata": {
        "id": "PEJJGbrra8KB"
      }
    },
    {
      "cell_type": "code",
      "source": [
        "X = all.drop('outcome', axis=1)\n",
        "y = all['outcome']"
      ],
      "metadata": {
        "id": "9Jz2Ak-6a6Gb"
      },
      "execution_count": 32,
      "outputs": []
    },
    {
      "cell_type": "code",
      "source": [
        "X_train_all, X_test_all, y_train_all, y_test_all = train_test_split(X, y, test_size=0.2, random_state=37)"
      ],
      "metadata": {
        "id": "Oxv5LeCkfL1V"
      },
      "execution_count": 33,
      "outputs": []
    },
    {
      "cell_type": "markdown",
      "source": [
        "**probable_ fee**"
      ],
      "metadata": {
        "id": "AmFL_ZVna00Y"
      }
    },
    {
      "cell_type": "markdown",
      "source": [
        "Given the extreme left skew of our data, we're going to use log-binning which does not need the data to be standardized"
      ],
      "metadata": {
        "id": "PjI_dxDBOqBW"
      }
    },
    {
      "cell_type": "code",
      "source": [
        "X_train_all['log_fee'] = np.log1p(X_train_all['fee_probable'])\n",
        "\n",
        "def log_bins(data, num_bins):\n",
        "    min_val = data.min() + 1\n",
        "    max_val = data.max()\n",
        "    bin_edges = np.logspace(np.log10(min_val), np.log10(max_val), num_bins)\n",
        "    return pd.cut(data, bins=bin_edges, labels=False)\n",
        "\n",
        "X_train_all['log_fee_binned'] = log_bins(X_train_all['log_fee'], num_bins=10)"
      ],
      "metadata": {
        "id": "8s2I58W1f7Gf"
      },
      "execution_count": 34,
      "outputs": []
    },
    {
      "cell_type": "code",
      "source": [
        "pd.pivot_table(X_train_all, index='log_fee_binned', values='fee_probable', aggfunc=['min', 'max', 'count'])"
      ],
      "metadata": {
        "colab": {
          "base_uri": "https://localhost:8080/",
          "height": 394
        },
        "id": "umm8DyjsT6_X",
        "outputId": "620776d2-2970-4dee-c648-45b971d094c3"
      },
      "execution_count": 35,
      "outputs": [
        {
          "output_type": "execute_result",
          "data": {
            "text/plain": [
              "                        min          max        count\n",
              "               fee_probable fee_probable fee_probable\n",
              "log_fee_binned                                       \n",
              "0.0                   645.0        880.0           14\n",
              "1.0                   932.0       1650.0           74\n",
              "2.0                  1685.0       3145.0          718\n",
              "3.0                  3195.0       6400.0          655\n",
              "4.0                  6450.0      13663.0          177\n",
              "5.0                 13750.0      30900.0           75\n",
              "6.0                 31500.0      74850.0           32\n",
              "7.0                 80101.0     194000.0           20\n",
              "8.0                216473.0     598770.0            8"
            ],
            "text/html": [
              "\n",
              "  <div id=\"df-6b1b8790-a46d-405c-8f1a-f552d6e409a5\" class=\"colab-df-container\">\n",
              "    <div>\n",
              "<style scoped>\n",
              "    .dataframe tbody tr th:only-of-type {\n",
              "        vertical-align: middle;\n",
              "    }\n",
              "\n",
              "    .dataframe tbody tr th {\n",
              "        vertical-align: top;\n",
              "    }\n",
              "\n",
              "    .dataframe thead tr th {\n",
              "        text-align: left;\n",
              "    }\n",
              "\n",
              "    .dataframe thead tr:last-of-type th {\n",
              "        text-align: right;\n",
              "    }\n",
              "</style>\n",
              "<table border=\"1\" class=\"dataframe\">\n",
              "  <thead>\n",
              "    <tr>\n",
              "      <th></th>\n",
              "      <th>min</th>\n",
              "      <th>max</th>\n",
              "      <th>count</th>\n",
              "    </tr>\n",
              "    <tr>\n",
              "      <th></th>\n",
              "      <th>fee_probable</th>\n",
              "      <th>fee_probable</th>\n",
              "      <th>fee_probable</th>\n",
              "    </tr>\n",
              "    <tr>\n",
              "      <th>log_fee_binned</th>\n",
              "      <th></th>\n",
              "      <th></th>\n",
              "      <th></th>\n",
              "    </tr>\n",
              "  </thead>\n",
              "  <tbody>\n",
              "    <tr>\n",
              "      <th>0.0</th>\n",
              "      <td>645.0</td>\n",
              "      <td>880.0</td>\n",
              "      <td>14</td>\n",
              "    </tr>\n",
              "    <tr>\n",
              "      <th>1.0</th>\n",
              "      <td>932.0</td>\n",
              "      <td>1650.0</td>\n",
              "      <td>74</td>\n",
              "    </tr>\n",
              "    <tr>\n",
              "      <th>2.0</th>\n",
              "      <td>1685.0</td>\n",
              "      <td>3145.0</td>\n",
              "      <td>718</td>\n",
              "    </tr>\n",
              "    <tr>\n",
              "      <th>3.0</th>\n",
              "      <td>3195.0</td>\n",
              "      <td>6400.0</td>\n",
              "      <td>655</td>\n",
              "    </tr>\n",
              "    <tr>\n",
              "      <th>4.0</th>\n",
              "      <td>6450.0</td>\n",
              "      <td>13663.0</td>\n",
              "      <td>177</td>\n",
              "    </tr>\n",
              "    <tr>\n",
              "      <th>5.0</th>\n",
              "      <td>13750.0</td>\n",
              "      <td>30900.0</td>\n",
              "      <td>75</td>\n",
              "    </tr>\n",
              "    <tr>\n",
              "      <th>6.0</th>\n",
              "      <td>31500.0</td>\n",
              "      <td>74850.0</td>\n",
              "      <td>32</td>\n",
              "    </tr>\n",
              "    <tr>\n",
              "      <th>7.0</th>\n",
              "      <td>80101.0</td>\n",
              "      <td>194000.0</td>\n",
              "      <td>20</td>\n",
              "    </tr>\n",
              "    <tr>\n",
              "      <th>8.0</th>\n",
              "      <td>216473.0</td>\n",
              "      <td>598770.0</td>\n",
              "      <td>8</td>\n",
              "    </tr>\n",
              "  </tbody>\n",
              "</table>\n",
              "</div>\n",
              "    <div class=\"colab-df-buttons\">\n",
              "\n",
              "  <div class=\"colab-df-container\">\n",
              "    <button class=\"colab-df-convert\" onclick=\"convertToInteractive('df-6b1b8790-a46d-405c-8f1a-f552d6e409a5')\"\n",
              "            title=\"Convert this dataframe to an interactive table.\"\n",
              "            style=\"display:none;\">\n",
              "\n",
              "  <svg xmlns=\"http://www.w3.org/2000/svg\" height=\"24px\" viewBox=\"0 -960 960 960\">\n",
              "    <path d=\"M120-120v-720h720v720H120Zm60-500h600v-160H180v160Zm220 220h160v-160H400v160Zm0 220h160v-160H400v160ZM180-400h160v-160H180v160Zm440 0h160v-160H620v160ZM180-180h160v-160H180v160Zm440 0h160v-160H620v160Z\"/>\n",
              "  </svg>\n",
              "    </button>\n",
              "\n",
              "  <style>\n",
              "    .colab-df-container {\n",
              "      display:flex;\n",
              "      gap: 12px;\n",
              "    }\n",
              "\n",
              "    .colab-df-convert {\n",
              "      background-color: #E8F0FE;\n",
              "      border: none;\n",
              "      border-radius: 50%;\n",
              "      cursor: pointer;\n",
              "      display: none;\n",
              "      fill: #1967D2;\n",
              "      height: 32px;\n",
              "      padding: 0 0 0 0;\n",
              "      width: 32px;\n",
              "    }\n",
              "\n",
              "    .colab-df-convert:hover {\n",
              "      background-color: #E2EBFA;\n",
              "      box-shadow: 0px 1px 2px rgba(60, 64, 67, 0.3), 0px 1px 3px 1px rgba(60, 64, 67, 0.15);\n",
              "      fill: #174EA6;\n",
              "    }\n",
              "\n",
              "    .colab-df-buttons div {\n",
              "      margin-bottom: 4px;\n",
              "    }\n",
              "\n",
              "    [theme=dark] .colab-df-convert {\n",
              "      background-color: #3B4455;\n",
              "      fill: #D2E3FC;\n",
              "    }\n",
              "\n",
              "    [theme=dark] .colab-df-convert:hover {\n",
              "      background-color: #434B5C;\n",
              "      box-shadow: 0px 1px 3px 1px rgba(0, 0, 0, 0.15);\n",
              "      filter: drop-shadow(0px 1px 2px rgba(0, 0, 0, 0.3));\n",
              "      fill: #FFFFFF;\n",
              "    }\n",
              "  </style>\n",
              "\n",
              "    <script>\n",
              "      const buttonEl =\n",
              "        document.querySelector('#df-6b1b8790-a46d-405c-8f1a-f552d6e409a5 button.colab-df-convert');\n",
              "      buttonEl.style.display =\n",
              "        google.colab.kernel.accessAllowed ? 'block' : 'none';\n",
              "\n",
              "      async function convertToInteractive(key) {\n",
              "        const element = document.querySelector('#df-6b1b8790-a46d-405c-8f1a-f552d6e409a5');\n",
              "        const dataTable =\n",
              "          await google.colab.kernel.invokeFunction('convertToInteractive',\n",
              "                                                    [key], {});\n",
              "        if (!dataTable) return;\n",
              "\n",
              "        const docLinkHtml = 'Like what you see? Visit the ' +\n",
              "          '<a target=\"_blank\" href=https://colab.research.google.com/notebooks/data_table.ipynb>data table notebook</a>'\n",
              "          + ' to learn more about interactive tables.';\n",
              "        element.innerHTML = '';\n",
              "        dataTable['output_type'] = 'display_data';\n",
              "        await google.colab.output.renderOutput(dataTable, element);\n",
              "        const docLink = document.createElement('div');\n",
              "        docLink.innerHTML = docLinkHtml;\n",
              "        element.appendChild(docLink);\n",
              "      }\n",
              "    </script>\n",
              "  </div>\n",
              "\n",
              "\n",
              "<div id=\"df-62c583da-03e9-4967-8a3a-8f67d240d46e\">\n",
              "  <button class=\"colab-df-quickchart\" onclick=\"quickchart('df-62c583da-03e9-4967-8a3a-8f67d240d46e')\"\n",
              "            title=\"Suggest charts\"\n",
              "            style=\"display:none;\">\n",
              "\n",
              "<svg xmlns=\"http://www.w3.org/2000/svg\" height=\"24px\"viewBox=\"0 0 24 24\"\n",
              "     width=\"24px\">\n",
              "    <g>\n",
              "        <path d=\"M19 3H5c-1.1 0-2 .9-2 2v14c0 1.1.9 2 2 2h14c1.1 0 2-.9 2-2V5c0-1.1-.9-2-2-2zM9 17H7v-7h2v7zm4 0h-2V7h2v10zm4 0h-2v-4h2v4z\"/>\n",
              "    </g>\n",
              "</svg>\n",
              "  </button>\n",
              "\n",
              "<style>\n",
              "  .colab-df-quickchart {\n",
              "      --bg-color: #E8F0FE;\n",
              "      --fill-color: #1967D2;\n",
              "      --hover-bg-color: #E2EBFA;\n",
              "      --hover-fill-color: #174EA6;\n",
              "      --disabled-fill-color: #AAA;\n",
              "      --disabled-bg-color: #DDD;\n",
              "  }\n",
              "\n",
              "  [theme=dark] .colab-df-quickchart {\n",
              "      --bg-color: #3B4455;\n",
              "      --fill-color: #D2E3FC;\n",
              "      --hover-bg-color: #434B5C;\n",
              "      --hover-fill-color: #FFFFFF;\n",
              "      --disabled-bg-color: #3B4455;\n",
              "      --disabled-fill-color: #666;\n",
              "  }\n",
              "\n",
              "  .colab-df-quickchart {\n",
              "    background-color: var(--bg-color);\n",
              "    border: none;\n",
              "    border-radius: 50%;\n",
              "    cursor: pointer;\n",
              "    display: none;\n",
              "    fill: var(--fill-color);\n",
              "    height: 32px;\n",
              "    padding: 0;\n",
              "    width: 32px;\n",
              "  }\n",
              "\n",
              "  .colab-df-quickchart:hover {\n",
              "    background-color: var(--hover-bg-color);\n",
              "    box-shadow: 0 1px 2px rgba(60, 64, 67, 0.3), 0 1px 3px 1px rgba(60, 64, 67, 0.15);\n",
              "    fill: var(--button-hover-fill-color);\n",
              "  }\n",
              "\n",
              "  .colab-df-quickchart-complete:disabled,\n",
              "  .colab-df-quickchart-complete:disabled:hover {\n",
              "    background-color: var(--disabled-bg-color);\n",
              "    fill: var(--disabled-fill-color);\n",
              "    box-shadow: none;\n",
              "  }\n",
              "\n",
              "  .colab-df-spinner {\n",
              "    border: 2px solid var(--fill-color);\n",
              "    border-color: transparent;\n",
              "    border-bottom-color: var(--fill-color);\n",
              "    animation:\n",
              "      spin 1s steps(1) infinite;\n",
              "  }\n",
              "\n",
              "  @keyframes spin {\n",
              "    0% {\n",
              "      border-color: transparent;\n",
              "      border-bottom-color: var(--fill-color);\n",
              "      border-left-color: var(--fill-color);\n",
              "    }\n",
              "    20% {\n",
              "      border-color: transparent;\n",
              "      border-left-color: var(--fill-color);\n",
              "      border-top-color: var(--fill-color);\n",
              "    }\n",
              "    30% {\n",
              "      border-color: transparent;\n",
              "      border-left-color: var(--fill-color);\n",
              "      border-top-color: var(--fill-color);\n",
              "      border-right-color: var(--fill-color);\n",
              "    }\n",
              "    40% {\n",
              "      border-color: transparent;\n",
              "      border-right-color: var(--fill-color);\n",
              "      border-top-color: var(--fill-color);\n",
              "    }\n",
              "    60% {\n",
              "      border-color: transparent;\n",
              "      border-right-color: var(--fill-color);\n",
              "    }\n",
              "    80% {\n",
              "      border-color: transparent;\n",
              "      border-right-color: var(--fill-color);\n",
              "      border-bottom-color: var(--fill-color);\n",
              "    }\n",
              "    90% {\n",
              "      border-color: transparent;\n",
              "      border-bottom-color: var(--fill-color);\n",
              "    }\n",
              "  }\n",
              "</style>\n",
              "\n",
              "  <script>\n",
              "    async function quickchart(key) {\n",
              "      const quickchartButtonEl =\n",
              "        document.querySelector('#' + key + ' button');\n",
              "      quickchartButtonEl.disabled = true;  // To prevent multiple clicks.\n",
              "      quickchartButtonEl.classList.add('colab-df-spinner');\n",
              "      try {\n",
              "        const charts = await google.colab.kernel.invokeFunction(\n",
              "            'suggestCharts', [key], {});\n",
              "      } catch (error) {\n",
              "        console.error('Error during call to suggestCharts:', error);\n",
              "      }\n",
              "      quickchartButtonEl.classList.remove('colab-df-spinner');\n",
              "      quickchartButtonEl.classList.add('colab-df-quickchart-complete');\n",
              "    }\n",
              "    (() => {\n",
              "      let quickchartButtonEl =\n",
              "        document.querySelector('#df-62c583da-03e9-4967-8a3a-8f67d240d46e button');\n",
              "      quickchartButtonEl.style.display =\n",
              "        google.colab.kernel.accessAllowed ? 'block' : 'none';\n",
              "    })();\n",
              "  </script>\n",
              "</div>\n",
              "\n",
              "    </div>\n",
              "  </div>\n"
            ],
            "application/vnd.google.colaboratory.intrinsic+json": {
              "type": "dataframe",
              "summary": "{\n  \"name\": \"pd\",\n  \"rows\": 9,\n  \"fields\": [\n    {\n      \"column\": [\n        \"log_fee_binned\",\n        \"\"\n      ],\n      \"properties\": {\n        \"dtype\": \"number\",\n        \"std\": 2.7386127875258306,\n        \"min\": 0.0,\n        \"max\": 8.0,\n        \"num_unique_values\": 9,\n        \"samples\": [\n          7.0,\n          1.0,\n          5.0\n        ],\n        \"semantic_type\": \"\",\n        \"description\": \"\"\n      }\n    },\n    {\n      \"column\": [\n        \"min\",\n        \"fee_probable\"\n      ],\n      \"properties\": {\n        \"dtype\": \"number\",\n        \"std\": 71179.71280693522,\n        \"min\": 645.0,\n        \"max\": 216473.0,\n        \"num_unique_values\": 9,\n        \"samples\": [\n          80101.0,\n          932.0,\n          13750.0\n        ],\n        \"semantic_type\": \"\",\n        \"description\": \"\"\n      }\n    },\n    {\n      \"column\": [\n        \"max\",\n        \"fee_probable\"\n      ],\n      \"properties\": {\n        \"dtype\": \"number\",\n        \"std\": 196227.82916102905,\n        \"min\": 880.0,\n        \"max\": 598770.0,\n        \"num_unique_values\": 9,\n        \"samples\": [\n          194000.0,\n          1650.0,\n          30900.0\n        ],\n        \"semantic_type\": \"\",\n        \"description\": \"\"\n      }\n    },\n    {\n      \"column\": [\n        \"count\",\n        \"fee_probable\"\n      ],\n      \"properties\": {\n        \"dtype\": \"number\",\n        \"std\": 282,\n        \"min\": 8,\n        \"max\": 718,\n        \"num_unique_values\": 9,\n        \"samples\": [\n          20,\n          74,\n          75\n        ],\n        \"semantic_type\": \"\",\n        \"description\": \"\"\n      }\n    }\n  ]\n}"
            }
          },
          "metadata": {},
          "execution_count": 35
        }
      ]
    },
    {
      "cell_type": "code",
      "source": [
        "plt.figure(figsize=(8, 6))\n",
        "plt.hist(X_train_all['log_fee_binned'], bins=10, edgecolor='k')\n",
        "plt.xlabel('Log Fee Bin')\n",
        "plt.ylabel('Frequency')\n",
        "plt.title('Distribution of Fee Bins')"
      ],
      "metadata": {
        "colab": {
          "base_uri": "https://localhost:8080/",
          "height": 581
        },
        "id": "FEH9z5BnQs6z",
        "outputId": "9df29e7b-73a4-4e0a-e25f-111b3678ef13"
      },
      "execution_count": 36,
      "outputs": [
        {
          "output_type": "execute_result",
          "data": {
            "text/plain": [
              "Text(0.5, 1.0, 'Distribution of Fee Bins')"
            ]
          },
          "metadata": {},
          "execution_count": 36
        },
        {
          "output_type": "display_data",
          "data": {
            "text/plain": [
              "<Figure size 800x600 with 1 Axes>"
            ],
            "image/png": "[encoded data removed]"
          },
          "metadata": {}
        }
      ]
    },
    {
      "cell_type": "markdown",
      "source": [
        "The data is bunched to the left without much discernable groupings in the numbers, so we're going to try equal frequency binning"
      ],
      "metadata": {
        "id": "QYyQNWuTVcBq"
      }
    },
    {
      "cell_type": "code",
      "source": [
        "X_train_all['equal_fee_binned'], bin_edges = pd.qcut(X_train_all['fee_probable'], q=10, labels=False, retbins=True)"
      ],
      "metadata": {
        "id": "W9sCj9JbVrF1"
      },
      "execution_count": 37,
      "outputs": []
    },
    {
      "cell_type": "code",
      "source": [
        "pd.pivot_table(X_train_all, index='equal_fee_binned', values='fee_probable', aggfunc=['min', 'max', 'count'])"
      ],
      "metadata": {
        "colab": {
          "base_uri": "https://localhost:8080/",
          "height": 426
        },
        "id": "fViOKw6VWG5-",
        "outputId": "33187861-9fdc-493e-b45f-1e2c6d23498e"
      },
      "execution_count": 38,
      "outputs": [
        {
          "output_type": "execute_result",
          "data": {
            "text/plain": [
              "                          min          max        count\n",
              "                 fee_probable fee_probable fee_probable\n",
              "equal_fee_binned                                       \n",
              "0                       195.0       1995.0          218\n",
              "1                      2000.0       2295.0          172\n",
              "2                      2300.0       2595.0          154\n",
              "3                      2600.0       2950.0          169\n",
              "4                      2965.0       3295.0          199\n",
              "5                      3345.0       3895.0          164\n",
              "6                      3900.0       4695.0          177\n",
              "7                      4700.0       5990.0          172\n",
              "8                      5995.0      10590.0          177\n",
              "9                     10595.0     598770.0          178"
            ],
            "text/html": [
              "\n",
              "  <div id=\"df-2d7aa720-ccbc-4835-9893-059fa1007be8\" class=\"colab-df-container\">\n",
              "    <div>\n",
              "<style scoped>\n",
              "    .dataframe tbody tr th:only-of-type {\n",
              "        vertical-align: middle;\n",
              "    }\n",
              "\n",
              "    .dataframe tbody tr th {\n",
              "        vertical-align: top;\n",
              "    }\n",
              "\n",
              "    .dataframe thead tr th {\n",
              "        text-align: left;\n",
              "    }\n",
              "\n",
              "    .dataframe thead tr:last-of-type th {\n",
              "        text-align: right;\n",
              "    }\n",
              "</style>\n",
              "<table border=\"1\" class=\"dataframe\">\n",
              "  <thead>\n",
              "    <tr>\n",
              "      <th></th>\n",
              "      <th>min</th>\n",
              "      <th>max</th>\n",
              "      <th>count</th>\n",
              "    </tr>\n",
              "    <tr>\n",
              "      <th></th>\n",
              "      <th>fee_probable</th>\n",
              "      <th>fee_probable</th>\n",
              "      <th>fee_probable</th>\n",
              "    </tr>\n",
              "    <tr>\n",
              "      <th>equal_fee_binned</th>\n",
              "      <th></th>\n",
              "      <th></th>\n",
              "      <th></th>\n",
              "    </tr>\n",
              "  </thead>\n",
              "  <tbody>\n",
              "    <tr>\n",
              "      <th>0</th>\n",
              "      <td>195.0</td>\n",
              "      <td>1995.0</td>\n",
              "      <td>218</td>\n",
              "    </tr>\n",
              "    <tr>\n",
              "      <th>1</th>\n",
              "      <td>2000.0</td>\n",
              "      <td>2295.0</td>\n",
              "      <td>172</td>\n",
              "    </tr>\n",
              "    <tr>\n",
              "      <th>2</th>\n",
              "      <td>2300.0</td>\n",
              "      <td>2595.0</td>\n",
              "      <td>154</td>\n",
              "    </tr>\n",
              "    <tr>\n",
              "      <th>3</th>\n",
              "      <td>2600.0</td>\n",
              "      <td>2950.0</td>\n",
              "      <td>169</td>\n",
              "    </tr>\n",
              "    <tr>\n",
              "      <th>4</th>\n",
              "      <td>2965.0</td>\n",
              "      <td>3295.0</td>\n",
              "      <td>199</td>\n",
              "    </tr>\n",
              "    <tr>\n",
              "      <th>5</th>\n",
              "      <td>3345.0</td>\n",
              "      <td>3895.0</td>\n",
              "      <td>164</td>\n",
              "    </tr>\n",
              "    <tr>\n",
              "      <th>6</th>\n",
              "      <td>3900.0</td>\n",
              "      <td>4695.0</td>\n",
              "      <td>177</td>\n",
              "    </tr>\n",
              "    <tr>\n",
              "      <th>7</th>\n",
              "      <td>4700.0</td>\n",
              "      <td>5990.0</td>\n",
              "      <td>172</td>\n",
              "    </tr>\n",
              "    <tr>\n",
              "      <th>8</th>\n",
              "      <td>5995.0</td>\n",
              "      <td>10590.0</td>\n",
              "      <td>177</td>\n",
              "    </tr>\n",
              "    <tr>\n",
              "      <th>9</th>\n",
              "      <td>10595.0</td>\n",
              "      <td>598770.0</td>\n",
              "      <td>178</td>\n",
              "    </tr>\n",
              "  </tbody>\n",
              "</table>\n",
              "</div>\n",
              "    <div class=\"colab-df-buttons\">\n",
              "\n",
              "  <div class=\"colab-df-container\">\n",
              "    <button class=\"colab-df-convert\" onclick=\"convertToInteractive('df-2d7aa720-ccbc-4835-9893-059fa1007be8')\"\n",
              "            title=\"Convert this dataframe to an interactive table.\"\n",
              "            style=\"display:none;\">\n",
              "\n",
              "  <svg xmlns=\"http://www.w3.org/2000/svg\" height=\"24px\" viewBox=\"0 -960 960 960\">\n",
              "    <path d=\"M120-120v-720h720v720H120Zm60-500h600v-160H180v160Zm220 220h160v-160H400v160Zm0 220h160v-160H400v160ZM180-400h160v-160H180v160Zm440 0h160v-160H620v160ZM180-180h160v-160H180v160Zm440 0h160v-160H620v160Z\"/>\n",
              "  </svg>\n",
              "    </button>\n",
              "\n",
              "  <style>\n",
              "    .colab-df-container {\n",
              "      display:flex;\n",
              "      gap: 12px;\n",
              "    }\n",
              "\n",
              "    .colab-df-convert {\n",
              "      background-color: #E8F0FE;\n",
              "      border: none;\n",
              "      border-radius: 50%;\n",
              "      cursor: pointer;\n",
              "      display: none;\n",
              "      fill: #1967D2;\n",
              "      height: 32px;\n",
              "      padding: 0 0 0 0;\n",
              "      width: 32px;\n",
              "    }\n",
              "\n",
              "    .colab-df-convert:hover {\n",
              "      background-color: #E2EBFA;\n",
              "      box-shadow: 0px 1px 2px rgba(60, 64, 67, 0.3), 0px 1px 3px 1px rgba(60, 64, 67, 0.15);\n",
              "      fill: #174EA6;\n",
              "    }\n",
              "\n",
              "    .colab-df-buttons div {\n",
              "      margin-bottom: 4px;\n",
              "    }\n",
              "\n",
              "    [theme=dark] .colab-df-convert {\n",
              "      background-color: #3B4455;\n",
              "      fill: #D2E3FC;\n",
              "    }\n",
              "\n",
              "    [theme=dark] .colab-df-convert:hover {\n",
              "      background-color: #434B5C;\n",
              "      box-shadow: 0px 1px 3px 1px rgba(0, 0, 0, 0.15);\n",
              "      filter: drop-shadow(0px 1px 2px rgba(0, 0, 0, 0.3));\n",
              "      fill: #FFFFFF;\n",
              "    }\n",
              "  </style>\n",
              "\n",
              "    <script>\n",
              "      const buttonEl =\n",
              "        document.querySelector('#df-2d7aa720-ccbc-4835-9893-059fa1007be8 button.colab-df-convert');\n",
              "      buttonEl.style.display =\n",
              "        google.colab.kernel.accessAllowed ? 'block' : 'none';\n",
              "\n",
              "      async function convertToInteractive(key) {\n",
              "        const element = document.querySelector('#df-2d7aa720-ccbc-4835-9893-059fa1007be8');\n",
              "        const dataTable =\n",
              "          await google.colab.kernel.invokeFunction('convertToInteractive',\n",
              "                                                    [key], {});\n",
              "        if (!dataTable) return;\n",
              "\n",
              "        const docLinkHtml = 'Like what you see? Visit the ' +\n",
              "          '<a target=\"_blank\" href=https://colab.research.google.com/notebooks/data_table.ipynb>data table notebook</a>'\n",
              "          + ' to learn more about interactive tables.';\n",
              "        element.innerHTML = '';\n",
              "        dataTable['output_type'] = 'display_data';\n",
              "        await google.colab.output.renderOutput(dataTable, element);\n",
              "        const docLink = document.createElement('div');\n",
              "        docLink.innerHTML = docLinkHtml;\n",
              "        element.appendChild(docLink);\n",
              "      }\n",
              "    </script>\n",
              "  </div>\n",
              "\n",
              "\n",
              "<div id=\"df-c02a3bad-784e-4bf8-bfa1-20fe25574110\">\n",
              "  <button class=\"colab-df-quickchart\" onclick=\"quickchart('df-c02a3bad-784e-4bf8-bfa1-20fe25574110')\"\n",
              "            title=\"Suggest charts\"\n",
              "            style=\"display:none;\">\n",
              "\n",
              "<svg xmlns=\"http://www.w3.org/2000/svg\" height=\"24px\"viewBox=\"0 0 24 24\"\n",
              "     width=\"24px\">\n",
              "    <g>\n",
              "        <path d=\"M19 3H5c-1.1 0-2 .9-2 2v14c0 1.1.9 2 2 2h14c1.1 0 2-.9 2-2V5c0-1.1-.9-2-2-2zM9 17H7v-7h2v7zm4 0h-2V7h2v10zm4 0h-2v-4h2v4z\"/>\n",
              "    </g>\n",
              "</svg>\n",
              "  </button>\n",
              "\n",
              "<style>\n",
              "  .colab-df-quickchart {\n",
              "      --bg-color: #E8F0FE;\n",
              "      --fill-color: #1967D2;\n",
              "      --hover-bg-color: #E2EBFA;\n",
              "      --hover-fill-color: #174EA6;\n",
              "      --disabled-fill-color: #AAA;\n",
              "      --disabled-bg-color: #DDD;\n",
              "  }\n",
              "\n",
              "  [theme=dark] .colab-df-quickchart {\n",
              "      --bg-color: #3B4455;\n",
              "      --fill-color: #D2E3FC;\n",
              "      --hover-bg-color: #434B5C;\n",
              "      --hover-fill-color: #FFFFFF;\n",
              "      --disabled-bg-color: #3B4455;\n",
              "      --disabled-fill-color: #666;\n",
              "  }\n",
              "\n",
              "  .colab-df-quickchart {\n",
              "    background-color: var(--bg-color);\n",
              "    border: none;\n",
              "    border-radius: 50%;\n",
              "    cursor: pointer;\n",
              "    display: none;\n",
              "    fill: var(--fill-color);\n",
              "    height: 32px;\n",
              "    padding: 0;\n",
              "    width: 32px;\n",
              "  }\n",
              "\n",
              "  .colab-df-quickchart:hover {\n",
              "    background-color: var(--hover-bg-color);\n",
              "    box-shadow: 0 1px 2px rgba(60, 64, 67, 0.3), 0 1px 3px 1px rgba(60, 64, 67, 0.15);\n",
              "    fill: var(--button-hover-fill-color);\n",
              "  }\n",
              "\n",
              "  .colab-df-quickchart-complete:disabled,\n",
              "  .colab-df-quickchart-complete:disabled:hover {\n",
              "    background-color: var(--disabled-bg-color);\n",
              "    fill: var(--disabled-fill-color);\n",
              "    box-shadow: none;\n",
              "  }\n",
              "\n",
              "  .colab-df-spinner {\n",
              "    border: 2px solid var(--fill-color);\n",
              "    border-color: transparent;\n",
              "    border-bottom-color: var(--fill-color);\n",
              "    animation:\n",
              "      spin 1s steps(1) infinite;\n",
              "  }\n",
              "\n",
              "  @keyframes spin {\n",
              "    0% {\n",
              "      border-color: transparent;\n",
              "      border-bottom-color: var(--fill-color);\n",
              "      border-left-color: var(--fill-color);\n",
              "    }\n",
              "    20% {\n",
              "      border-color: transparent;\n",
              "      border-left-color: var(--fill-color);\n",
              "      border-top-color: var(--fill-color);\n",
              "    }\n",
              "    30% {\n",
              "      border-color: transparent;\n",
              "      border-left-color: var(--fill-color);\n",
              "      border-top-color: var(--fill-color);\n",
              "      border-right-color: var(--fill-color);\n",
              "    }\n",
              "    40% {\n",
              "      border-color: transparent;\n",
              "      border-right-color: var(--fill-color);\n",
              "      border-top-color: var(--fill-color);\n",
              "    }\n",
              "    60% {\n",
              "      border-color: transparent;\n",
              "      border-right-color: var(--fill-color);\n",
              "    }\n",
              "    80% {\n",
              "      border-color: transparent;\n",
              "      border-right-color: var(--fill-color);\n",
              "      border-bottom-color: var(--fill-color);\n",
              "    }\n",
              "    90% {\n",
              "      border-color: transparent;\n",
              "      border-bottom-color: var(--fill-color);\n",
              "    }\n",
              "  }\n",
              "</style>\n",
              "\n",
              "  <script>\n",
              "    async function quickchart(key) {\n",
              "      const quickchartButtonEl =\n",
              "        document.querySelector('#' + key + ' button');\n",
              "      quickchartButtonEl.disabled = true;  // To prevent multiple clicks.\n",
              "      quickchartButtonEl.classList.add('colab-df-spinner');\n",
              "      try {\n",
              "        const charts = await google.colab.kernel.invokeFunction(\n",
              "            'suggestCharts', [key], {});\n",
              "      } catch (error) {\n",
              "        console.error('Error during call to suggestCharts:', error);\n",
              "      }\n",
              "      quickchartButtonEl.classList.remove('colab-df-spinner');\n",
              "      quickchartButtonEl.classList.add('colab-df-quickchart-complete');\n",
              "    }\n",
              "    (() => {\n",
              "      let quickchartButtonEl =\n",
              "        document.querySelector('#df-c02a3bad-784e-4bf8-bfa1-20fe25574110 button');\n",
              "      quickchartButtonEl.style.display =\n",
              "        google.colab.kernel.accessAllowed ? 'block' : 'none';\n",
              "    })();\n",
              "  </script>\n",
              "</div>\n",
              "\n",
              "    </div>\n",
              "  </div>\n"
            ],
            "application/vnd.google.colaboratory.intrinsic+json": {
              "type": "dataframe",
              "summary": "{\n  \"name\": \"pd\",\n  \"rows\": 10,\n  \"fields\": [\n    {\n      \"column\": [\n        \"equal_fee_binned\",\n        \"\"\n      ],\n      \"properties\": {\n        \"dtype\": \"number\",\n        \"std\": 3,\n        \"min\": 0,\n        \"max\": 9,\n        \"num_unique_values\": 10,\n        \"samples\": [\n          8,\n          1,\n          5\n        ],\n        \"semantic_type\": \"\",\n        \"description\": \"\"\n      }\n    },\n    {\n      \"column\": [\n        \"min\",\n        \"fee_probable\"\n      ],\n      \"properties\": {\n        \"dtype\": \"number\",\n        \"std\": 2840.284072255997,\n        \"min\": 195.0,\n        \"max\": 10595.0,\n        \"num_unique_values\": 10,\n        \"samples\": [\n          5995.0,\n          2000.0,\n          3345.0\n        ],\n        \"semantic_type\": \"\",\n        \"description\": \"\"\n      }\n    },\n    {\n      \"column\": [\n        \"max\",\n        \"fee_probable\"\n      ],\n      \"properties\": {\n        \"dtype\": \"number\",\n        \"std\": 188019.05259840025,\n        \"min\": 1995.0,\n        \"max\": 598770.0,\n        \"num_unique_values\": 10,\n        \"samples\": [\n          10590.0,\n          2295.0,\n          3895.0\n        ],\n        \"semantic_type\": \"\",\n        \"description\": \"\"\n      }\n    },\n    {\n      \"column\": [\n        \"count\",\n        \"fee_probable\"\n      ],\n      \"properties\": {\n        \"dtype\": \"number\",\n        \"std\": 18,\n        \"min\": 154,\n        \"max\": 218,\n        \"num_unique_values\": 8,\n        \"samples\": [\n          172,\n          164,\n          218\n        ],\n        \"semantic_type\": \"\",\n        \"description\": \"\"\n      }\n    }\n  ]\n}"
            }
          },
          "metadata": {},
          "execution_count": 38
        }
      ]
    },
    {
      "cell_type": "markdown",
      "source": [
        "The results from equal frequency binning seem more fitting and explainable, so let's apply this to out train and test data"
      ],
      "metadata": {
        "id": "bLUF6H9LWem1"
      }
    },
    {
      "cell_type": "code",
      "source": [
        "X_train_all.info()"
      ],
      "metadata": {
        "colab": {
          "base_uri": "https://localhost:8080/"
        },
        "id": "MxM7QSYsXLf_",
        "outputId": "2846058b-8280-45c6-cc56-89454477d132"
      },
      "execution_count": 39,
      "outputs": [
        {
          "output_type": "stream",
          "name": "stdout",
          "text": [
            "<class 'pandas.core.frame.DataFrame'>\n",
            "Index: 1780 entries, 1379 to 1936\n",
            "Data columns (total 37 columns):\n",
            " #   Column                         Non-Null Count  Dtype  \n",
            "---  ------                         --------------  -----  \n",
            " 0   Unnamed: 0                     1780 non-null   int64  \n",
            " 1   fee_probable                   1780 non-null   float64\n",
            " 2   project_type_BCA               1780 non-null   bool   \n",
            " 3   project_type_Consult           1780 non-null   bool   \n",
            " 4   project_type_Envelope          1780 non-null   bool   \n",
            " 5   project_type_Garage            1780 non-null   bool   \n",
            " 6   project_type_Mechanical        1780 non-null   bool   \n",
            " 7   project_type_Other             1780 non-null   bool   \n",
            " 8   project_type_PA & Class 1 RFS  1780 non-null   bool   \n",
            " 9   project_type_PCA               1780 non-null   bool   \n",
            " 10  project_type_RFS               1780 non-null   bool   \n",
            " 11  project_type_Roofing           1780 non-null   bool   \n",
            " 12  sow_BCA                        1780 non-null   bool   \n",
            " 13  sow_Balcony                    1780 non-null   bool   \n",
            " 14  sow_Class 1 RFS                1780 non-null   bool   \n",
            " 15  sow_Class 2 RFS                1780 non-null   bool   \n",
            " 16  sow_Consult                    1780 non-null   bool   \n",
            " 17  sow_Envelope                   1780 non-null   bool   \n",
            " 18  sow_Garage                     1780 non-null   bool   \n",
            " 19  sow_Mechanical                 1780 non-null   bool   \n",
            " 20  sow_Other                      1780 non-null   bool   \n",
            " 21  sow_PA & Class 1 RFS           1780 non-null   bool   \n",
            " 22  sow_PA1, C1, PA2               1780 non-null   bool   \n",
            " 23  sow_PCA                        1780 non-null   bool   \n",
            " 24  sow_Pavement                   1780 non-null   bool   \n",
            " 25  sow_Roofing                    1780 non-null   bool   \n",
            " 26  sow_Structural                 1780 non-null   bool   \n",
            " 27  sow_Update RFS                 1780 non-null   bool   \n",
            " 28  region_EO                      1780 non-null   bool   \n",
            " 29  region_GH                      1780 non-null   bool   \n",
            " 30  region_HUR                     1780 non-null   bool   \n",
            " 31  region_Other                   1780 non-null   bool   \n",
            " 32  region_TOR                     1780 non-null   bool   \n",
            " 33  region_Unknown                 1780 non-null   bool   \n",
            " 34  log_fee                        1780 non-null   float64\n",
            " 35  log_fee_binned                 1773 non-null   float64\n",
            " 36  equal_fee_binned               1780 non-null   int64  \n",
            "dtypes: bool(32), float64(3), int64(2)\n",
            "memory usage: 139.1 KB\n"
          ]
        }
      ]
    },
    {
      "cell_type": "code",
      "source": [
        "#drop fee_probable, log_fee and log_fee binned from X_train\n",
        "X_train_all = X_train_all.drop(['fee_probable', 'log_fee', 'log_fee_binned'], axis=1)"
      ],
      "metadata": {
        "id": "iZkESE9aWoc_"
      },
      "execution_count": 40,
      "outputs": []
    },
    {
      "cell_type": "code",
      "source": [
        "#Apply the binning to X_test\n",
        "X_test_all['equal_fee_binned'] = pd.cut(X_test_all['fee_probable'], bins=bin_edges, labels=False, include_lowest=True)"
      ],
      "metadata": {
        "id": "YIUJQ30_EmJl"
      },
      "execution_count": 41,
      "outputs": []
    },
    {
      "cell_type": "code",
      "source": [
        "#This matches our trainign bins, so we can now drop fee_probable\n",
        "pd.pivot_table(X_test_all, index='equal_fee_binned', values='fee_probable', aggfunc=['min', 'max', 'count'])"
      ],
      "metadata": {
        "colab": {
          "base_uri": "https://localhost:8080/",
          "height": 426
        },
        "id": "sw6pUB-wF5zc",
        "outputId": "95b772e3-1bff-4886-ddc9-c1eb77fbe17c"
      },
      "execution_count": 42,
      "outputs": [
        {
          "output_type": "execute_result",
          "data": {
            "text/plain": [
              "                          min          max        count\n",
              "                 fee_probable fee_probable fee_probable\n",
              "equal_fee_binned                                       \n",
              "0                       215.0       1995.0           61\n",
              "1                      2000.0       2295.0           34\n",
              "2                      2340.0       2595.0           46\n",
              "3                      2690.0       2950.0           39\n",
              "4                      2990.0       3295.0           57\n",
              "5                      3395.0       3895.0           36\n",
              "6                      3950.0       4695.0           45\n",
              "7                      4720.0       5990.0           37\n",
              "8                      5995.0      10475.0           49\n",
              "9                     10975.0     150000.0           41"
            ],
            "text/html": [
              "\n",
              "  <div id=\"df-e7a5d9f3-5e82-4aef-9fa2-3454fe55c7f1\" class=\"colab-df-container\">\n",
              "    <div>\n",
              "<style scoped>\n",
              "    .dataframe tbody tr th:only-of-type {\n",
              "        vertical-align: middle;\n",
              "    }\n",
              "\n",
              "    .dataframe tbody tr th {\n",
              "        vertical-align: top;\n",
              "    }\n",
              "\n",
              "    .dataframe thead tr th {\n",
              "        text-align: left;\n",
              "    }\n",
              "\n",
              "    .dataframe thead tr:last-of-type th {\n",
              "        text-align: right;\n",
              "    }\n",
              "</style>\n",
              "<table border=\"1\" class=\"dataframe\">\n",
              "  <thead>\n",
              "    <tr>\n",
              "      <th></th>\n",
              "      <th>min</th>\n",
              "      <th>max</th>\n",
              "      <th>count</th>\n",
              "    </tr>\n",
              "    <tr>\n",
              "      <th></th>\n",
              "      <th>fee_probable</th>\n",
              "      <th>fee_probable</th>\n",
              "      <th>fee_probable</th>\n",
              "    </tr>\n",
              "    <tr>\n",
              "      <th>equal_fee_binned</th>\n",
              "      <th></th>\n",
              "      <th></th>\n",
              "      <th></th>\n",
              "    </tr>\n",
              "  </thead>\n",
              "  <tbody>\n",
              "    <tr>\n",
              "      <th>0</th>\n",
              "      <td>215.0</td>\n",
              "      <td>1995.0</td>\n",
              "      <td>61</td>\n",
              "    </tr>\n",
              "    <tr>\n",
              "      <th>1</th>\n",
              "      <td>2000.0</td>\n",
              "      <td>2295.0</td>\n",
              "      <td>34</td>\n",
              "    </tr>\n",
              "    <tr>\n",
              "      <th>2</th>\n",
              "      <td>2340.0</td>\n",
              "      <td>2595.0</td>\n",
              "      <td>46</td>\n",
              "    </tr>\n",
              "    <tr>\n",
              "      <th>3</th>\n",
              "      <td>2690.0</td>\n",
              "      <td>2950.0</td>\n",
              "      <td>39</td>\n",
              "    </tr>\n",
              "    <tr>\n",
              "      <th>4</th>\n",
              "      <td>2990.0</td>\n",
              "      <td>3295.0</td>\n",
              "      <td>57</td>\n",
              "    </tr>\n",
              "    <tr>\n",
              "      <th>5</th>\n",
              "      <td>3395.0</td>\n",
              "      <td>3895.0</td>\n",
              "      <td>36</td>\n",
              "    </tr>\n",
              "    <tr>\n",
              "      <th>6</th>\n",
              "      <td>3950.0</td>\n",
              "      <td>4695.0</td>\n",
              "      <td>45</td>\n",
              "    </tr>\n",
              "    <tr>\n",
              "      <th>7</th>\n",
              "      <td>4720.0</td>\n",
              "      <td>5990.0</td>\n",
              "      <td>37</td>\n",
              "    </tr>\n",
              "    <tr>\n",
              "      <th>8</th>\n",
              "      <td>5995.0</td>\n",
              "      <td>10475.0</td>\n",
              "      <td>49</td>\n",
              "    </tr>\n",
              "    <tr>\n",
              "      <th>9</th>\n",
              "      <td>10975.0</td>\n",
              "      <td>150000.0</td>\n",
              "      <td>41</td>\n",
              "    </tr>\n",
              "  </tbody>\n",
              "</table>\n",
              "</div>\n",
              "    <div class=\"colab-df-buttons\">\n",
              "\n",
              "  <div class=\"colab-df-container\">\n",
              "    <button class=\"colab-df-convert\" onclick=\"convertToInteractive('df-e7a5d9f3-5e82-4aef-9fa2-3454fe55c7f1')\"\n",
              "            title=\"Convert this dataframe to an interactive table.\"\n",
              "            style=\"display:none;\">\n",
              "\n",
              "  <svg xmlns=\"http://www.w3.org/2000/svg\" height=\"24px\" viewBox=\"0 -960 960 960\">\n",
              "    <path d=\"M120-120v-720h720v720H120Zm60-500h600v-160H180v160Zm220 220h160v-160H400v160Zm0 220h160v-160H400v160ZM180-400h160v-160H180v160Zm440 0h160v-160H620v160ZM180-180h160v-160H180v160Zm440 0h160v-160H620v160Z\"/>\n",
              "  </svg>\n",
              "    </button>\n",
              "\n",
              "  <style>\n",
              "    .colab-df-container {\n",
              "      display:flex;\n",
              "      gap: 12px;\n",
              "    }\n",
              "\n",
              "    .colab-df-convert {\n",
              "      background-color: #E8F0FE;\n",
              "      border: none;\n",
              "      border-radius: 50%;\n",
              "      cursor: pointer;\n",
              "      display: none;\n",
              "      fill: #1967D2;\n",
              "      height: 32px;\n",
              "      padding: 0 0 0 0;\n",
              "      width: 32px;\n",
              "    }\n",
              "\n",
              "    .colab-df-convert:hover {\n",
              "      background-color: #E2EBFA;\n",
              "      box-shadow: 0px 1px 2px rgba(60, 64, 67, 0.3), 0px 1px 3px 1px rgba(60, 64, 67, 0.15);\n",
              "      fill: #174EA6;\n",
              "    }\n",
              "\n",
              "    .colab-df-buttons div {\n",
              "      margin-bottom: 4px;\n",
              "    }\n",
              "\n",
              "    [theme=dark] .colab-df-convert {\n",
              "      background-color: #3B4455;\n",
              "      fill: #D2E3FC;\n",
              "    }\n",
              "\n",
              "    [theme=dark] .colab-df-convert:hover {\n",
              "      background-color: #434B5C;\n",
              "      box-shadow: 0px 1px 3px 1px rgba(0, 0, 0, 0.15);\n",
              "      filter: drop-shadow(0px 1px 2px rgba(0, 0, 0, 0.3));\n",
              "      fill: #FFFFFF;\n",
              "    }\n",
              "  </style>\n",
              "\n",
              "    <script>\n",
              "      const buttonEl =\n",
              "        document.querySelector('#df-e7a5d9f3-5e82-4aef-9fa2-3454fe55c7f1 button.colab-df-convert');\n",
              "      buttonEl.style.display =\n",
              "        google.colab.kernel.accessAllowed ? 'block' : 'none';\n",
              "\n",
              "      async function convertToInteractive(key) {\n",
              "        const element = document.querySelector('#df-e7a5d9f3-5e82-4aef-9fa2-3454fe55c7f1');\n",
              "        const dataTable =\n",
              "          await google.colab.kernel.invokeFunction('convertToInteractive',\n",
              "                                                    [key], {});\n",
              "        if (!dataTable) return;\n",
              "\n",
              "        const docLinkHtml = 'Like what you see? Visit the ' +\n",
              "          '<a target=\"_blank\" href=https://colab.research.google.com/notebooks/data_table.ipynb>data table notebook</a>'\n",
              "          + ' to learn more about interactive tables.';\n",
              "        element.innerHTML = '';\n",
              "        dataTable['output_type'] = 'display_data';\n",
              "        await google.colab.output.renderOutput(dataTable, element);\n",
              "        const docLink = document.createElement('div');\n",
              "        docLink.innerHTML = docLinkHtml;\n",
              "        element.appendChild(docLink);\n",
              "      }\n",
              "    </script>\n",
              "  </div>\n",
              "\n",
              "\n",
              "<div id=\"df-4ce58661-686c-4d5e-b029-756e8509d638\">\n",
              "  <button class=\"colab-df-quickchart\" onclick=\"quickchart('df-4ce58661-686c-4d5e-b029-756e8509d638')\"\n",
              "            title=\"Suggest charts\"\n",
              "            style=\"display:none;\">\n",
              "\n",
              "<svg xmlns=\"http://www.w3.org/2000/svg\" height=\"24px\"viewBox=\"0 0 24 24\"\n",
              "     width=\"24px\">\n",
              "    <g>\n",
              "        <path d=\"M19 3H5c-1.1 0-2 .9-2 2v14c0 1.1.9 2 2 2h14c1.1 0 2-.9 2-2V5c0-1.1-.9-2-2-2zM9 17H7v-7h2v7zm4 0h-2V7h2v10zm4 0h-2v-4h2v4z\"/>\n",
              "    </g>\n",
              "</svg>\n",
              "  </button>\n",
              "\n",
              "<style>\n",
              "  .colab-df-quickchart {\n",
              "      --bg-color: #E8F0FE;\n",
              "      --fill-color: #1967D2;\n",
              "      --hover-bg-color: #E2EBFA;\n",
              "      --hover-fill-color: #174EA6;\n",
              "      --disabled-fill-color: #AAA;\n",
              "      --disabled-bg-color: #DDD;\n",
              "  }\n",
              "\n",
              "  [theme=dark] .colab-df-quickchart {\n",
              "      --bg-color: #3B4455;\n",
              "      --fill-color: #D2E3FC;\n",
              "      --hover-bg-color: #434B5C;\n",
              "      --hover-fill-color: #FFFFFF;\n",
              "      --disabled-bg-color: #3B4455;\n",
              "      --disabled-fill-color: #666;\n",
              "  }\n",
              "\n",
              "  .colab-df-quickchart {\n",
              "    background-color: var(--bg-color);\n",
              "    border: none;\n",
              "    border-radius: 50%;\n",
              "    cursor: pointer;\n",
              "    display: none;\n",
              "    fill: var(--fill-color);\n",
              "    height: 32px;\n",
              "    padding: 0;\n",
              "    width: 32px;\n",
              "  }\n",
              "\n",
              "  .colab-df-quickchart:hover {\n",
              "    background-color: var(--hover-bg-color);\n",
              "    box-shadow: 0 1px 2px rgba(60, 64, 67, 0.3), 0 1px 3px 1px rgba(60, 64, 67, 0.15);\n",
              "    fill: var(--button-hover-fill-color);\n",
              "  }\n",
              "\n",
              "  .colab-df-quickchart-complete:disabled,\n",
              "  .colab-df-quickchart-complete:disabled:hover {\n",
              "    background-color: var(--disabled-bg-color);\n",
              "    fill: var(--disabled-fill-color);\n",
              "    box-shadow: none;\n",
              "  }\n",
              "\n",
              "  .colab-df-spinner {\n",
              "    border: 2px solid var(--fill-color);\n",
              "    border-color: transparent;\n",
              "    border-bottom-color: var(--fill-color);\n",
              "    animation:\n",
              "      spin 1s steps(1) infinite;\n",
              "  }\n",
              "\n",
              "  @keyframes spin {\n",
              "    0% {\n",
              "      border-color: transparent;\n",
              "      border-bottom-color: var(--fill-color);\n",
              "      border-left-color: var(--fill-color);\n",
              "    }\n",
              "    20% {\n",
              "      border-color: transparent;\n",
              "      border-left-color: var(--fill-color);\n",
              "      border-top-color: var(--fill-color);\n",
              "    }\n",
              "    30% {\n",
              "      border-color: transparent;\n",
              "      border-left-color: var(--fill-color);\n",
              "      border-top-color: var(--fill-color);\n",
              "      border-right-color: var(--fill-color);\n",
              "    }\n",
              "    40% {\n",
              "      border-color: transparent;\n",
              "      border-right-color: var(--fill-color);\n",
              "      border-top-color: var(--fill-color);\n",
              "    }\n",
              "    60% {\n",
              "      border-color: transparent;\n",
              "      border-right-color: var(--fill-color);\n",
              "    }\n",
              "    80% {\n",
              "      border-color: transparent;\n",
              "      border-right-color: var(--fill-color);\n",
              "      border-bottom-color: var(--fill-color);\n",
              "    }\n",
              "    90% {\n",
              "      border-color: transparent;\n",
              "      border-bottom-color: var(--fill-color);\n",
              "    }\n",
              "  }\n",
              "</style>\n",
              "\n",
              "  <script>\n",
              "    async function quickchart(key) {\n",
              "      const quickchartButtonEl =\n",
              "        document.querySelector('#' + key + ' button');\n",
              "      quickchartButtonEl.disabled = true;  // To prevent multiple clicks.\n",
              "      quickchartButtonEl.classList.add('colab-df-spinner');\n",
              "      try {\n",
              "        const charts = await google.colab.kernel.invokeFunction(\n",
              "            'suggestCharts', [key], {});\n",
              "      } catch (error) {\n",
              "        console.error('Error during call to suggestCharts:', error);\n",
              "      }\n",
              "      quickchartButtonEl.classList.remove('colab-df-spinner');\n",
              "      quickchartButtonEl.classList.add('colab-df-quickchart-complete');\n",
              "    }\n",
              "    (() => {\n",
              "      let quickchartButtonEl =\n",
              "        document.querySelector('#df-4ce58661-686c-4d5e-b029-756e8509d638 button');\n",
              "      quickchartButtonEl.style.display =\n",
              "        google.colab.kernel.accessAllowed ? 'block' : 'none';\n",
              "    })();\n",
              "  </script>\n",
              "</div>\n",
              "\n",
              "    </div>\n",
              "  </div>\n"
            ],
            "application/vnd.google.colaboratory.intrinsic+json": {
              "type": "dataframe",
              "summary": "{\n  \"name\": \"pd\",\n  \"rows\": 10,\n  \"fields\": [\n    {\n      \"column\": [\n        \"equal_fee_binned\",\n        \"\"\n      ],\n      \"properties\": {\n        \"dtype\": \"number\",\n        \"std\": 3,\n        \"min\": 0,\n        \"max\": 9,\n        \"num_unique_values\": 10,\n        \"samples\": [\n          8,\n          1,\n          5\n        ],\n        \"semantic_type\": \"\",\n        \"description\": \"\"\n      }\n    },\n    {\n      \"column\": [\n        \"min\",\n        \"fee_probable\"\n      ],\n      \"properties\": {\n        \"dtype\": \"number\",\n        \"std\": 2930.345258383956,\n        \"min\": 215.0,\n        \"max\": 10975.0,\n        \"num_unique_values\": 10,\n        \"samples\": [\n          5995.0,\n          2000.0,\n          3395.0\n        ],\n        \"semantic_type\": \"\",\n        \"description\": \"\"\n      }\n    },\n    {\n      \"column\": [\n        \"max\",\n        \"fee_probable\"\n      ],\n      \"properties\": {\n        \"dtype\": \"number\",\n        \"std\": 46160.34969117014,\n        \"min\": 1995.0,\n        \"max\": 150000.0,\n        \"num_unique_values\": 10,\n        \"samples\": [\n          10475.0,\n          2295.0,\n          3895.0\n        ],\n        \"semantic_type\": \"\",\n        \"description\": \"\"\n      }\n    },\n    {\n      \"column\": [\n        \"count\",\n        \"fee_probable\"\n      ],\n      \"properties\": {\n        \"dtype\": \"number\",\n        \"std\": 9,\n        \"min\": 34,\n        \"max\": 61,\n        \"num_unique_values\": 10,\n        \"samples\": [\n          49,\n          34,\n          36\n        ],\n        \"semantic_type\": \"\",\n        \"description\": \"\"\n      }\n    }\n  ]\n}"
            }
          },
          "metadata": {},
          "execution_count": 42
        }
      ]
    },
    {
      "cell_type": "code",
      "source": [
        "X_test_all = X_test_all.drop('fee_probable', axis=1)"
      ],
      "metadata": {
        "id": "cfjHJu5lGM_M"
      },
      "execution_count": 43,
      "outputs": []
    },
    {
      "cell_type": "code",
      "source": [
        "#convert the fee bins to dummy variables\n",
        "X_train_all = pd.get_dummies(X_train_all, columns=['equal_fee_binned'], prefix = 'fee')\n",
        "X_test_all = pd.get_dummies(X_test_all, columns=['equal_fee_binned'], prefix = 'fee')"
      ],
      "metadata": {
        "id": "yprbGIMpXieL"
      },
      "execution_count": 44,
      "outputs": []
    },
    {
      "cell_type": "code",
      "source": [
        "X_train_all.info()"
      ],
      "metadata": {
        "colab": {
          "base_uri": "https://localhost:8080/"
        },
        "id": "QxYm9hip-ybA",
        "outputId": "c1a5107c-6374-4e47-bcfa-4a78d484df30"
      },
      "execution_count": 45,
      "outputs": [
        {
          "output_type": "stream",
          "name": "stdout",
          "text": [
            "<class 'pandas.core.frame.DataFrame'>\n",
            "Index: 1780 entries, 1379 to 1936\n",
            "Data columns (total 43 columns):\n",
            " #   Column                         Non-Null Count  Dtype\n",
            "---  ------                         --------------  -----\n",
            " 0   Unnamed: 0                     1780 non-null   int64\n",
            " 1   project_type_BCA               1780 non-null   bool \n",
            " 2   project_type_Consult           1780 non-null   bool \n",
            " 3   project_type_Envelope          1780 non-null   bool \n",
            " 4   project_type_Garage            1780 non-null   bool \n",
            " 5   project_type_Mechanical        1780 non-null   bool \n",
            " 6   project_type_Other             1780 non-null   bool \n",
            " 7   project_type_PA & Class 1 RFS  1780 non-null   bool \n",
            " 8   project_type_PCA               1780 non-null   bool \n",
            " 9   project_type_RFS               1780 non-null   bool \n",
            " 10  project_type_Roofing           1780 non-null   bool \n",
            " 11  sow_BCA                        1780 non-null   bool \n",
            " 12  sow_Balcony                    1780 non-null   bool \n",
            " 13  sow_Class 1 RFS                1780 non-null   bool \n",
            " 14  sow_Class 2 RFS                1780 non-null   bool \n",
            " 15  sow_Consult                    1780 non-null   bool \n",
            " 16  sow_Envelope                   1780 non-null   bool \n",
            " 17  sow_Garage                     1780 non-null   bool \n",
            " 18  sow_Mechanical                 1780 non-null   bool \n",
            " 19  sow_Other                      1780 non-null   bool \n",
            " 20  sow_PA & Class 1 RFS           1780 non-null   bool \n",
            " 21  sow_PA1, C1, PA2               1780 non-null   bool \n",
            " 22  sow_PCA                        1780 non-null   bool \n",
            " 23  sow_Pavement                   1780 non-null   bool \n",
            " 24  sow_Roofing                    1780 non-null   bool \n",
            " 25  sow_Structural                 1780 non-null   bool \n",
            " 26  sow_Update RFS                 1780 non-null   bool \n",
            " 27  region_EO                      1780 non-null   bool \n",
            " 28  region_GH                      1780 non-null   bool \n",
            " 29  region_HUR                     1780 non-null   bool \n",
            " 30  region_Other                   1780 non-null   bool \n",
            " 31  region_TOR                     1780 non-null   bool \n",
            " 32  region_Unknown                 1780 non-null   bool \n",
            " 33  fee_0                          1780 non-null   bool \n",
            " 34  fee_1                          1780 non-null   bool \n",
            " 35  fee_2                          1780 non-null   bool \n",
            " 36  fee_3                          1780 non-null   bool \n",
            " 37  fee_4                          1780 non-null   bool \n",
            " 38  fee_5                          1780 non-null   bool \n",
            " 39  fee_6                          1780 non-null   bool \n",
            " 40  fee_7                          1780 non-null   bool \n",
            " 41  fee_8                          1780 non-null   bool \n",
            " 42  fee_9                          1780 non-null   bool \n",
            "dtypes: bool(42), int64(1)\n",
            "memory usage: 100.8 KB\n"
          ]
        }
      ]
    },
    {
      "cell_type": "code",
      "source": [
        "X_test_all.info()"
      ],
      "metadata": {
        "colab": {
          "base_uri": "https://localhost:8080/"
        },
        "collapsed": true,
        "id": "uytf6tkdGXyi",
        "outputId": "88cda0b4-1b45-4a8c-cee3-3d200f15843a"
      },
      "execution_count": 46,
      "outputs": [
        {
          "output_type": "stream",
          "name": "stdout",
          "text": [
            "<class 'pandas.core.frame.DataFrame'>\n",
            "Index: 445 entries, 1675 to 2015\n",
            "Data columns (total 43 columns):\n",
            " #   Column                         Non-Null Count  Dtype\n",
            "---  ------                         --------------  -----\n",
            " 0   Unnamed: 0                     445 non-null    int64\n",
            " 1   project_type_BCA               445 non-null    bool \n",
            " 2   project_type_Consult           445 non-null    bool \n",
            " 3   project_type_Envelope          445 non-null    bool \n",
            " 4   project_type_Garage            445 non-null    bool \n",
            " 5   project_type_Mechanical        445 non-null    bool \n",
            " 6   project_type_Other             445 non-null    bool \n",
            " 7   project_type_PA & Class 1 RFS  445 non-null    bool \n",
            " 8   project_type_PCA               445 non-null    bool \n",
            " 9   project_type_RFS               445 non-null    bool \n",
            " 10  project_type_Roofing           445 non-null    bool \n",
            " 11  sow_BCA                        445 non-null    bool \n",
            " 12  sow_Balcony                    445 non-null    bool \n",
            " 13  sow_Class 1 RFS                445 non-null    bool \n",
            " 14  sow_Class 2 RFS                445 non-null    bool \n",
            " 15  sow_Consult                    445 non-null    bool \n",
            " 16  sow_Envelope                   445 non-null    bool \n",
            " 17  sow_Garage                     445 non-null    bool \n",
            " 18  sow_Mechanical                 445 non-null    bool \n",
            " 19  sow_Other                      445 non-null    bool \n",
            " 20  sow_PA & Class 1 RFS           445 non-null    bool \n",
            " 21  sow_PA1, C1, PA2               445 non-null    bool \n",
            " 22  sow_PCA                        445 non-null    bool \n",
            " 23  sow_Pavement                   445 non-null    bool \n",
            " 24  sow_Roofing                    445 non-null    bool \n",
            " 25  sow_Structural                 445 non-null    bool \n",
            " 26  sow_Update RFS                 445 non-null    bool \n",
            " 27  region_EO                      445 non-null    bool \n",
            " 28  region_GH                      445 non-null    bool \n",
            " 29  region_HUR                     445 non-null    bool \n",
            " 30  region_Other                   445 non-null    bool \n",
            " 31  region_TOR                     445 non-null    bool \n",
            " 32  region_Unknown                 445 non-null    bool \n",
            " 33  fee_0                          445 non-null    bool \n",
            " 34  fee_1                          445 non-null    bool \n",
            " 35  fee_2                          445 non-null    bool \n",
            " 36  fee_3                          445 non-null    bool \n",
            " 37  fee_4                          445 non-null    bool \n",
            " 38  fee_5                          445 non-null    bool \n",
            " 39  fee_6                          445 non-null    bool \n",
            " 40  fee_7                          445 non-null    bool \n",
            " 41  fee_8                          445 non-null    bool \n",
            " 42  fee_9                          445 non-null    bool \n",
            "dtypes: bool(42), int64(1)\n",
            "memory usage: 25.2 KB\n"
          ]
        }
      ]
    },
    {
      "cell_type": "markdown",
      "source": [
        "The ALL data is now ready for modelling"
      ],
      "metadata": {
        "id": "H9LtDTMTG6On"
      }
    },
    {
      "cell_type": "markdown",
      "source": [
        "# **RFS Model Feature Prep**"
      ],
      "metadata": {
        "id": "MaqM8wunHF4Z"
      }
    },
    {
      "cell_type": "markdown",
      "source": [
        "The model will be applied to proposals for Reserve Fund Studies. The data is consistently much more complete for this project type, so there are more features that will be included\n",
        "*   region\n",
        "*   fee_probable\n",
        "*   sow\n",
        "*   prev_rfs\n",
        "*   reminder\n",
        "*   building_type\n",
        "*   units\n",
        "\n",
        "project_type has been excluded from this list since it would be RFS for all records\n"
      ],
      "metadata": {
        "id": "tYFige2aHMN2"
      }
    },
    {
      "cell_type": "markdown",
      "source": [
        "**SOW**"
      ],
      "metadata": {
        "id": "-X5Q1u1QJrOW"
      }
    },
    {
      "cell_type": "markdown",
      "source": [
        "This is the column we'll use to identify projects that are RFSs"
      ],
      "metadata": {
        "id": "l_G1E_wRJ7dj"
      }
    },
    {
      "cell_type": "code",
      "source": [
        "#From the below list we'll be using Class 2 RFS, Update RFS, PA & Class 1 RFS, Class 1 RFS and Class 3 RFS\n",
        "prop['sow'].value_counts(dropna=False)"
      ],
      "metadata": {
        "colab": {
          "base_uri": "https://localhost:8080/",
          "height": 1000
        },
        "collapsed": true,
        "id": "FX3JI-OIJ6cO",
        "outputId": "50a460b2-5a55-4f58-e463-7768bed1a623"
      },
      "execution_count": 47,
      "outputs": [
        {
          "output_type": "execute_result",
          "data": {
            "text/plain": [
              "sow\n",
              "Class 2 RFS            815\n",
              "Update RFS             447\n",
              "Consult                181\n",
              "Roofing                105\n",
              "Garage                  92\n",
              "PCA                     91\n",
              "PA & Class 1 RFS        84\n",
              "BCA                     66\n",
              "Envelope                64\n",
              "Mechanical              45\n",
              "Class 1 RFS             42\n",
              "Balcony                 35\n",
              "PA1, C1, PA2            25\n",
              "Pavement                23\n",
              "Structural              22\n",
              "Class 3 RFS             16\n",
              "Windows                 13\n",
              "Renovation              12\n",
              "Landscaping             12\n",
              "PA Year 7                6\n",
              "Sealants                 6\n",
              "C2 RFS with C3 Fee       5\n",
              "PA Follow-Up             4\n",
              "BCA & RFS                4\n",
              "PPA                      4\n",
              "Stairs                   3\n",
              "Electrical               1\n",
              "PA Year 1                1\n",
              "Doors                    1\n",
              "PA Year 2                1\n",
              "Accessibility Audit      1\n",
              "Name: count, dtype: int64"
            ],
            "text/html": [
              "<div>\n",
              "<style scoped>\n",
              "    .dataframe tbody tr th:only-of-type {\n",
              "        vertical-align: middle;\n",
              "    }\n",
              "\n",
              "    .dataframe tbody tr th {\n",
              "        vertical-align: top;\n",
              "    }\n",
              "\n",
              "    .dataframe thead th {\n",
              "        text-align: right;\n",
              "    }\n",
              "</style>\n",
              "<table border=\"1\" class=\"dataframe\">\n",
              "  <thead>\n",
              "    <tr style=\"text-align: right;\">\n",
              "      <th></th>\n",
              "      <th>count</th>\n",
              "    </tr>\n",
              "    <tr>\n",
              "      <th>sow</th>\n",
              "      <th></th>\n",
              "    </tr>\n",
              "  </thead>\n",
              "  <tbody>\n",
              "    <tr>\n",
              "      <th>Class 2 RFS</th>\n",
              "      <td>815</td>\n",
              "    </tr>\n",
              "    <tr>\n",
              "      <th>Update RFS</th>\n",
              "      <td>447</td>\n",
              "    </tr>\n",
              "    <tr>\n",
              "      <th>Consult</th>\n",
              "      <td>181</td>\n",
              "    </tr>\n",
              "    <tr>\n",
              "      <th>Roofing</th>\n",
              "      <td>105</td>\n",
              "    </tr>\n",
              "    <tr>\n",
              "      <th>Garage</th>\n",
              "      <td>92</td>\n",
              "    </tr>\n",
              "    <tr>\n",
              "      <th>PCA</th>\n",
              "      <td>91</td>\n",
              "    </tr>\n",
              "    <tr>\n",
              "      <th>PA &amp; Class 1 RFS</th>\n",
              "      <td>84</td>\n",
              "    </tr>\n",
              "    <tr>\n",
              "      <th>BCA</th>\n",
              "      <td>66</td>\n",
              "    </tr>\n",
              "    <tr>\n",
              "      <th>Envelope</th>\n",
              "      <td>64</td>\n",
              "    </tr>\n",
              "    <tr>\n",
              "      <th>Mechanical</th>\n",
              "      <td>45</td>\n",
              "    </tr>\n",
              "    <tr>\n",
              "      <th>Class 1 RFS</th>\n",
              "      <td>42</td>\n",
              "    </tr>\n",
              "    <tr>\n",
              "      <th>Balcony</th>\n",
              "      <td>35</td>\n",
              "    </tr>\n",
              "    <tr>\n",
              "      <th>PA1, C1, PA2</th>\n",
              "      <td>25</td>\n",
              "    </tr>\n",
              "    <tr>\n",
              "      <th>Pavement</th>\n",
              "      <td>23</td>\n",
              "    </tr>\n",
              "    <tr>\n",
              "      <th>Structural</th>\n",
              "      <td>22</td>\n",
              "    </tr>\n",
              "    <tr>\n",
              "      <th>Class 3 RFS</th>\n",
              "      <td>16</td>\n",
              "    </tr>\n",
              "    <tr>\n",
              "      <th>Windows</th>\n",
              "      <td>13</td>\n",
              "    </tr>\n",
              "    <tr>\n",
              "      <th>Renovation</th>\n",
              "      <td>12</td>\n",
              "    </tr>\n",
              "    <tr>\n",
              "      <th>Landscaping</th>\n",
              "      <td>12</td>\n",
              "    </tr>\n",
              "    <tr>\n",
              "      <th>PA Year 7</th>\n",
              "      <td>6</td>\n",
              "    </tr>\n",
              "    <tr>\n",
              "      <th>Sealants</th>\n",
              "      <td>6</td>\n",
              "    </tr>\n",
              "    <tr>\n",
              "      <th>C2 RFS with C3 Fee</th>\n",
              "      <td>5</td>\n",
              "    </tr>\n",
              "    <tr>\n",
              "      <th>PA Follow-Up</th>\n",
              "      <td>4</td>\n",
              "    </tr>\n",
              "    <tr>\n",
              "      <th>BCA &amp; RFS</th>\n",
              "      <td>4</td>\n",
              "    </tr>\n",
              "    <tr>\n",
              "      <th>PPA</th>\n",
              "      <td>4</td>\n",
              "    </tr>\n",
              "    <tr>\n",
              "      <th>Stairs</th>\n",
              "      <td>3</td>\n",
              "    </tr>\n",
              "    <tr>\n",
              "      <th>Electrical</th>\n",
              "      <td>1</td>\n",
              "    </tr>\n",
              "    <tr>\n",
              "      <th>PA Year 1</th>\n",
              "      <td>1</td>\n",
              "    </tr>\n",
              "    <tr>\n",
              "      <th>Doors</th>\n",
              "      <td>1</td>\n",
              "    </tr>\n",
              "    <tr>\n",
              "      <th>PA Year 2</th>\n",
              "      <td>1</td>\n",
              "    </tr>\n",
              "    <tr>\n",
              "      <th>Accessibility Audit</th>\n",
              "      <td>1</td>\n",
              "    </tr>\n",
              "  </tbody>\n",
              "</table>\n",
              "</div><br><label><b>dtype:</b> int64</label>"
            ]
          },
          "metadata": {},
          "execution_count": 47
        }
      ]
    },
    {
      "cell_type": "code",
      "source": [
        "#create a new df rfs with all records where prop sow column = Class 2 RFS, Update RFS, PA & Class 1 RFS, Class 1 RFS and Class 3 RFS\n",
        "rfs = prop[prop['sow'].isin(['Class 2 RFS', 'Update RFS', 'PA & Class 1 RFS', 'Class 1 RFS', 'Class 3 RFS'])]"
      ],
      "metadata": {
        "id": "z2zjJcA5Luv9"
      },
      "execution_count": 48,
      "outputs": []
    },
    {
      "cell_type": "code",
      "source": [
        "rfs['sow'].value_counts(dropna=False)"
      ],
      "metadata": {
        "colab": {
          "base_uri": "https://localhost:8080/",
          "height": 414
        },
        "id": "Q9vjm-a5MYOH",
        "outputId": "60c64128-ff21-4d77-c79e-230b5824ed56"
      },
      "execution_count": 49,
      "outputs": [
        {
          "output_type": "execute_result",
          "data": {
            "text/plain": [
              "sow\n",
              "Class 2 RFS         815\n",
              "Update RFS          447\n",
              "PA & Class 1 RFS     84\n",
              "Class 1 RFS          42\n",
              "Class 3 RFS          16\n",
              "Name: count, dtype: int64"
            ],
            "text/html": [
              "<div>\n",
              "<style scoped>\n",
              "    .dataframe tbody tr th:only-of-type {\n",
              "        vertical-align: middle;\n",
              "    }\n",
              "\n",
              "    .dataframe tbody tr th {\n",
              "        vertical-align: top;\n",
              "    }\n",
              "\n",
              "    .dataframe thead th {\n",
              "        text-align: right;\n",
              "    }\n",
              "</style>\n",
              "<table border=\"1\" class=\"dataframe\">\n",
              "  <thead>\n",
              "    <tr style=\"text-align: right;\">\n",
              "      <th></th>\n",
              "      <th>count</th>\n",
              "    </tr>\n",
              "    <tr>\n",
              "      <th>sow</th>\n",
              "      <th></th>\n",
              "    </tr>\n",
              "  </thead>\n",
              "  <tbody>\n",
              "    <tr>\n",
              "      <th>Class 2 RFS</th>\n",
              "      <td>815</td>\n",
              "    </tr>\n",
              "    <tr>\n",
              "      <th>Update RFS</th>\n",
              "      <td>447</td>\n",
              "    </tr>\n",
              "    <tr>\n",
              "      <th>PA &amp; Class 1 RFS</th>\n",
              "      <td>84</td>\n",
              "    </tr>\n",
              "    <tr>\n",
              "      <th>Class 1 RFS</th>\n",
              "      <td>42</td>\n",
              "    </tr>\n",
              "    <tr>\n",
              "      <th>Class 3 RFS</th>\n",
              "      <td>16</td>\n",
              "    </tr>\n",
              "  </tbody>\n",
              "</table>\n",
              "</div><br><label><b>dtype:</b> int64</label>"
            ]
          },
          "metadata": {},
          "execution_count": 49
        }
      ]
    },
    {
      "cell_type": "code",
      "source": [
        "#We are left with 1404 records, and can already see that units is the only column where we will have nulls to deal with\n",
        "rfs.info()"
      ],
      "metadata": {
        "colab": {
          "base_uri": "https://localhost:8080/"
        },
        "id": "8_IeJGF7MCxz",
        "outputId": "131e0e04-eb4a-4d13-f23f-65b78ea84636"
      },
      "execution_count": 50,
      "outputs": [
        {
          "output_type": "stream",
          "name": "stdout",
          "text": [
            "<class 'pandas.core.frame.DataFrame'>\n",
            "Index: 1404 entries, 0 to 2274\n",
            "Data columns (total 9 columns):\n",
            " #   Column         Non-Null Count  Dtype  \n",
            "---  ------         --------------  -----  \n",
            " 0   region         1404 non-null   object \n",
            " 1   prev_rfs       1404 non-null   object \n",
            " 2   reminder       1404 non-null   object \n",
            " 3   fee_probable   1404 non-null   float64\n",
            " 4   outcome        1404 non-null   int64  \n",
            " 5   project_type   1404 non-null   object \n",
            " 6   building_type  1404 non-null   object \n",
            " 7   units          1286 non-null   float64\n",
            " 8   sow            1404 non-null   object \n",
            "dtypes: float64(2), int64(1), object(6)\n",
            "memory usage: 109.7+ KB\n"
          ]
        }
      ]
    },
    {
      "cell_type": "code",
      "source": [
        "#We'll convert the sow column to dummies\n",
        "rfs = pd.get_dummies(rfs, columns=['sow'], prefix = 'sow')"
      ],
      "metadata": {
        "id": "-CHOtlKfJLyS"
      },
      "execution_count": 51,
      "outputs": []
    },
    {
      "cell_type": "code",
      "source": [
        "rfs.info()"
      ],
      "metadata": {
        "colab": {
          "base_uri": "https://localhost:8080/"
        },
        "id": "S4XP8OIuJW01",
        "outputId": "4b864172-a605-480e-8c45-22f01c76390e"
      },
      "execution_count": 52,
      "outputs": [
        {
          "output_type": "stream",
          "name": "stdout",
          "text": [
            "<class 'pandas.core.frame.DataFrame'>\n",
            "Index: 1404 entries, 0 to 2274\n",
            "Data columns (total 13 columns):\n",
            " #   Column                Non-Null Count  Dtype  \n",
            "---  ------                --------------  -----  \n",
            " 0   region                1404 non-null   object \n",
            " 1   prev_rfs              1404 non-null   object \n",
            " 2   reminder              1404 non-null   object \n",
            " 3   fee_probable          1404 non-null   float64\n",
            " 4   outcome               1404 non-null   int64  \n",
            " 5   project_type          1404 non-null   object \n",
            " 6   building_type         1404 non-null   object \n",
            " 7   units                 1286 non-null   float64\n",
            " 8   sow_Class 1 RFS       1404 non-null   bool   \n",
            " 9   sow_Class 2 RFS       1404 non-null   bool   \n",
            " 10  sow_Class 3 RFS       1404 non-null   bool   \n",
            " 11  sow_PA & Class 1 RFS  1404 non-null   bool   \n",
            " 12  sow_Update RFS        1404 non-null   bool   \n",
            "dtypes: bool(5), float64(2), int64(1), object(5)\n",
            "memory usage: 105.6+ KB\n"
          ]
        }
      ]
    },
    {
      "cell_type": "markdown",
      "source": [
        "***region***"
      ],
      "metadata": {
        "id": "yGdokqkaOQ4o"
      }
    },
    {
      "cell_type": "markdown",
      "source": [
        "We already checked this one for the ALL model data,"
      ],
      "metadata": {
        "id": "jGcMo7aSOVPi"
      }
    },
    {
      "cell_type": "code",
      "source": [
        "rfs['region'].value_counts(dropna=False)"
      ],
      "metadata": {
        "colab": {
          "base_uri": "https://localhost:8080/",
          "height": 404
        },
        "id": "7z4CcXOROieN",
        "outputId": "f86885bd-b551-4568-d142-235bf4357115"
      },
      "execution_count": 53,
      "outputs": [
        {
          "output_type": "execute_result",
          "data": {
            "text/plain": [
              "region\n",
              "TOR        875\n",
              "HUR        216\n",
              "EO         213\n",
              "GH          64\n",
              "Unknown     15\n",
              "GR          10\n",
              "LON          8\n",
              "WIN          3\n",
              "Name: count, dtype: int64"
            ],
            "text/html": [
              "<div>\n",
              "<style scoped>\n",
              "    .dataframe tbody tr th:only-of-type {\n",
              "        vertical-align: middle;\n",
              "    }\n",
              "\n",
              "    .dataframe tbody tr th {\n",
              "        vertical-align: top;\n",
              "    }\n",
              "\n",
              "    .dataframe thead th {\n",
              "        text-align: right;\n",
              "    }\n",
              "</style>\n",
              "<table border=\"1\" class=\"dataframe\">\n",
              "  <thead>\n",
              "    <tr style=\"text-align: right;\">\n",
              "      <th></th>\n",
              "      <th>count</th>\n",
              "    </tr>\n",
              "    <tr>\n",
              "      <th>region</th>\n",
              "      <th></th>\n",
              "    </tr>\n",
              "  </thead>\n",
              "  <tbody>\n",
              "    <tr>\n",
              "      <th>TOR</th>\n",
              "      <td>875</td>\n",
              "    </tr>\n",
              "    <tr>\n",
              "      <th>HUR</th>\n",
              "      <td>216</td>\n",
              "    </tr>\n",
              "    <tr>\n",
              "      <th>EO</th>\n",
              "      <td>213</td>\n",
              "    </tr>\n",
              "    <tr>\n",
              "      <th>GH</th>\n",
              "      <td>64</td>\n",
              "    </tr>\n",
              "    <tr>\n",
              "      <th>Unknown</th>\n",
              "      <td>15</td>\n",
              "    </tr>\n",
              "    <tr>\n",
              "      <th>GR</th>\n",
              "      <td>10</td>\n",
              "    </tr>\n",
              "    <tr>\n",
              "      <th>LON</th>\n",
              "      <td>8</td>\n",
              "    </tr>\n",
              "    <tr>\n",
              "      <th>WIN</th>\n",
              "      <td>3</td>\n",
              "    </tr>\n",
              "  </tbody>\n",
              "</table>\n",
              "</div><br><label><b>dtype:</b> int64</label>"
            ]
          },
          "metadata": {},
          "execution_count": 53
        }
      ]
    },
    {
      "cell_type": "code",
      "source": [
        "#we'll apply the same goruping we did to the ALL data\n",
        "rfs['region'] = rfs['region'].replace({\n",
        "    'WIN': 'Other',\n",
        "    'GR': 'Other',\n",
        "    'LON': 'Other'\n",
        "})"
      ],
      "metadata": {
        "id": "0JnrGQtGOfMS"
      },
      "execution_count": 54,
      "outputs": []
    },
    {
      "cell_type": "code",
      "source": [
        "#create dummies\n",
        "rfs = pd.get_dummies(rfs, columns=['region'], prefix = 'region')"
      ],
      "metadata": {
        "id": "wdHEknr1IkP2"
      },
      "execution_count": 55,
      "outputs": []
    },
    {
      "cell_type": "code",
      "source": [
        "rfs.info()"
      ],
      "metadata": {
        "colab": {
          "base_uri": "https://localhost:8080/"
        },
        "id": "iovmR_O0Jbox",
        "outputId": "87f55190-3d9c-4a77-9cef-0b3e5f68df08"
      },
      "execution_count": 56,
      "outputs": [
        {
          "output_type": "stream",
          "name": "stdout",
          "text": [
            "<class 'pandas.core.frame.DataFrame'>\n",
            "Index: 1404 entries, 0 to 2274\n",
            "Data columns (total 18 columns):\n",
            " #   Column                Non-Null Count  Dtype  \n",
            "---  ------                --------------  -----  \n",
            " 0   prev_rfs              1404 non-null   object \n",
            " 1   reminder              1404 non-null   object \n",
            " 2   fee_probable          1404 non-null   float64\n",
            " 3   outcome               1404 non-null   int64  \n",
            " 4   project_type          1404 non-null   object \n",
            " 5   building_type         1404 non-null   object \n",
            " 6   units                 1286 non-null   float64\n",
            " 7   sow_Class 1 RFS       1404 non-null   bool   \n",
            " 8   sow_Class 2 RFS       1404 non-null   bool   \n",
            " 9   sow_Class 3 RFS       1404 non-null   bool   \n",
            " 10  sow_PA & Class 1 RFS  1404 non-null   bool   \n",
            " 11  sow_Update RFS        1404 non-null   bool   \n",
            " 12  region_EO             1404 non-null   bool   \n",
            " 13  region_GH             1404 non-null   bool   \n",
            " 14  region_HUR            1404 non-null   bool   \n",
            " 15  region_Other          1404 non-null   bool   \n",
            " 16  region_TOR            1404 non-null   bool   \n",
            " 17  region_Unknown        1404 non-null   bool   \n",
            "dtypes: bool(11), float64(2), int64(1), object(4)\n",
            "memory usage: 102.8+ KB\n"
          ]
        }
      ]
    },
    {
      "cell_type": "markdown",
      "source": [
        "**prev_rfs**"
      ],
      "metadata": {
        "id": "4wYyYGTgOxi8"
      }
    },
    {
      "cell_type": "code",
      "source": [
        "rfs['prev_rfs'].value_counts(dropna=False)"
      ],
      "metadata": {
        "colab": {
          "base_uri": "https://localhost:8080/",
          "height": 215
        },
        "id": "SXd9yBpNO2Qb",
        "outputId": "ec3de7f4-9278-4cf2-a1be-bc7496d44979"
      },
      "execution_count": 57,
      "outputs": [
        {
          "output_type": "execute_result",
          "data": {
            "text/plain": [
              "prev_rfs\n",
              "No     748\n",
              "Yes    656\n",
              "Name: count, dtype: int64"
            ],
            "text/html": [
              "<div>\n",
              "<style scoped>\n",
              "    .dataframe tbody tr th:only-of-type {\n",
              "        vertical-align: middle;\n",
              "    }\n",
              "\n",
              "    .dataframe tbody tr th {\n",
              "        vertical-align: top;\n",
              "    }\n",
              "\n",
              "    .dataframe thead th {\n",
              "        text-align: right;\n",
              "    }\n",
              "</style>\n",
              "<table border=\"1\" class=\"dataframe\">\n",
              "  <thead>\n",
              "    <tr style=\"text-align: right;\">\n",
              "      <th></th>\n",
              "      <th>count</th>\n",
              "    </tr>\n",
              "    <tr>\n",
              "      <th>prev_rfs</th>\n",
              "      <th></th>\n",
              "    </tr>\n",
              "  </thead>\n",
              "  <tbody>\n",
              "    <tr>\n",
              "      <th>No</th>\n",
              "      <td>748</td>\n",
              "    </tr>\n",
              "    <tr>\n",
              "      <th>Yes</th>\n",
              "      <td>656</td>\n",
              "    </tr>\n",
              "  </tbody>\n",
              "</table>\n",
              "</div><br><label><b>dtype:</b> int64</label>"
            ]
          },
          "metadata": {},
          "execution_count": 57
        }
      ]
    },
    {
      "cell_type": "code",
      "source": [
        "#We'll convert this to 1 and 0\n",
        "rfs['prev_rfs'] = rfs['prev_rfs'].replace({'No': 0, 'Yes': 1})"
      ],
      "metadata": {
        "colab": {
          "base_uri": "https://localhost:8080/"
        },
        "id": "k3To9oVmPGEB",
        "outputId": "ecc54c9c-6772-447b-c630-b6d3f0c4cd27"
      },
      "execution_count": 58,
      "outputs": [
        {
          "output_type": "stream",
          "name": "stderr",
          "text": [
            "<ipython-input-58-a839b01b9d29>:2: FutureWarning: Downcasting behavior in `replace` is deprecated and will be removed in a future version. To retain the old behavior, explicitly call `result.infer_objects(copy=False)`. To opt-in to the future behavior, set `pd.set_option('future.no_silent_downcasting', True)`\n",
            "  rfs['prev_rfs'] = rfs['prev_rfs'].replace({'No': 0, 'Yes': 1})\n"
          ]
        }
      ]
    },
    {
      "cell_type": "code",
      "source": [
        "rfs['prev_rfs'].value_counts(dropna=False)"
      ],
      "metadata": {
        "colab": {
          "base_uri": "https://localhost:8080/",
          "height": 215
        },
        "id": "njqPU28JPVTJ",
        "outputId": "8ce360d3-1c24-4e26-9e31-f94ec989eea8"
      },
      "execution_count": 59,
      "outputs": [
        {
          "output_type": "execute_result",
          "data": {
            "text/plain": [
              "prev_rfs\n",
              "0    748\n",
              "1    656\n",
              "Name: count, dtype: int64"
            ],
            "text/html": [
              "<div>\n",
              "<style scoped>\n",
              "    .dataframe tbody tr th:only-of-type {\n",
              "        vertical-align: middle;\n",
              "    }\n",
              "\n",
              "    .dataframe tbody tr th {\n",
              "        vertical-align: top;\n",
              "    }\n",
              "\n",
              "    .dataframe thead th {\n",
              "        text-align: right;\n",
              "    }\n",
              "</style>\n",
              "<table border=\"1\" class=\"dataframe\">\n",
              "  <thead>\n",
              "    <tr style=\"text-align: right;\">\n",
              "      <th></th>\n",
              "      <th>count</th>\n",
              "    </tr>\n",
              "    <tr>\n",
              "      <th>prev_rfs</th>\n",
              "      <th></th>\n",
              "    </tr>\n",
              "  </thead>\n",
              "  <tbody>\n",
              "    <tr>\n",
              "      <th>0</th>\n",
              "      <td>748</td>\n",
              "    </tr>\n",
              "    <tr>\n",
              "      <th>1</th>\n",
              "      <td>656</td>\n",
              "    </tr>\n",
              "  </tbody>\n",
              "</table>\n",
              "</div><br><label><b>dtype:</b> int64</label>"
            ]
          },
          "metadata": {},
          "execution_count": 59
        }
      ]
    },
    {
      "cell_type": "markdown",
      "source": [
        "***reminder***"
      ],
      "metadata": {
        "id": "hJib0rNQPX_n"
      }
    },
    {
      "cell_type": "code",
      "source": [
        "rfs['reminder'].value_counts(dropna=False)"
      ],
      "metadata": {
        "colab": {
          "base_uri": "https://localhost:8080/",
          "height": 215
        },
        "id": "gIBX9pe-PdFP",
        "outputId": "ad60ba2a-4ed1-4c37-cb2d-968ee2d4ad45"
      },
      "execution_count": 60,
      "outputs": [
        {
          "output_type": "execute_result",
          "data": {
            "text/plain": [
              "reminder\n",
              "No     931\n",
              "Yes    473\n",
              "Name: count, dtype: int64"
            ],
            "text/html": [
              "<div>\n",
              "<style scoped>\n",
              "    .dataframe tbody tr th:only-of-type {\n",
              "        vertical-align: middle;\n",
              "    }\n",
              "\n",
              "    .dataframe tbody tr th {\n",
              "        vertical-align: top;\n",
              "    }\n",
              "\n",
              "    .dataframe thead th {\n",
              "        text-align: right;\n",
              "    }\n",
              "</style>\n",
              "<table border=\"1\" class=\"dataframe\">\n",
              "  <thead>\n",
              "    <tr style=\"text-align: right;\">\n",
              "      <th></th>\n",
              "      <th>count</th>\n",
              "    </tr>\n",
              "    <tr>\n",
              "      <th>reminder</th>\n",
              "      <th></th>\n",
              "    </tr>\n",
              "  </thead>\n",
              "  <tbody>\n",
              "    <tr>\n",
              "      <th>No</th>\n",
              "      <td>931</td>\n",
              "    </tr>\n",
              "    <tr>\n",
              "      <th>Yes</th>\n",
              "      <td>473</td>\n",
              "    </tr>\n",
              "  </tbody>\n",
              "</table>\n",
              "</div><br><label><b>dtype:</b> int64</label>"
            ]
          },
          "metadata": {},
          "execution_count": 60
        }
      ]
    },
    {
      "cell_type": "code",
      "source": [
        "#we'll convert this too binary as well\n",
        "rfs['reminder'] = rfs['reminder'].replace({'No': 0, 'Yes': 1})"
      ],
      "metadata": {
        "colab": {
          "base_uri": "https://localhost:8080/"
        },
        "id": "rvhzyrIkPls0",
        "outputId": "be3abd6e-be8d-4759-b062-36266929e0ce"
      },
      "execution_count": 61,
      "outputs": [
        {
          "output_type": "stream",
          "name": "stderr",
          "text": [
            "<ipython-input-61-5a9f03d97515>:2: FutureWarning: Downcasting behavior in `replace` is deprecated and will be removed in a future version. To retain the old behavior, explicitly call `result.infer_objects(copy=False)`. To opt-in to the future behavior, set `pd.set_option('future.no_silent_downcasting', True)`\n",
            "  rfs['reminder'] = rfs['reminder'].replace({'No': 0, 'Yes': 1})\n"
          ]
        }
      ]
    },
    {
      "cell_type": "code",
      "source": [
        "rfs['reminder'].value_counts(dropna=False)"
      ],
      "metadata": {
        "colab": {
          "base_uri": "https://localhost:8080/",
          "height": 215
        },
        "id": "xHOu8GkOPoMF",
        "outputId": "b73b9f0f-9240-4ce6-f760-dfd15b7df992"
      },
      "execution_count": 62,
      "outputs": [
        {
          "output_type": "execute_result",
          "data": {
            "text/plain": [
              "reminder\n",
              "0    931\n",
              "1    473\n",
              "Name: count, dtype: int64"
            ],
            "text/html": [
              "<div>\n",
              "<style scoped>\n",
              "    .dataframe tbody tr th:only-of-type {\n",
              "        vertical-align: middle;\n",
              "    }\n",
              "\n",
              "    .dataframe tbody tr th {\n",
              "        vertical-align: top;\n",
              "    }\n",
              "\n",
              "    .dataframe thead th {\n",
              "        text-align: right;\n",
              "    }\n",
              "</style>\n",
              "<table border=\"1\" class=\"dataframe\">\n",
              "  <thead>\n",
              "    <tr style=\"text-align: right;\">\n",
              "      <th></th>\n",
              "      <th>count</th>\n",
              "    </tr>\n",
              "    <tr>\n",
              "      <th>reminder</th>\n",
              "      <th></th>\n",
              "    </tr>\n",
              "  </thead>\n",
              "  <tbody>\n",
              "    <tr>\n",
              "      <th>0</th>\n",
              "      <td>931</td>\n",
              "    </tr>\n",
              "    <tr>\n",
              "      <th>1</th>\n",
              "      <td>473</td>\n",
              "    </tr>\n",
              "  </tbody>\n",
              "</table>\n",
              "</div><br><label><b>dtype:</b> int64</label>"
            ]
          },
          "metadata": {},
          "execution_count": 62
        }
      ]
    },
    {
      "cell_type": "markdown",
      "source": [
        "**building_type**"
      ],
      "metadata": {
        "id": "3ap7wQSCPvxx"
      }
    },
    {
      "cell_type": "code",
      "source": [
        "rfs['building_type'].value_counts(dropna=False)"
      ],
      "metadata": {
        "colab": {
          "base_uri": "https://localhost:8080/",
          "height": 372
        },
        "id": "3Oyj14odP0Yv",
        "outputId": "580695bb-2444-4e76-fe42-9fc51db14bda"
      },
      "execution_count": 63,
      "outputs": [
        {
          "output_type": "execute_result",
          "data": {
            "text/plain": [
              "building_type\n",
              "highrise       422\n",
              "townhouse      388\n",
              "unknown        171\n",
              "residential    144\n",
              "commercial     140\n",
              "potl           110\n",
              "mixed_use       29\n",
              "Name: count, dtype: int64"
            ],
            "text/html": [
              "<div>\n",
              "<style scoped>\n",
              "    .dataframe tbody tr th:only-of-type {\n",
              "        vertical-align: middle;\n",
              "    }\n",
              "\n",
              "    .dataframe tbody tr th {\n",
              "        vertical-align: top;\n",
              "    }\n",
              "\n",
              "    .dataframe thead th {\n",
              "        text-align: right;\n",
              "    }\n",
              "</style>\n",
              "<table border=\"1\" class=\"dataframe\">\n",
              "  <thead>\n",
              "    <tr style=\"text-align: right;\">\n",
              "      <th></th>\n",
              "      <th>count</th>\n",
              "    </tr>\n",
              "    <tr>\n",
              "      <th>building_type</th>\n",
              "      <th></th>\n",
              "    </tr>\n",
              "  </thead>\n",
              "  <tbody>\n",
              "    <tr>\n",
              "      <th>highrise</th>\n",
              "      <td>422</td>\n",
              "    </tr>\n",
              "    <tr>\n",
              "      <th>townhouse</th>\n",
              "      <td>388</td>\n",
              "    </tr>\n",
              "    <tr>\n",
              "      <th>unknown</th>\n",
              "      <td>171</td>\n",
              "    </tr>\n",
              "    <tr>\n",
              "      <th>residential</th>\n",
              "      <td>144</td>\n",
              "    </tr>\n",
              "    <tr>\n",
              "      <th>commercial</th>\n",
              "      <td>140</td>\n",
              "    </tr>\n",
              "    <tr>\n",
              "      <th>potl</th>\n",
              "      <td>110</td>\n",
              "    </tr>\n",
              "    <tr>\n",
              "      <th>mixed_use</th>\n",
              "      <td>29</td>\n",
              "    </tr>\n",
              "  </tbody>\n",
              "</table>\n",
              "</div><br><label><b>dtype:</b> int64</label>"
            ]
          },
          "metadata": {},
          "execution_count": 63
        }
      ]
    },
    {
      "cell_type": "code",
      "source": [
        "#We'll convert this to dummy variables\n",
        "rfs = pd.get_dummies(rfs, columns=['building_type'], prefix = 'building')"
      ],
      "metadata": {
        "id": "pe8dj4vwP4vE"
      },
      "execution_count": 64,
      "outputs": []
    },
    {
      "cell_type": "code",
      "source": [
        "rfs.info()"
      ],
      "metadata": {
        "colab": {
          "base_uri": "https://localhost:8080/"
        },
        "id": "OjTIJ2-LQN7F",
        "outputId": "8f14f5db-c6a8-46d4-ee00-53bf4262a109"
      },
      "execution_count": 65,
      "outputs": [
        {
          "output_type": "stream",
          "name": "stdout",
          "text": [
            "<class 'pandas.core.frame.DataFrame'>\n",
            "Index: 1404 entries, 0 to 2274\n",
            "Data columns (total 24 columns):\n",
            " #   Column                Non-Null Count  Dtype  \n",
            "---  ------                --------------  -----  \n",
            " 0   prev_rfs              1404 non-null   int64  \n",
            " 1   reminder              1404 non-null   int64  \n",
            " 2   fee_probable          1404 non-null   float64\n",
            " 3   outcome               1404 non-null   int64  \n",
            " 4   project_type          1404 non-null   object \n",
            " 5   units                 1286 non-null   float64\n",
            " 6   sow_Class 1 RFS       1404 non-null   bool   \n",
            " 7   sow_Class 2 RFS       1404 non-null   bool   \n",
            " 8   sow_Class 3 RFS       1404 non-null   bool   \n",
            " 9   sow_PA & Class 1 RFS  1404 non-null   bool   \n",
            " 10  sow_Update RFS        1404 non-null   bool   \n",
            " 11  region_EO             1404 non-null   bool   \n",
            " 12  region_GH             1404 non-null   bool   \n",
            " 13  region_HUR            1404 non-null   bool   \n",
            " 14  region_Other          1404 non-null   bool   \n",
            " 15  region_TOR            1404 non-null   bool   \n",
            " 16  region_Unknown        1404 non-null   bool   \n",
            " 17  building_commercial   1404 non-null   bool   \n",
            " 18  building_highrise     1404 non-null   bool   \n",
            " 19  building_mixed_use    1404 non-null   bool   \n",
            " 20  building_potl         1404 non-null   bool   \n",
            " 21  building_residential  1404 non-null   bool   \n",
            " 22  building_townhouse    1404 non-null   bool   \n",
            " 23  building_unknown      1404 non-null   bool   \n",
            "dtypes: bool(18), float64(2), int64(3), object(1)\n",
            "memory usage: 101.5+ KB\n"
          ]
        }
      ]
    },
    {
      "cell_type": "markdown",
      "source": [
        "***project_type***"
      ],
      "metadata": {
        "id": "kOXS639hSN1J"
      }
    },
    {
      "cell_type": "markdown",
      "source": [
        "This is RFS for all records, so we we'll drop the column"
      ],
      "metadata": {
        "id": "I0uxj3ObSPX_"
      }
    },
    {
      "cell_type": "code",
      "source": [
        "rfs = rfs.drop('project_type', axis=1)"
      ],
      "metadata": {
        "id": "FVcW1tMQSVY-"
      },
      "execution_count": 66,
      "outputs": []
    },
    {
      "cell_type": "code",
      "source": [
        "rfs.info()"
      ],
      "metadata": {
        "colab": {
          "base_uri": "https://localhost:8080/"
        },
        "id": "SneWuekaSYyU",
        "outputId": "f5ae069b-821a-43df-92c9-34ffaf819ff2"
      },
      "execution_count": 67,
      "outputs": [
        {
          "output_type": "stream",
          "name": "stdout",
          "text": [
            "<class 'pandas.core.frame.DataFrame'>\n",
            "Index: 1404 entries, 0 to 2274\n",
            "Data columns (total 23 columns):\n",
            " #   Column                Non-Null Count  Dtype  \n",
            "---  ------                --------------  -----  \n",
            " 0   prev_rfs              1404 non-null   int64  \n",
            " 1   reminder              1404 non-null   int64  \n",
            " 2   fee_probable          1404 non-null   float64\n",
            " 3   outcome               1404 non-null   int64  \n",
            " 4   units                 1286 non-null   float64\n",
            " 5   sow_Class 1 RFS       1404 non-null   bool   \n",
            " 6   sow_Class 2 RFS       1404 non-null   bool   \n",
            " 7   sow_Class 3 RFS       1404 non-null   bool   \n",
            " 8   sow_PA & Class 1 RFS  1404 non-null   bool   \n",
            " 9   sow_Update RFS        1404 non-null   bool   \n",
            " 10  region_EO             1404 non-null   bool   \n",
            " 11  region_GH             1404 non-null   bool   \n",
            " 12  region_HUR            1404 non-null   bool   \n",
            " 13  region_Other          1404 non-null   bool   \n",
            " 14  region_TOR            1404 non-null   bool   \n",
            " 15  region_Unknown        1404 non-null   bool   \n",
            " 16  building_commercial   1404 non-null   bool   \n",
            " 17  building_highrise     1404 non-null   bool   \n",
            " 18  building_mixed_use    1404 non-null   bool   \n",
            " 19  building_potl         1404 non-null   bool   \n",
            " 20  building_residential  1404 non-null   bool   \n",
            " 21  building_townhouse    1404 non-null   bool   \n",
            " 22  building_unknown      1404 non-null   bool   \n",
            "dtypes: bool(18), float64(2), int64(3)\n",
            "memory usage: 90.5 KB\n"
          ]
        }
      ]
    },
    {
      "cell_type": "markdown",
      "source": [
        "**units**"
      ],
      "metadata": {
        "id": "tQwlkDIYQR1D"
      }
    },
    {
      "cell_type": "markdown",
      "source": [
        "This feature is continuous, but similar to fee probable, is highly left skewed. We will have to bin it. We'll do this after the train/test split."
      ],
      "metadata": {
        "id": "YUcxWhBFQaXX"
      }
    },
    {
      "cell_type": "markdown",
      "source": [
        "There are quite a few nulls in this column, but since this variable will be binned, that will remove this column. The nulls will simply not have a bin assigned to them"
      ],
      "metadata": {
        "id": "1yHD1PJJQrvt"
      }
    },
    {
      "cell_type": "code",
      "source": [
        "rfs['units'].isnull().sum()"
      ],
      "metadata": {
        "colab": {
          "base_uri": "https://localhost:8080/"
        },
        "id": "z3mbxqr_QXyb",
        "outputId": "d0977d67-848f-422b-b260-1047a1551853"
      },
      "execution_count": 68,
      "outputs": [
        {
          "output_type": "execute_result",
          "data": {
            "text/plain": [
              "118"
            ]
          },
          "metadata": {},
          "execution_count": 68
        }
      ]
    },
    {
      "cell_type": "markdown",
      "source": [
        "# **RFS Model Transformations**"
      ],
      "metadata": {
        "id": "5XSZc7Z0RX2Q"
      }
    },
    {
      "cell_type": "markdown",
      "source": [
        "We'll split our data before apply transformations"
      ],
      "metadata": {
        "id": "MT16aP83RjMN"
      }
    },
    {
      "cell_type": "code",
      "source": [
        "X = rfs.drop('outcome', axis=1)\n",
        "y = rfs['outcome']"
      ],
      "metadata": {
        "id": "Pvfd4yAwR3Po"
      },
      "execution_count": 69,
      "outputs": []
    },
    {
      "cell_type": "code",
      "source": [
        "X_train_rfs, X_test_rfs, y_train_rfs, y_test_rfs = train_test_split(X, y, test_size=0.2, random_state=37)"
      ],
      "metadata": {
        "id": "p5Png3UyRbtI"
      },
      "execution_count": 70,
      "outputs": []
    },
    {
      "cell_type": "markdown",
      "source": [
        "**Units**"
      ],
      "metadata": {
        "id": "O3To3YbiUB8H"
      }
    },
    {
      "cell_type": "markdown",
      "source": [
        "This needs to be binned and converted to dummies."
      ],
      "metadata": {
        "id": "OxGHwlGmUF14"
      }
    },
    {
      "cell_type": "code",
      "source": [
        "print(X_train_rfs['units'].isnull().sum())\n",
        "print(X_test_rfs['units'].isnull().sum())"
      ],
      "metadata": {
        "colab": {
          "base_uri": "https://localhost:8080/"
        },
        "id": "pAXD0sr4E0dd",
        "outputId": "3e540d70-b1f1-42f6-895c-ed67ef73030e"
      },
      "execution_count": 71,
      "outputs": [
        {
          "output_type": "stream",
          "name": "stdout",
          "text": [
            "89\n",
            "29\n"
          ]
        }
      ]
    },
    {
      "cell_type": "markdown",
      "source": [
        "The distribution is very similar to probable_fee, so it is doubtful that clustering will work to create meaningful buckets, but we'll try first just in case"
      ],
      "metadata": {
        "id": "-nI4WZnlVJ4-"
      }
    },
    {
      "cell_type": "code",
      "source": [
        "X_train_rfs['log_units'] = np.log1p(X_train_rfs['units'])\n",
        "\n",
        "def log_bins(data, num_bins):\n",
        "    min_val = data.min()\n",
        "    max_val = data.max()\n",
        "    bin_edges = np.logspace(np.log10(min_val), np.log10(max_val), num_bins)\n",
        "    return pd.cut(data, bins=bin_edges, labels=False), bin_edges\n",
        "\n",
        "X_train_rfs['log_units_binned'], bin_edges = log_bins(X_train_rfs['log_units'], num_bins=9)"
      ],
      "metadata": {
        "id": "EMTpBn9DVIxI"
      },
      "execution_count": 72,
      "outputs": []
    },
    {
      "cell_type": "code",
      "source": [
        "pd.pivot_table(X_train_rfs, index='log_units_binned', values='units', aggfunc=['min', 'max', 'count'])"
      ],
      "metadata": {
        "colab": {
          "base_uri": "https://localhost:8080/",
          "height": 332
        },
        "id": "SNZno8I5UFAI",
        "outputId": "764bc746-0a5c-4ef3-8084-3384cac18c6b"
      },
      "execution_count": 73,
      "outputs": [
        {
          "output_type": "execute_result",
          "data": {
            "text/plain": [
              "                    min     max count\n",
              "                  units   units units\n",
              "log_units_binned                     \n",
              "1.0                 2.0     2.0     2\n",
              "2.0                 3.0     4.0    13\n",
              "3.0                 5.0     8.0    48\n",
              "4.0                 9.0    18.0   141\n",
              "5.0                19.0    54.0   365\n",
              "6.0                55.0   215.0   316\n",
              "7.0               216.0  1343.0   146"
            ],
            "text/html": [
              "\n",
              "  <div id=\"df-85a48cec-bdc5-4cd2-8e64-335e49d9e771\" class=\"colab-df-container\">\n",
              "    <div>\n",
              "<style scoped>\n",
              "    .dataframe tbody tr th:only-of-type {\n",
              "        vertical-align: middle;\n",
              "    }\n",
              "\n",
              "    .dataframe tbody tr th {\n",
              "        vertical-align: top;\n",
              "    }\n",
              "\n",
              "    .dataframe thead tr th {\n",
              "        text-align: left;\n",
              "    }\n",
              "\n",
              "    .dataframe thead tr:last-of-type th {\n",
              "        text-align: right;\n",
              "    }\n",
              "</style>\n",
              "<table border=\"1\" class=\"dataframe\">\n",
              "  <thead>\n",
              "    <tr>\n",
              "      <th></th>\n",
              "      <th>min</th>\n",
              "      <th>max</th>\n",
              "      <th>count</th>\n",
              "    </tr>\n",
              "    <tr>\n",
              "      <th></th>\n",
              "      <th>units</th>\n",
              "      <th>units</th>\n",
              "      <th>units</th>\n",
              "    </tr>\n",
              "    <tr>\n",
              "      <th>log_units_binned</th>\n",
              "      <th></th>\n",
              "      <th></th>\n",
              "      <th></th>\n",
              "    </tr>\n",
              "  </thead>\n",
              "  <tbody>\n",
              "    <tr>\n",
              "      <th>1.0</th>\n",
              "      <td>2.0</td>\n",
              "      <td>2.0</td>\n",
              "      <td>2</td>\n",
              "    </tr>\n",
              "    <tr>\n",
              "      <th>2.0</th>\n",
              "      <td>3.0</td>\n",
              "      <td>4.0</td>\n",
              "      <td>13</td>\n",
              "    </tr>\n",
              "    <tr>\n",
              "      <th>3.0</th>\n",
              "      <td>5.0</td>\n",
              "      <td>8.0</td>\n",
              "      <td>48</td>\n",
              "    </tr>\n",
              "    <tr>\n",
              "      <th>4.0</th>\n",
              "      <td>9.0</td>\n",
              "      <td>18.0</td>\n",
              "      <td>141</td>\n",
              "    </tr>\n",
              "    <tr>\n",
              "      <th>5.0</th>\n",
              "      <td>19.0</td>\n",
              "      <td>54.0</td>\n",
              "      <td>365</td>\n",
              "    </tr>\n",
              "    <tr>\n",
              "      <th>6.0</th>\n",
              "      <td>55.0</td>\n",
              "      <td>215.0</td>\n",
              "      <td>316</td>\n",
              "    </tr>\n",
              "    <tr>\n",
              "      <th>7.0</th>\n",
              "      <td>216.0</td>\n",
              "      <td>1343.0</td>\n",
              "      <td>146</td>\n",
              "    </tr>\n",
              "  </tbody>\n",
              "</table>\n",
              "</div>\n",
              "    <div class=\"colab-df-buttons\">\n",
              "\n",
              "  <div class=\"colab-df-container\">\n",
              "    <button class=\"colab-df-convert\" onclick=\"convertToInteractive('df-85a48cec-bdc5-4cd2-8e64-335e49d9e771')\"\n",
              "            title=\"Convert this dataframe to an interactive table.\"\n",
              "            style=\"display:none;\">\n",
              "\n",
              "  <svg xmlns=\"http://www.w3.org/2000/svg\" height=\"24px\" viewBox=\"0 -960 960 960\">\n",
              "    <path d=\"M120-120v-720h720v720H120Zm60-500h600v-160H180v160Zm220 220h160v-160H400v160Zm0 220h160v-160H400v160ZM180-400h160v-160H180v160Zm440 0h160v-160H620v160ZM180-180h160v-160H180v160Zm440 0h160v-160H620v160Z\"/>\n",
              "  </svg>\n",
              "    </button>\n",
              "\n",
              "  <style>\n",
              "    .colab-df-container {\n",
              "      display:flex;\n",
              "      gap: 12px;\n",
              "    }\n",
              "\n",
              "    .colab-df-convert {\n",
              "      background-color: #E8F0FE;\n",
              "      border: none;\n",
              "      border-radius: 50%;\n",
              "      cursor: pointer;\n",
              "      display: none;\n",
              "      fill: #1967D2;\n",
              "      height: 32px;\n",
              "      padding: 0 0 0 0;\n",
              "      width: 32px;\n",
              "    }\n",
              "\n",
              "    .colab-df-convert:hover {\n",
              "      background-color: #E2EBFA;\n",
              "      box-shadow: 0px 1px 2px rgba(60, 64, 67, 0.3), 0px 1px 3px 1px rgba(60, 64, 67, 0.15);\n",
              "      fill: #174EA6;\n",
              "    }\n",
              "\n",
              "    .colab-df-buttons div {\n",
              "      margin-bottom: 4px;\n",
              "    }\n",
              "\n",
              "    [theme=dark] .colab-df-convert {\n",
              "      background-color: #3B4455;\n",
              "      fill: #D2E3FC;\n",
              "    }\n",
              "\n",
              "    [theme=dark] .colab-df-convert:hover {\n",
              "      background-color: #434B5C;\n",
              "      box-shadow: 0px 1px 3px 1px rgba(0, 0, 0, 0.15);\n",
              "      filter: drop-shadow(0px 1px 2px rgba(0, 0, 0, 0.3));\n",
              "      fill: #FFFFFF;\n",
              "    }\n",
              "  </style>\n",
              "\n",
              "    <script>\n",
              "      const buttonEl =\n",
              "        document.querySelector('#df-85a48cec-bdc5-4cd2-8e64-335e49d9e771 button.colab-df-convert');\n",
              "      buttonEl.style.display =\n",
              "        google.colab.kernel.accessAllowed ? 'block' : 'none';\n",
              "\n",
              "      async function convertToInteractive(key) {\n",
              "        const element = document.querySelector('#df-85a48cec-bdc5-4cd2-8e64-335e49d9e771');\n",
              "        const dataTable =\n",
              "          await google.colab.kernel.invokeFunction('convertToInteractive',\n",
              "                                                    [key], {});\n",
              "        if (!dataTable) return;\n",
              "\n",
              "        const docLinkHtml = 'Like what you see? Visit the ' +\n",
              "          '<a target=\"_blank\" href=https://colab.research.google.com/notebooks/data_table.ipynb>data table notebook</a>'\n",
              "          + ' to learn more about interactive tables.';\n",
              "        element.innerHTML = '';\n",
              "        dataTable['output_type'] = 'display_data';\n",
              "        await google.colab.output.renderOutput(dataTable, element);\n",
              "        const docLink = document.createElement('div');\n",
              "        docLink.innerHTML = docLinkHtml;\n",
              "        element.appendChild(docLink);\n",
              "      }\n",
              "    </script>\n",
              "  </div>\n",
              "\n",
              "\n",
              "<div id=\"df-69fa3bcc-a78c-43ae-919c-094be752ecb3\">\n",
              "  <button class=\"colab-df-quickchart\" onclick=\"quickchart('df-69fa3bcc-a78c-43ae-919c-094be752ecb3')\"\n",
              "            title=\"Suggest charts\"\n",
              "            style=\"display:none;\">\n",
              "\n",
              "<svg xmlns=\"http://www.w3.org/2000/svg\" height=\"24px\"viewBox=\"0 0 24 24\"\n",
              "     width=\"24px\">\n",
              "    <g>\n",
              "        <path d=\"M19 3H5c-1.1 0-2 .9-2 2v14c0 1.1.9 2 2 2h14c1.1 0 2-.9 2-2V5c0-1.1-.9-2-2-2zM9 17H7v-7h2v7zm4 0h-2V7h2v10zm4 0h-2v-4h2v4z\"/>\n",
              "    </g>\n",
              "</svg>\n",
              "  </button>\n",
              "\n",
              "<style>\n",
              "  .colab-df-quickchart {\n",
              "      --bg-color: #E8F0FE;\n",
              "      --fill-color: #1967D2;\n",
              "      --hover-bg-color: #E2EBFA;\n",
              "      --hover-fill-color: #174EA6;\n",
              "      --disabled-fill-color: #AAA;\n",
              "      --disabled-bg-color: #DDD;\n",
              "  }\n",
              "\n",
              "  [theme=dark] .colab-df-quickchart {\n",
              "      --bg-color: #3B4455;\n",
              "      --fill-color: #D2E3FC;\n",
              "      --hover-bg-color: #434B5C;\n",
              "      --hover-fill-color: #FFFFFF;\n",
              "      --disabled-bg-color: #3B4455;\n",
              "      --disabled-fill-color: #666;\n",
              "  }\n",
              "\n",
              "  .colab-df-quickchart {\n",
              "    background-color: var(--bg-color);\n",
              "    border: none;\n",
              "    border-radius: 50%;\n",
              "    cursor: pointer;\n",
              "    display: none;\n",
              "    fill: var(--fill-color);\n",
              "    height: 32px;\n",
              "    padding: 0;\n",
              "    width: 32px;\n",
              "  }\n",
              "\n",
              "  .colab-df-quickchart:hover {\n",
              "    background-color: var(--hover-bg-color);\n",
              "    box-shadow: 0 1px 2px rgba(60, 64, 67, 0.3), 0 1px 3px 1px rgba(60, 64, 67, 0.15);\n",
              "    fill: var(--button-hover-fill-color);\n",
              "  }\n",
              "\n",
              "  .colab-df-quickchart-complete:disabled,\n",
              "  .colab-df-quickchart-complete:disabled:hover {\n",
              "    background-color: var(--disabled-bg-color);\n",
              "    fill: var(--disabled-fill-color);\n",
              "    box-shadow: none;\n",
              "  }\n",
              "\n",
              "  .colab-df-spinner {\n",
              "    border: 2px solid var(--fill-color);\n",
              "    border-color: transparent;\n",
              "    border-bottom-color: var(--fill-color);\n",
              "    animation:\n",
              "      spin 1s steps(1) infinite;\n",
              "  }\n",
              "\n",
              "  @keyframes spin {\n",
              "    0% {\n",
              "      border-color: transparent;\n",
              "      border-bottom-color: var(--fill-color);\n",
              "      border-left-color: var(--fill-color);\n",
              "    }\n",
              "    20% {\n",
              "      border-color: transparent;\n",
              "      border-left-color: var(--fill-color);\n",
              "      border-top-color: var(--fill-color);\n",
              "    }\n",
              "    30% {\n",
              "      border-color: transparent;\n",
              "      border-left-color: var(--fill-color);\n",
              "      border-top-color: var(--fill-color);\n",
              "      border-right-color: var(--fill-color);\n",
              "    }\n",
              "    40% {\n",
              "      border-color: transparent;\n",
              "      border-right-color: var(--fill-color);\n",
              "      border-top-color: var(--fill-color);\n",
              "    }\n",
              "    60% {\n",
              "      border-color: transparent;\n",
              "      border-right-color: var(--fill-color);\n",
              "    }\n",
              "    80% {\n",
              "      border-color: transparent;\n",
              "      border-right-color: var(--fill-color);\n",
              "      border-bottom-color: var(--fill-color);\n",
              "    }\n",
              "    90% {\n",
              "      border-color: transparent;\n",
              "      border-bottom-color: var(--fill-color);\n",
              "    }\n",
              "  }\n",
              "</style>\n",
              "\n",
              "  <script>\n",
              "    async function quickchart(key) {\n",
              "      const quickchartButtonEl =\n",
              "        document.querySelector('#' + key + ' button');\n",
              "      quickchartButtonEl.disabled = true;  // To prevent multiple clicks.\n",
              "      quickchartButtonEl.classList.add('colab-df-spinner');\n",
              "      try {\n",
              "        const charts = await google.colab.kernel.invokeFunction(\n",
              "            'suggestCharts', [key], {});\n",
              "      } catch (error) {\n",
              "        console.error('Error during call to suggestCharts:', error);\n",
              "      }\n",
              "      quickchartButtonEl.classList.remove('colab-df-spinner');\n",
              "      quickchartButtonEl.classList.add('colab-df-quickchart-complete');\n",
              "    }\n",
              "    (() => {\n",
              "      let quickchartButtonEl =\n",
              "        document.querySelector('#df-69fa3bcc-a78c-43ae-919c-094be752ecb3 button');\n",
              "      quickchartButtonEl.style.display =\n",
              "        google.colab.kernel.accessAllowed ? 'block' : 'none';\n",
              "    })();\n",
              "  </script>\n",
              "</div>\n",
              "\n",
              "    </div>\n",
              "  </div>\n"
            ],
            "application/vnd.google.colaboratory.intrinsic+json": {
              "type": "dataframe",
              "summary": "{\n  \"name\": \"pd\",\n  \"rows\": 7,\n  \"fields\": [\n    {\n      \"column\": [\n        \"log_units_binned\",\n        \"\"\n      ],\n      \"properties\": {\n        \"dtype\": \"number\",\n        \"std\": 2.160246899469287,\n        \"min\": 1.0,\n        \"max\": 7.0,\n        \"num_unique_values\": 7,\n        \"samples\": [\n          1.0,\n          2.0,\n          6.0\n        ],\n        \"semantic_type\": \"\",\n        \"description\": \"\"\n      }\n    },\n    {\n      \"column\": [\n        \"min\",\n        \"units\"\n      ],\n      \"properties\": {\n        \"dtype\": \"number\",\n        \"std\": 78.01800768931186,\n        \"min\": 2.0,\n        \"max\": 216.0,\n        \"num_unique_values\": 7,\n        \"samples\": [\n          2.0,\n          3.0,\n          55.0\n        ],\n        \"semantic_type\": \"\",\n        \"description\": \"\"\n      }\n    },\n    {\n      \"column\": [\n        \"max\",\n        \"units\"\n      ],\n      \"properties\": {\n        \"dtype\": \"number\",\n        \"std\": 494.4850616454214,\n        \"min\": 2.0,\n        \"max\": 1343.0,\n        \"num_unique_values\": 7,\n        \"samples\": [\n          2.0,\n          4.0,\n          215.0\n        ],\n        \"semantic_type\": \"\",\n        \"description\": \"\"\n      }\n    },\n    {\n      \"column\": [\n        \"count\",\n        \"units\"\n      ],\n      \"properties\": {\n        \"dtype\": \"number\",\n        \"std\": 144,\n        \"min\": 2,\n        \"max\": 365,\n        \"num_unique_values\": 7,\n        \"samples\": [\n          2,\n          13,\n          316\n        ],\n        \"semantic_type\": \"\",\n        \"description\": \"\"\n      }\n    }\n  ]\n}"
            }
          },
          "metadata": {},
          "execution_count": 73
        }
      ]
    },
    {
      "cell_type": "code",
      "source": [
        "plt.figure(figsize=(8, 6))\n",
        "plt.hist(X_train_rfs['log_units_binned'], bins=8, edgecolor='k')\n",
        "plt.xlabel('Log Units Bin')\n",
        "plt.ylabel('Frequency')\n",
        "plt.title('Distribution of Unit Bins')"
      ],
      "metadata": {
        "colab": {
          "base_uri": "https://localhost:8080/",
          "height": 581
        },
        "id": "dNpESU4HV5bx",
        "outputId": "c86b0d50-68ec-4612-9f52-c740f343209c"
      },
      "execution_count": 74,
      "outputs": [
        {
          "output_type": "execute_result",
          "data": {
            "text/plain": [
              "Text(0.5, 1.0, 'Distribution of Unit Bins')"
            ]
          },
          "metadata": {},
          "execution_count": 74
        },
        {
          "output_type": "display_data",
          "data": {
            "text/plain": [
              "<Figure size 800x600 with 1 Axes>"
            ],
            "image/png": "[encoded data removed]"
          },
          "metadata": {}
        }
      ]
    },
    {
      "cell_type": "markdown",
      "source": [
        "While this isn't as drastically skewed as the ALL fee, it still isn't great. The bins on the left are very sparse. We'll try equal frequency again"
      ],
      "metadata": {
        "id": "iRVG0yNoWHTt"
      }
    },
    {
      "cell_type": "code",
      "source": [
        "X_train_rfs['equal_units_binned'], bin_edges = pd.qcut(X_train_rfs['units'], q=10, labels=False, retbins=True)"
      ],
      "metadata": {
        "id": "1om-vMIgKbrv"
      },
      "execution_count": 75,
      "outputs": []
    },
    {
      "cell_type": "code",
      "source": [
        "pd.pivot_table(X_train_rfs, index='equal_units_binned', values='units', aggfunc=['min', 'max', 'count'])"
      ],
      "metadata": {
        "colab": {
          "base_uri": "https://localhost:8080/",
          "height": 426
        },
        "id": "3swTgYFIKhiM",
        "outputId": "b09381cb-876d-45eb-a861-14ee018beb47"
      },
      "execution_count": 76,
      "outputs": [
        {
          "output_type": "execute_result",
          "data": {
            "text/plain": [
              "                      min     max count\n",
              "                    units   units units\n",
              "equal_units_binned                     \n",
              "0.0                   1.0    12.0   132\n",
              "1.0                  13.0    18.0    75\n",
              "2.0                  19.0    26.0   113\n",
              "3.0                  27.0    35.0    96\n",
              "4.0                  36.0    47.0   103\n",
              "5.0                  48.0    66.0   105\n",
              "6.0                  67.0    97.0   102\n",
              "7.0                  98.0   150.0   105\n",
              "8.0                 151.0   259.0   100\n",
              "9.0                 260.0  1343.0   103"
            ],
            "text/html": [
              "\n",
              "  <div id=\"df-3273a050-cbce-4255-83df-924092b6c555\" class=\"colab-df-container\">\n",
              "    <div>\n",
              "<style scoped>\n",
              "    .dataframe tbody tr th:only-of-type {\n",
              "        vertical-align: middle;\n",
              "    }\n",
              "\n",
              "    .dataframe tbody tr th {\n",
              "        vertical-align: top;\n",
              "    }\n",
              "\n",
              "    .dataframe thead tr th {\n",
              "        text-align: left;\n",
              "    }\n",
              "\n",
              "    .dataframe thead tr:last-of-type th {\n",
              "        text-align: right;\n",
              "    }\n",
              "</style>\n",
              "<table border=\"1\" class=\"dataframe\">\n",
              "  <thead>\n",
              "    <tr>\n",
              "      <th></th>\n",
              "      <th>min</th>\n",
              "      <th>max</th>\n",
              "      <th>count</th>\n",
              "    </tr>\n",
              "    <tr>\n",
              "      <th></th>\n",
              "      <th>units</th>\n",
              "      <th>units</th>\n",
              "      <th>units</th>\n",
              "    </tr>\n",
              "    <tr>\n",
              "      <th>equal_units_binned</th>\n",
              "      <th></th>\n",
              "      <th></th>\n",
              "      <th></th>\n",
              "    </tr>\n",
              "  </thead>\n",
              "  <tbody>\n",
              "    <tr>\n",
              "      <th>0.0</th>\n",
              "      <td>1.0</td>\n",
              "      <td>12.0</td>\n",
              "      <td>132</td>\n",
              "    </tr>\n",
              "    <tr>\n",
              "      <th>1.0</th>\n",
              "      <td>13.0</td>\n",
              "      <td>18.0</td>\n",
              "      <td>75</td>\n",
              "    </tr>\n",
              "    <tr>\n",
              "      <th>2.0</th>\n",
              "      <td>19.0</td>\n",
              "      <td>26.0</td>\n",
              "      <td>113</td>\n",
              "    </tr>\n",
              "    <tr>\n",
              "      <th>3.0</th>\n",
              "      <td>27.0</td>\n",
              "      <td>35.0</td>\n",
              "      <td>96</td>\n",
              "    </tr>\n",
              "    <tr>\n",
              "      <th>4.0</th>\n",
              "      <td>36.0</td>\n",
              "      <td>47.0</td>\n",
              "      <td>103</td>\n",
              "    </tr>\n",
              "    <tr>\n",
              "      <th>5.0</th>\n",
              "      <td>48.0</td>\n",
              "      <td>66.0</td>\n",
              "      <td>105</td>\n",
              "    </tr>\n",
              "    <tr>\n",
              "      <th>6.0</th>\n",
              "      <td>67.0</td>\n",
              "      <td>97.0</td>\n",
              "      <td>102</td>\n",
              "    </tr>\n",
              "    <tr>\n",
              "      <th>7.0</th>\n",
              "      <td>98.0</td>\n",
              "      <td>150.0</td>\n",
              "      <td>105</td>\n",
              "    </tr>\n",
              "    <tr>\n",
              "      <th>8.0</th>\n",
              "      <td>151.0</td>\n",
              "      <td>259.0</td>\n",
              "      <td>100</td>\n",
              "    </tr>\n",
              "    <tr>\n",
              "      <th>9.0</th>\n",
              "      <td>260.0</td>\n",
              "      <td>1343.0</td>\n",
              "      <td>103</td>\n",
              "    </tr>\n",
              "  </tbody>\n",
              "</table>\n",
              "</div>\n",
              "    <div class=\"colab-df-buttons\">\n",
              "\n",
              "  <div class=\"colab-df-container\">\n",
              "    <button class=\"colab-df-convert\" onclick=\"convertToInteractive('df-3273a050-cbce-4255-83df-924092b6c555')\"\n",
              "            title=\"Convert this dataframe to an interactive table.\"\n",
              "            style=\"display:none;\">\n",
              "\n",
              "  <svg xmlns=\"http://www.w3.org/2000/svg\" height=\"24px\" viewBox=\"0 -960 960 960\">\n",
              "    <path d=\"M120-120v-720h720v720H120Zm60-500h600v-160H180v160Zm220 220h160v-160H400v160Zm0 220h160v-160H400v160ZM180-400h160v-160H180v160Zm440 0h160v-160H620v160ZM180-180h160v-160H180v160Zm440 0h160v-160H620v160Z\"/>\n",
              "  </svg>\n",
              "    </button>\n",
              "\n",
              "  <style>\n",
              "    .colab-df-container {\n",
              "      display:flex;\n",
              "      gap: 12px;\n",
              "    }\n",
              "\n",
              "    .colab-df-convert {\n",
              "      background-color: #E8F0FE;\n",
              "      border: none;\n",
              "      border-radius: 50%;\n",
              "      cursor: pointer;\n",
              "      display: none;\n",
              "      fill: #1967D2;\n",
              "      height: 32px;\n",
              "      padding: 0 0 0 0;\n",
              "      width: 32px;\n",
              "    }\n",
              "\n",
              "    .colab-df-convert:hover {\n",
              "      background-color: #E2EBFA;\n",
              "      box-shadow: 0px 1px 2px rgba(60, 64, 67, 0.3), 0px 1px 3px 1px rgba(60, 64, 67, 0.15);\n",
              "      fill: #174EA6;\n",
              "    }\n",
              "\n",
              "    .colab-df-buttons div {\n",
              "      margin-bottom: 4px;\n",
              "    }\n",
              "\n",
              "    [theme=dark] .colab-df-convert {\n",
              "      background-color: #3B4455;\n",
              "      fill: #D2E3FC;\n",
              "    }\n",
              "\n",
              "    [theme=dark] .colab-df-convert:hover {\n",
              "      background-color: #434B5C;\n",
              "      box-shadow: 0px 1px 3px 1px rgba(0, 0, 0, 0.15);\n",
              "      filter: drop-shadow(0px 1px 2px rgba(0, 0, 0, 0.3));\n",
              "      fill: #FFFFFF;\n",
              "    }\n",
              "  </style>\n",
              "\n",
              "    <script>\n",
              "      const buttonEl =\n",
              "        document.querySelector('#df-3273a050-cbce-4255-83df-924092b6c555 button.colab-df-convert');\n",
              "      buttonEl.style.display =\n",
              "        google.colab.kernel.accessAllowed ? 'block' : 'none';\n",
              "\n",
              "      async function convertToInteractive(key) {\n",
              "        const element = document.querySelector('#df-3273a050-cbce-4255-83df-924092b6c555');\n",
              "        const dataTable =\n",
              "          await google.colab.kernel.invokeFunction('convertToInteractive',\n",
              "                                                    [key], {});\n",
              "        if (!dataTable) return;\n",
              "\n",
              "        const docLinkHtml = 'Like what you see? Visit the ' +\n",
              "          '<a target=\"_blank\" href=https://colab.research.google.com/notebooks/data_table.ipynb>data table notebook</a>'\n",
              "          + ' to learn more about interactive tables.';\n",
              "        element.innerHTML = '';\n",
              "        dataTable['output_type'] = 'display_data';\n",
              "        await google.colab.output.renderOutput(dataTable, element);\n",
              "        const docLink = document.createElement('div');\n",
              "        docLink.innerHTML = docLinkHtml;\n",
              "        element.appendChild(docLink);\n",
              "      }\n",
              "    </script>\n",
              "  </div>\n",
              "\n",
              "\n",
              "<div id=\"df-9c6b12d7-73ee-4938-9cba-158822ab6305\">\n",
              "  <button class=\"colab-df-quickchart\" onclick=\"quickchart('df-9c6b12d7-73ee-4938-9cba-158822ab6305')\"\n",
              "            title=\"Suggest charts\"\n",
              "            style=\"display:none;\">\n",
              "\n",
              "<svg xmlns=\"http://www.w3.org/2000/svg\" height=\"24px\"viewBox=\"0 0 24 24\"\n",
              "     width=\"24px\">\n",
              "    <g>\n",
              "        <path d=\"M19 3H5c-1.1 0-2 .9-2 2v14c0 1.1.9 2 2 2h14c1.1 0 2-.9 2-2V5c0-1.1-.9-2-2-2zM9 17H7v-7h2v7zm4 0h-2V7h2v10zm4 0h-2v-4h2v4z\"/>\n",
              "    </g>\n",
              "</svg>\n",
              "  </button>\n",
              "\n",
              "<style>\n",
              "  .colab-df-quickchart {\n",
              "      --bg-color: #E8F0FE;\n",
              "      --fill-color: #1967D2;\n",
              "      --hover-bg-color: #E2EBFA;\n",
              "      --hover-fill-color: #174EA6;\n",
              "      --disabled-fill-color: #AAA;\n",
              "      --disabled-bg-color: #DDD;\n",
              "  }\n",
              "\n",
              "  [theme=dark] .colab-df-quickchart {\n",
              "      --bg-color: #3B4455;\n",
              "      --fill-color: #D2E3FC;\n",
              "      --hover-bg-color: #434B5C;\n",
              "      --hover-fill-color: #FFFFFF;\n",
              "      --disabled-bg-color: #3B4455;\n",
              "      --disabled-fill-color: #666;\n",
              "  }\n",
              "\n",
              "  .colab-df-quickchart {\n",
              "    background-color: var(--bg-color);\n",
              "    border: none;\n",
              "    border-radius: 50%;\n",
              "    cursor: pointer;\n",
              "    display: none;\n",
              "    fill: var(--fill-color);\n",
              "    height: 32px;\n",
              "    padding: 0;\n",
              "    width: 32px;\n",
              "  }\n",
              "\n",
              "  .colab-df-quickchart:hover {\n",
              "    background-color: var(--hover-bg-color);\n",
              "    box-shadow: 0 1px 2px rgba(60, 64, 67, 0.3), 0 1px 3px 1px rgba(60, 64, 67, 0.15);\n",
              "    fill: var(--button-hover-fill-color);\n",
              "  }\n",
              "\n",
              "  .colab-df-quickchart-complete:disabled,\n",
              "  .colab-df-quickchart-complete:disabled:hover {\n",
              "    background-color: var(--disabled-bg-color);\n",
              "    fill: var(--disabled-fill-color);\n",
              "    box-shadow: none;\n",
              "  }\n",
              "\n",
              "  .colab-df-spinner {\n",
              "    border: 2px solid var(--fill-color);\n",
              "    border-color: transparent;\n",
              "    border-bottom-color: var(--fill-color);\n",
              "    animation:\n",
              "      spin 1s steps(1) infinite;\n",
              "  }\n",
              "\n",
              "  @keyframes spin {\n",
              "    0% {\n",
              "      border-color: transparent;\n",
              "      border-bottom-color: var(--fill-color);\n",
              "      border-left-color: var(--fill-color);\n",
              "    }\n",
              "    20% {\n",
              "      border-color: transparent;\n",
              "      border-left-color: var(--fill-color);\n",
              "      border-top-color: var(--fill-color);\n",
              "    }\n",
              "    30% {\n",
              "      border-color: transparent;\n",
              "      border-left-color: var(--fill-color);\n",
              "      border-top-color: var(--fill-color);\n",
              "      border-right-color: var(--fill-color);\n",
              "    }\n",
              "    40% {\n",
              "      border-color: transparent;\n",
              "      border-right-color: var(--fill-color);\n",
              "      border-top-color: var(--fill-color);\n",
              "    }\n",
              "    60% {\n",
              "      border-color: transparent;\n",
              "      border-right-color: var(--fill-color);\n",
              "    }\n",
              "    80% {\n",
              "      border-color: transparent;\n",
              "      border-right-color: var(--fill-color);\n",
              "      border-bottom-color: var(--fill-color);\n",
              "    }\n",
              "    90% {\n",
              "      border-color: transparent;\n",
              "      border-bottom-color: var(--fill-color);\n",
              "    }\n",
              "  }\n",
              "</style>\n",
              "\n",
              "  <script>\n",
              "    async function quickchart(key) {\n",
              "      const quickchartButtonEl =\n",
              "        document.querySelector('#' + key + ' button');\n",
              "      quickchartButtonEl.disabled = true;  // To prevent multiple clicks.\n",
              "      quickchartButtonEl.classList.add('colab-df-spinner');\n",
              "      try {\n",
              "        const charts = await google.colab.kernel.invokeFunction(\n",
              "            'suggestCharts', [key], {});\n",
              "      } catch (error) {\n",
              "        console.error('Error during call to suggestCharts:', error);\n",
              "      }\n",
              "      quickchartButtonEl.classList.remove('colab-df-spinner');\n",
              "      quickchartButtonEl.classList.add('colab-df-quickchart-complete');\n",
              "    }\n",
              "    (() => {\n",
              "      let quickchartButtonEl =\n",
              "        document.querySelector('#df-9c6b12d7-73ee-4938-9cba-158822ab6305 button');\n",
              "      quickchartButtonEl.style.display =\n",
              "        google.colab.kernel.accessAllowed ? 'block' : 'none';\n",
              "    })();\n",
              "  </script>\n",
              "</div>\n",
              "\n",
              "    </div>\n",
              "  </div>\n"
            ],
            "application/vnd.google.colaboratory.intrinsic+json": {
              "type": "dataframe",
              "summary": "{\n  \"name\": \"pd\",\n  \"rows\": 10,\n  \"fields\": [\n    {\n      \"column\": [\n        \"equal_units_binned\",\n        \"\"\n      ],\n      \"properties\": {\n        \"dtype\": \"number\",\n        \"std\": 3.0276503540974917,\n        \"min\": 0.0,\n        \"max\": 9.0,\n        \"num_unique_values\": 10,\n        \"samples\": [\n          8.0,\n          1.0,\n          5.0\n        ],\n        \"semantic_type\": \"\",\n        \"description\": \"\"\n      }\n    },\n    {\n      \"column\": [\n        \"min\",\n        \"units\"\n      ],\n      \"properties\": {\n        \"dtype\": \"number\",\n        \"std\": 79.9402554689716,\n        \"min\": 1.0,\n        \"max\": 260.0,\n        \"num_unique_values\": 10,\n        \"samples\": [\n          151.0,\n          13.0,\n          48.0\n        ],\n        \"semantic_type\": \"\",\n        \"description\": \"\"\n      }\n    },\n    {\n      \"column\": [\n        \"max\",\n        \"units\"\n      ],\n      \"properties\": {\n        \"dtype\": \"number\",\n        \"std\": 406.8977622067844,\n        \"min\": 12.0,\n        \"max\": 1343.0,\n        \"num_unique_values\": 10,\n        \"samples\": [\n          259.0,\n          18.0,\n          66.0\n        ],\n        \"semantic_type\": \"\",\n        \"description\": \"\"\n      }\n    },\n    {\n      \"column\": [\n        \"count\",\n        \"units\"\n      ],\n      \"properties\": {\n        \"dtype\": \"number\",\n        \"std\": 14,\n        \"min\": 75,\n        \"max\": 132,\n        \"num_unique_values\": 8,\n        \"samples\": [\n          75,\n          105,\n          132\n        ],\n        \"semantic_type\": \"\",\n        \"description\": \"\"\n      }\n    }\n  ]\n}"
            }
          },
          "metadata": {},
          "execution_count": 76
        }
      ]
    },
    {
      "cell_type": "code",
      "source": [
        "X_test_rfs['equal_units_binned'] = pd.cut(X_test_rfs['units'], bins=bin_edges, labels=False, include_lowest=True)"
      ],
      "metadata": {
        "id": "Zj6_jhXwLKqC"
      },
      "execution_count": 77,
      "outputs": []
    },
    {
      "cell_type": "code",
      "source": [
        "X_test_rfs['equal_units_binned'].value_counts(dropna=False)"
      ],
      "metadata": {
        "colab": {
          "base_uri": "https://localhost:8080/",
          "height": 460
        },
        "id": "q_pCjjo_LRcu",
        "outputId": "52ba484e-9296-4b29-9594-a3d2261d12ae"
      },
      "execution_count": 78,
      "outputs": [
        {
          "output_type": "execute_result",
          "data": {
            "text/plain": [
              "equal_units_binned\n",
              "0.0    33\n",
              "9.0    31\n",
              "4.0    30\n",
              "NaN    29\n",
              "7.0    29\n",
              "6.0    28\n",
              "2.0    26\n",
              "3.0    24\n",
              "5.0    23\n",
              "8.0    15\n",
              "1.0    13\n",
              "Name: count, dtype: int64"
            ],
            "text/html": [
              "<div>\n",
              "<style scoped>\n",
              "    .dataframe tbody tr th:only-of-type {\n",
              "        vertical-align: middle;\n",
              "    }\n",
              "\n",
              "    .dataframe tbody tr th {\n",
              "        vertical-align: top;\n",
              "    }\n",
              "\n",
              "    .dataframe thead th {\n",
              "        text-align: right;\n",
              "    }\n",
              "</style>\n",
              "<table border=\"1\" class=\"dataframe\">\n",
              "  <thead>\n",
              "    <tr style=\"text-align: right;\">\n",
              "      <th></th>\n",
              "      <th>count</th>\n",
              "    </tr>\n",
              "    <tr>\n",
              "      <th>equal_units_binned</th>\n",
              "      <th></th>\n",
              "    </tr>\n",
              "  </thead>\n",
              "  <tbody>\n",
              "    <tr>\n",
              "      <th>0.0</th>\n",
              "      <td>33</td>\n",
              "    </tr>\n",
              "    <tr>\n",
              "      <th>9.0</th>\n",
              "      <td>31</td>\n",
              "    </tr>\n",
              "    <tr>\n",
              "      <th>4.0</th>\n",
              "      <td>30</td>\n",
              "    </tr>\n",
              "    <tr>\n",
              "      <th>NaN</th>\n",
              "      <td>29</td>\n",
              "    </tr>\n",
              "    <tr>\n",
              "      <th>7.0</th>\n",
              "      <td>29</td>\n",
              "    </tr>\n",
              "    <tr>\n",
              "      <th>6.0</th>\n",
              "      <td>28</td>\n",
              "    </tr>\n",
              "    <tr>\n",
              "      <th>2.0</th>\n",
              "      <td>26</td>\n",
              "    </tr>\n",
              "    <tr>\n",
              "      <th>3.0</th>\n",
              "      <td>24</td>\n",
              "    </tr>\n",
              "    <tr>\n",
              "      <th>5.0</th>\n",
              "      <td>23</td>\n",
              "    </tr>\n",
              "    <tr>\n",
              "      <th>8.0</th>\n",
              "      <td>15</td>\n",
              "    </tr>\n",
              "    <tr>\n",
              "      <th>1.0</th>\n",
              "      <td>13</td>\n",
              "    </tr>\n",
              "  </tbody>\n",
              "</table>\n",
              "</div><br><label><b>dtype:</b> int64</label>"
            ]
          },
          "metadata": {},
          "execution_count": 78
        }
      ]
    },
    {
      "cell_type": "code",
      "source": [
        "#drop the original units column\n",
        "X_train_rfs = X_train_rfs.drop(['units', 'log_units', 'log_units_binned'], axis=1)\n",
        "X_test_rfs = X_test_rfs.drop('units', axis=1)"
      ],
      "metadata": {
        "id": "Hu0ZpDduLdOs"
      },
      "execution_count": 79,
      "outputs": []
    },
    {
      "cell_type": "markdown",
      "source": [
        "Now we'll convert the binned units column dummies. Since get_dummies ignores nulls, when we convert this column the nulls will no longer be in our data"
      ],
      "metadata": {
        "id": "3cDLT1z_XJOq"
      }
    },
    {
      "cell_type": "code",
      "source": [
        "X_train_rfs = pd.get_dummies(X_train_rfs, columns=['equal_units_binned'], prefix = 'unit_bin')\n",
        "X_test_rfs = pd.get_dummies(X_test_rfs, columns=['equal_units_binned'], prefix = 'unit_bin')"
      ],
      "metadata": {
        "id": "2sULl7fUHtB8"
      },
      "execution_count": 80,
      "outputs": []
    },
    {
      "cell_type": "code",
      "source": [
        "X_train_rfs.info()"
      ],
      "metadata": {
        "colab": {
          "base_uri": "https://localhost:8080/"
        },
        "id": "XaxoaJ8gIES3",
        "outputId": "80c859c8-f65e-46e4-c4c5-ec03b922c10d"
      },
      "execution_count": 81,
      "outputs": [
        {
          "output_type": "stream",
          "name": "stdout",
          "text": [
            "<class 'pandas.core.frame.DataFrame'>\n",
            "Index: 1123 entries, 385 to 405\n",
            "Data columns (total 31 columns):\n",
            " #   Column                Non-Null Count  Dtype  \n",
            "---  ------                --------------  -----  \n",
            " 0   prev_rfs              1123 non-null   int64  \n",
            " 1   reminder              1123 non-null   int64  \n",
            " 2   fee_probable          1123 non-null   float64\n",
            " 3   sow_Class 1 RFS       1123 non-null   bool   \n",
            " 4   sow_Class 2 RFS       1123 non-null   bool   \n",
            " 5   sow_Class 3 RFS       1123 non-null   bool   \n",
            " 6   sow_PA & Class 1 RFS  1123 non-null   bool   \n",
            " 7   sow_Update RFS        1123 non-null   bool   \n",
            " 8   region_EO             1123 non-null   bool   \n",
            " 9   region_GH             1123 non-null   bool   \n",
            " 10  region_HUR            1123 non-null   bool   \n",
            " 11  region_Other          1123 non-null   bool   \n",
            " 12  region_TOR            1123 non-null   bool   \n",
            " 13  region_Unknown        1123 non-null   bool   \n",
            " 14  building_commercial   1123 non-null   bool   \n",
            " 15  building_highrise     1123 non-null   bool   \n",
            " 16  building_mixed_use    1123 non-null   bool   \n",
            " 17  building_potl         1123 non-null   bool   \n",
            " 18  building_residential  1123 non-null   bool   \n",
            " 19  building_townhouse    1123 non-null   bool   \n",
            " 20  building_unknown      1123 non-null   bool   \n",
            " 21  unit_bin_0.0          1123 non-null   bool   \n",
            " 22  unit_bin_1.0          1123 non-null   bool   \n",
            " 23  unit_bin_2.0          1123 non-null   bool   \n",
            " 24  unit_bin_3.0          1123 non-null   bool   \n",
            " 25  unit_bin_4.0          1123 non-null   bool   \n",
            " 26  unit_bin_5.0          1123 non-null   bool   \n",
            " 27  unit_bin_6.0          1123 non-null   bool   \n",
            " 28  unit_bin_7.0          1123 non-null   bool   \n",
            " 29  unit_bin_8.0          1123 non-null   bool   \n",
            " 30  unit_bin_9.0          1123 non-null   bool   \n",
            "dtypes: bool(28), float64(1), int64(2)\n",
            "memory usage: 65.8 KB\n"
          ]
        }
      ]
    },
    {
      "cell_type": "code",
      "source": [
        "X_test_rfs.info()"
      ],
      "metadata": {
        "colab": {
          "base_uri": "https://localhost:8080/"
        },
        "id": "w-3LgkkHIJJU",
        "outputId": "291dca19-ad96-49c8-e66f-359c004a2851"
      },
      "execution_count": 82,
      "outputs": [
        {
          "output_type": "stream",
          "name": "stdout",
          "text": [
            "<class 'pandas.core.frame.DataFrame'>\n",
            "Index: 281 entries, 1224 to 258\n",
            "Data columns (total 31 columns):\n",
            " #   Column                Non-Null Count  Dtype  \n",
            "---  ------                --------------  -----  \n",
            " 0   prev_rfs              281 non-null    int64  \n",
            " 1   reminder              281 non-null    int64  \n",
            " 2   fee_probable          281 non-null    float64\n",
            " 3   sow_Class 1 RFS       281 non-null    bool   \n",
            " 4   sow_Class 2 RFS       281 non-null    bool   \n",
            " 5   sow_Class 3 RFS       281 non-null    bool   \n",
            " 6   sow_PA & Class 1 RFS  281 non-null    bool   \n",
            " 7   sow_Update RFS        281 non-null    bool   \n",
            " 8   region_EO             281 non-null    bool   \n",
            " 9   region_GH             281 non-null    bool   \n",
            " 10  region_HUR            281 non-null    bool   \n",
            " 11  region_Other          281 non-null    bool   \n",
            " 12  region_TOR            281 non-null    bool   \n",
            " 13  region_Unknown        281 non-null    bool   \n",
            " 14  building_commercial   281 non-null    bool   \n",
            " 15  building_highrise     281 non-null    bool   \n",
            " 16  building_mixed_use    281 non-null    bool   \n",
            " 17  building_potl         281 non-null    bool   \n",
            " 18  building_residential  281 non-null    bool   \n",
            " 19  building_townhouse    281 non-null    bool   \n",
            " 20  building_unknown      281 non-null    bool   \n",
            " 21  unit_bin_0.0          281 non-null    bool   \n",
            " 22  unit_bin_1.0          281 non-null    bool   \n",
            " 23  unit_bin_2.0          281 non-null    bool   \n",
            " 24  unit_bin_3.0          281 non-null    bool   \n",
            " 25  unit_bin_4.0          281 non-null    bool   \n",
            " 26  unit_bin_5.0          281 non-null    bool   \n",
            " 27  unit_bin_6.0          281 non-null    bool   \n",
            " 28  unit_bin_7.0          281 non-null    bool   \n",
            " 29  unit_bin_8.0          281 non-null    bool   \n",
            " 30  unit_bin_9.0          281 non-null    bool   \n",
            "dtypes: bool(28), float64(1), int64(2)\n",
            "memory usage: 16.5 KB\n"
          ]
        }
      ]
    },
    {
      "cell_type": "markdown",
      "source": [
        "**fee_probable**"
      ],
      "metadata": {
        "id": "plD9F-8sMF8p"
      }
    },
    {
      "cell_type": "markdown",
      "source": [
        "We'll bin this one similar to how we binned it for the ALL model"
      ],
      "metadata": {
        "id": "vpX0QxFfMH2-"
      }
    },
    {
      "cell_type": "code",
      "source": [
        "X_train_rfs['equal_fee_binned'], bin_edges = pd.qcut(X_train_rfs['fee_probable'], q=10, labels=False, retbins=True)"
      ],
      "metadata": {
        "id": "5COwX94iMMiF"
      },
      "execution_count": 83,
      "outputs": []
    },
    {
      "cell_type": "code",
      "source": [
        "plt.figure(figsize=(8, 6))\n",
        "plt.hist(X_train_rfs['equal_fee_binned'], bins=8, edgecolor='k')\n",
        "plt.xlabel('Equal Fee Bin')\n",
        "plt.ylabel('Frequency')\n",
        "plt.title('Distribution of Fee Bins')"
      ],
      "metadata": {
        "colab": {
          "base_uri": "https://localhost:8080/",
          "height": 581
        },
        "id": "CHdKiZ8TMX9Y",
        "outputId": "e52a761f-979b-4905-f37e-53d4edd70170"
      },
      "execution_count": 84,
      "outputs": [
        {
          "output_type": "execute_result",
          "data": {
            "text/plain": [
              "Text(0.5, 1.0, 'Distribution of Fee Bins')"
            ]
          },
          "metadata": {},
          "execution_count": 84
        },
        {
          "output_type": "display_data",
          "data": {
            "text/plain": [
              "<Figure size 800x600 with 1 Axes>"
            ],
            "image/png": "[encoded data removed]"
          },
          "metadata": {}
        }
      ]
    },
    {
      "cell_type": "code",
      "source": [
        "pd.pivot_table(X_train_rfs, index='equal_fee_binned', values='fee_probable', aggfunc=['min', 'max', 'count'])"
      ],
      "metadata": {
        "colab": {
          "base_uri": "https://localhost:8080/",
          "height": 426
        },
        "id": "5uXDoycLMeqU",
        "outputId": "24a9165a-71b7-49ab-9096-956445677a2b"
      },
      "execution_count": 85,
      "outputs": [
        {
          "output_type": "execute_result",
          "data": {
            "text/plain": [
              "                          min          max        count\n",
              "                 fee_probable fee_probable fee_probable\n",
              "equal_fee_binned                                       \n",
              "0                       932.0       1995.0          119\n",
              "1                      2080.0       2295.0          148\n",
              "2                      2300.0       2495.0          108\n",
              "3                      2500.0       2695.0           85\n",
              "4                      2750.0       2995.0          110\n",
              "5                      3095.0       3395.0          119\n",
              "6                      3445.0       3895.0          104\n",
              "7                      3990.0       4595.0          109\n",
              "8                      4695.0       5795.0          109\n",
              "9                      5825.0      47285.0          112"
            ],
            "text/html": [
              "\n",
              "  <div id=\"df-cf90237b-de13-4b41-a9cd-146f06eed0ac\" class=\"colab-df-container\">\n",
              "    <div>\n",
              "<style scoped>\n",
              "    .dataframe tbody tr th:only-of-type {\n",
              "        vertical-align: middle;\n",
              "    }\n",
              "\n",
              "    .dataframe tbody tr th {\n",
              "        vertical-align: top;\n",
              "    }\n",
              "\n",
              "    .dataframe thead tr th {\n",
              "        text-align: left;\n",
              "    }\n",
              "\n",
              "    .dataframe thead tr:last-of-type th {\n",
              "        text-align: right;\n",
              "    }\n",
              "</style>\n",
              "<table border=\"1\" class=\"dataframe\">\n",
              "  <thead>\n",
              "    <tr>\n",
              "      <th></th>\n",
              "      <th>min</th>\n",
              "      <th>max</th>\n",
              "      <th>count</th>\n",
              "    </tr>\n",
              "    <tr>\n",
              "      <th></th>\n",
              "      <th>fee_probable</th>\n",
              "      <th>fee_probable</th>\n",
              "      <th>fee_probable</th>\n",
              "    </tr>\n",
              "    <tr>\n",
              "      <th>equal_fee_binned</th>\n",
              "      <th></th>\n",
              "      <th></th>\n",
              "      <th></th>\n",
              "    </tr>\n",
              "  </thead>\n",
              "  <tbody>\n",
              "    <tr>\n",
              "      <th>0</th>\n",
              "      <td>932.0</td>\n",
              "      <td>1995.0</td>\n",
              "      <td>119</td>\n",
              "    </tr>\n",
              "    <tr>\n",
              "      <th>1</th>\n",
              "      <td>2080.0</td>\n",
              "      <td>2295.0</td>\n",
              "      <td>148</td>\n",
              "    </tr>\n",
              "    <tr>\n",
              "      <th>2</th>\n",
              "      <td>2300.0</td>\n",
              "      <td>2495.0</td>\n",
              "      <td>108</td>\n",
              "    </tr>\n",
              "    <tr>\n",
              "      <th>3</th>\n",
              "      <td>2500.0</td>\n",
              "      <td>2695.0</td>\n",
              "      <td>85</td>\n",
              "    </tr>\n",
              "    <tr>\n",
              "      <th>4</th>\n",
              "      <td>2750.0</td>\n",
              "      <td>2995.0</td>\n",
              "      <td>110</td>\n",
              "    </tr>\n",
              "    <tr>\n",
              "      <th>5</th>\n",
              "      <td>3095.0</td>\n",
              "      <td>3395.0</td>\n",
              "      <td>119</td>\n",
              "    </tr>\n",
              "    <tr>\n",
              "      <th>6</th>\n",
              "      <td>3445.0</td>\n",
              "      <td>3895.0</td>\n",
              "      <td>104</td>\n",
              "    </tr>\n",
              "    <tr>\n",
              "      <th>7</th>\n",
              "      <td>3990.0</td>\n",
              "      <td>4595.0</td>\n",
              "      <td>109</td>\n",
              "    </tr>\n",
              "    <tr>\n",
              "      <th>8</th>\n",
              "      <td>4695.0</td>\n",
              "      <td>5795.0</td>\n",
              "      <td>109</td>\n",
              "    </tr>\n",
              "    <tr>\n",
              "      <th>9</th>\n",
              "      <td>5825.0</td>\n",
              "      <td>47285.0</td>\n",
              "      <td>112</td>\n",
              "    </tr>\n",
              "  </tbody>\n",
              "</table>\n",
              "</div>\n",
              "    <div class=\"colab-df-buttons\">\n",
              "\n",
              "  <div class=\"colab-df-container\">\n",
              "    <button class=\"colab-df-convert\" onclick=\"convertToInteractive('df-cf90237b-de13-4b41-a9cd-146f06eed0ac')\"\n",
              "            title=\"Convert this dataframe to an interactive table.\"\n",
              "            style=\"display:none;\">\n",
              "\n",
              "  <svg xmlns=\"http://www.w3.org/2000/svg\" height=\"24px\" viewBox=\"0 -960 960 960\">\n",
              "    <path d=\"M120-120v-720h720v720H120Zm60-500h600v-160H180v160Zm220 220h160v-160H400v160Zm0 220h160v-160H400v160ZM180-400h160v-160H180v160Zm440 0h160v-160H620v160ZM180-180h160v-160H180v160Zm440 0h160v-160H620v160Z\"/>\n",
              "  </svg>\n",
              "    </button>\n",
              "\n",
              "  <style>\n",
              "    .colab-df-container {\n",
              "      display:flex;\n",
              "      gap: 12px;\n",
              "    }\n",
              "\n",
              "    .colab-df-convert {\n",
              "      background-color: #E8F0FE;\n",
              "      border: none;\n",
              "      border-radius: 50%;\n",
              "      cursor: pointer;\n",
              "      display: none;\n",
              "      fill: #1967D2;\n",
              "      height: 32px;\n",
              "      padding: 0 0 0 0;\n",
              "      width: 32px;\n",
              "    }\n",
              "\n",
              "    .colab-df-convert:hover {\n",
              "      background-color: #E2EBFA;\n",
              "      box-shadow: 0px 1px 2px rgba(60, 64, 67, 0.3), 0px 1px 3px 1px rgba(60, 64, 67, 0.15);\n",
              "      fill: #174EA6;\n",
              "    }\n",
              "\n",
              "    .colab-df-buttons div {\n",
              "      margin-bottom: 4px;\n",
              "    }\n",
              "\n",
              "    [theme=dark] .colab-df-convert {\n",
              "      background-color: #3B4455;\n",
              "      fill: #D2E3FC;\n",
              "    }\n",
              "\n",
              "    [theme=dark] .colab-df-convert:hover {\n",
              "      background-color: #434B5C;\n",
              "      box-shadow: 0px 1px 3px 1px rgba(0, 0, 0, 0.15);\n",
              "      filter: drop-shadow(0px 1px 2px rgba(0, 0, 0, 0.3));\n",
              "      fill: #FFFFFF;\n",
              "    }\n",
              "  </style>\n",
              "\n",
              "    <script>\n",
              "      const buttonEl =\n",
              "        document.querySelector('#df-cf90237b-de13-4b41-a9cd-146f06eed0ac button.colab-df-convert');\n",
              "      buttonEl.style.display =\n",
              "        google.colab.kernel.accessAllowed ? 'block' : 'none';\n",
              "\n",
              "      async function convertToInteractive(key) {\n",
              "        const element = document.querySelector('#df-cf90237b-de13-4b41-a9cd-146f06eed0ac');\n",
              "        const dataTable =\n",
              "          await google.colab.kernel.invokeFunction('convertToInteractive',\n",
              "                                                    [key], {});\n",
              "        if (!dataTable) return;\n",
              "\n",
              "        const docLinkHtml = 'Like what you see? Visit the ' +\n",
              "          '<a target=\"_blank\" href=https://colab.research.google.com/notebooks/data_table.ipynb>data table notebook</a>'\n",
              "          + ' to learn more about interactive tables.';\n",
              "        element.innerHTML = '';\n",
              "        dataTable['output_type'] = 'display_data';\n",
              "        await google.colab.output.renderOutput(dataTable, element);\n",
              "        const docLink = document.createElement('div');\n",
              "        docLink.innerHTML = docLinkHtml;\n",
              "        element.appendChild(docLink);\n",
              "      }\n",
              "    </script>\n",
              "  </div>\n",
              "\n",
              "\n",
              "<div id=\"df-77c91ec1-57cf-4b34-86be-1540187b49c7\">\n",
              "  <button class=\"colab-df-quickchart\" onclick=\"quickchart('df-77c91ec1-57cf-4b34-86be-1540187b49c7')\"\n",
              "            title=\"Suggest charts\"\n",
              "            style=\"display:none;\">\n",
              "\n",
              "<svg xmlns=\"http://www.w3.org/2000/svg\" height=\"24px\"viewBox=\"0 0 24 24\"\n",
              "     width=\"24px\">\n",
              "    <g>\n",
              "        <path d=\"M19 3H5c-1.1 0-2 .9-2 2v14c0 1.1.9 2 2 2h14c1.1 0 2-.9 2-2V5c0-1.1-.9-2-2-2zM9 17H7v-7h2v7zm4 0h-2V7h2v10zm4 0h-2v-4h2v4z\"/>\n",
              "    </g>\n",
              "</svg>\n",
              "  </button>\n",
              "\n",
              "<style>\n",
              "  .colab-df-quickchart {\n",
              "      --bg-color: #E8F0FE;\n",
              "      --fill-color: #1967D2;\n",
              "      --hover-bg-color: #E2EBFA;\n",
              "      --hover-fill-color: #174EA6;\n",
              "      --disabled-fill-color: #AAA;\n",
              "      --disabled-bg-color: #DDD;\n",
              "  }\n",
              "\n",
              "  [theme=dark] .colab-df-quickchart {\n",
              "      --bg-color: #3B4455;\n",
              "      --fill-color: #D2E3FC;\n",
              "      --hover-bg-color: #434B5C;\n",
              "      --hover-fill-color: #FFFFFF;\n",
              "      --disabled-bg-color: #3B4455;\n",
              "      --disabled-fill-color: #666;\n",
              "  }\n",
              "\n",
              "  .colab-df-quickchart {\n",
              "    background-color: var(--bg-color);\n",
              "    border: none;\n",
              "    border-radius: 50%;\n",
              "    cursor: pointer;\n",
              "    display: none;\n",
              "    fill: var(--fill-color);\n",
              "    height: 32px;\n",
              "    padding: 0;\n",
              "    width: 32px;\n",
              "  }\n",
              "\n",
              "  .colab-df-quickchart:hover {\n",
              "    background-color: var(--hover-bg-color);\n",
              "    box-shadow: 0 1px 2px rgba(60, 64, 67, 0.3), 0 1px 3px 1px rgba(60, 64, 67, 0.15);\n",
              "    fill: var(--button-hover-fill-color);\n",
              "  }\n",
              "\n",
              "  .colab-df-quickchart-complete:disabled,\n",
              "  .colab-df-quickchart-complete:disabled:hover {\n",
              "    background-color: var(--disabled-bg-color);\n",
              "    fill: var(--disabled-fill-color);\n",
              "    box-shadow: none;\n",
              "  }\n",
              "\n",
              "  .colab-df-spinner {\n",
              "    border: 2px solid var(--fill-color);\n",
              "    border-color: transparent;\n",
              "    border-bottom-color: var(--fill-color);\n",
              "    animation:\n",
              "      spin 1s steps(1) infinite;\n",
              "  }\n",
              "\n",
              "  @keyframes spin {\n",
              "    0% {\n",
              "      border-color: transparent;\n",
              "      border-bottom-color: var(--fill-color);\n",
              "      border-left-color: var(--fill-color);\n",
              "    }\n",
              "    20% {\n",
              "      border-color: transparent;\n",
              "      border-left-color: var(--fill-color);\n",
              "      border-top-color: var(--fill-color);\n",
              "    }\n",
              "    30% {\n",
              "      border-color: transparent;\n",
              "      border-left-color: var(--fill-color);\n",
              "      border-top-color: var(--fill-color);\n",
              "      border-right-color: var(--fill-color);\n",
              "    }\n",
              "    40% {\n",
              "      border-color: transparent;\n",
              "      border-right-color: var(--fill-color);\n",
              "      border-top-color: var(--fill-color);\n",
              "    }\n",
              "    60% {\n",
              "      border-color: transparent;\n",
              "      border-right-color: var(--fill-color);\n",
              "    }\n",
              "    80% {\n",
              "      border-color: transparent;\n",
              "      border-right-color: var(--fill-color);\n",
              "      border-bottom-color: var(--fill-color);\n",
              "    }\n",
              "    90% {\n",
              "      border-color: transparent;\n",
              "      border-bottom-color: var(--fill-color);\n",
              "    }\n",
              "  }\n",
              "</style>\n",
              "\n",
              "  <script>\n",
              "    async function quickchart(key) {\n",
              "      const quickchartButtonEl =\n",
              "        document.querySelector('#' + key + ' button');\n",
              "      quickchartButtonEl.disabled = true;  // To prevent multiple clicks.\n",
              "      quickchartButtonEl.classList.add('colab-df-spinner');\n",
              "      try {\n",
              "        const charts = await google.colab.kernel.invokeFunction(\n",
              "            'suggestCharts', [key], {});\n",
              "      } catch (error) {\n",
              "        console.error('Error during call to suggestCharts:', error);\n",
              "      }\n",
              "      quickchartButtonEl.classList.remove('colab-df-spinner');\n",
              "      quickchartButtonEl.classList.add('colab-df-quickchart-complete');\n",
              "    }\n",
              "    (() => {\n",
              "      let quickchartButtonEl =\n",
              "        document.querySelector('#df-77c91ec1-57cf-4b34-86be-1540187b49c7 button');\n",
              "      quickchartButtonEl.style.display =\n",
              "        google.colab.kernel.accessAllowed ? 'block' : 'none';\n",
              "    })();\n",
              "  </script>\n",
              "</div>\n",
              "\n",
              "    </div>\n",
              "  </div>\n"
            ],
            "application/vnd.google.colaboratory.intrinsic+json": {
              "type": "dataframe",
              "summary": "{\n  \"name\": \"pd\",\n  \"rows\": 10,\n  \"fields\": [\n    {\n      \"column\": [\n        \"equal_fee_binned\",\n        \"\"\n      ],\n      \"properties\": {\n        \"dtype\": \"number\",\n        \"std\": 3,\n        \"min\": 0,\n        \"max\": 9,\n        \"num_unique_values\": 10,\n        \"samples\": [\n          8,\n          1,\n          5\n        ],\n        \"semantic_type\": \"\",\n        \"description\": \"\"\n      }\n    },\n    {\n      \"column\": [\n        \"min\",\n        \"fee_probable\"\n      ],\n      \"properties\": {\n        \"dtype\": \"number\",\n        \"std\": 1402.6352024354412,\n        \"min\": 932.0,\n        \"max\": 5825.0,\n        \"num_unique_values\": 10,\n        \"samples\": [\n          4695.0,\n          2080.0,\n          3095.0\n        ],\n        \"semantic_type\": \"\",\n        \"description\": \"\"\n      }\n    },\n    {\n      \"column\": [\n        \"max\",\n        \"fee_probable\"\n      ],\n      \"properties\": {\n        \"dtype\": \"number\",\n        \"std\": 13941.441380925353,\n        \"min\": 1995.0,\n        \"max\": 47285.0,\n        \"num_unique_values\": 10,\n        \"samples\": [\n          5795.0,\n          2295.0,\n          3395.0\n        ],\n        \"semantic_type\": \"\",\n        \"description\": \"\"\n      }\n    },\n    {\n      \"column\": [\n        \"count\",\n        \"fee_probable\"\n      ],\n      \"properties\": {\n        \"dtype\": \"number\",\n        \"std\": 15,\n        \"min\": 85,\n        \"max\": 148,\n        \"num_unique_values\": 8,\n        \"samples\": [\n          148,\n          104,\n          119\n        ],\n        \"semantic_type\": \"\",\n        \"description\": \"\"\n      }\n    }\n  ]\n}"
            }
          },
          "metadata": {},
          "execution_count": 85
        }
      ]
    },
    {
      "cell_type": "code",
      "source": [
        "X_test_rfs['equal_fee_binned'] = pd.cut(X_test_rfs['fee_probable'], bins=bin_edges, labels=False, include_lowest=True)"
      ],
      "metadata": {
        "id": "UzIXEDLrMnHO"
      },
      "execution_count": 86,
      "outputs": []
    },
    {
      "cell_type": "code",
      "source": [
        "X_test_rfs['equal_fee_binned'].value_counts()"
      ],
      "metadata": {
        "colab": {
          "base_uri": "https://localhost:8080/",
          "height": 429
        },
        "id": "9E1adtRTMurr",
        "outputId": "9889c156-2941-4dc5-9e4b-8a9b9f8c115b"
      },
      "execution_count": 87,
      "outputs": [
        {
          "output_type": "execute_result",
          "data": {
            "text/plain": [
              "equal_fee_binned\n",
              "4    38\n",
              "5    38\n",
              "1    35\n",
              "9    34\n",
              "7    29\n",
              "6    28\n",
              "0    23\n",
              "2    22\n",
              "8    18\n",
              "3    16\n",
              "Name: count, dtype: int64"
            ],
            "text/html": [
              "<div>\n",
              "<style scoped>\n",
              "    .dataframe tbody tr th:only-of-type {\n",
              "        vertical-align: middle;\n",
              "    }\n",
              "\n",
              "    .dataframe tbody tr th {\n",
              "        vertical-align: top;\n",
              "    }\n",
              "\n",
              "    .dataframe thead th {\n",
              "        text-align: right;\n",
              "    }\n",
              "</style>\n",
              "<table border=\"1\" class=\"dataframe\">\n",
              "  <thead>\n",
              "    <tr style=\"text-align: right;\">\n",
              "      <th></th>\n",
              "      <th>count</th>\n",
              "    </tr>\n",
              "    <tr>\n",
              "      <th>equal_fee_binned</th>\n",
              "      <th></th>\n",
              "    </tr>\n",
              "  </thead>\n",
              "  <tbody>\n",
              "    <tr>\n",
              "      <th>4</th>\n",
              "      <td>38</td>\n",
              "    </tr>\n",
              "    <tr>\n",
              "      <th>5</th>\n",
              "      <td>38</td>\n",
              "    </tr>\n",
              "    <tr>\n",
              "      <th>1</th>\n",
              "      <td>35</td>\n",
              "    </tr>\n",
              "    <tr>\n",
              "      <th>9</th>\n",
              "      <td>34</td>\n",
              "    </tr>\n",
              "    <tr>\n",
              "      <th>7</th>\n",
              "      <td>29</td>\n",
              "    </tr>\n",
              "    <tr>\n",
              "      <th>6</th>\n",
              "      <td>28</td>\n",
              "    </tr>\n",
              "    <tr>\n",
              "      <th>0</th>\n",
              "      <td>23</td>\n",
              "    </tr>\n",
              "    <tr>\n",
              "      <th>2</th>\n",
              "      <td>22</td>\n",
              "    </tr>\n",
              "    <tr>\n",
              "      <th>8</th>\n",
              "      <td>18</td>\n",
              "    </tr>\n",
              "    <tr>\n",
              "      <th>3</th>\n",
              "      <td>16</td>\n",
              "    </tr>\n",
              "  </tbody>\n",
              "</table>\n",
              "</div><br><label><b>dtype:</b> int64</label>"
            ]
          },
          "metadata": {},
          "execution_count": 87
        }
      ]
    },
    {
      "cell_type": "code",
      "source": [
        "#Create dummies\n",
        "X_train_rfs = pd.get_dummies(X_train_rfs, columns=['equal_fee_binned'], prefix = 'fee_bin')\n",
        "X_test_rfs = pd.get_dummies(X_test_rfs, columns=['equal_fee_binned'], prefix = 'fee_bin')"
      ],
      "metadata": {
        "id": "WJGASIRoMzZi"
      },
      "execution_count": 88,
      "outputs": []
    },
    {
      "cell_type": "code",
      "source": [
        "#drop fee_probable column\n",
        "X_train_rfs = X_train_rfs.drop('fee_probable', axis=1)\n",
        "X_test_rfs = X_test_rfs.drop('fee_probable', axis=1)"
      ],
      "metadata": {
        "id": "RhSgPSL5M-P6"
      },
      "execution_count": 89,
      "outputs": []
    },
    {
      "cell_type": "code",
      "source": [
        "X_train_rfs.info()"
      ],
      "metadata": {
        "colab": {
          "base_uri": "https://localhost:8080/"
        },
        "id": "CwFbtsrBNBxI",
        "outputId": "5196d7bc-462b-4677-c60f-45a13bd7bb84"
      },
      "execution_count": 90,
      "outputs": [
        {
          "output_type": "stream",
          "name": "stdout",
          "text": [
            "<class 'pandas.core.frame.DataFrame'>\n",
            "Index: 1123 entries, 385 to 405\n",
            "Data columns (total 40 columns):\n",
            " #   Column                Non-Null Count  Dtype\n",
            "---  ------                --------------  -----\n",
            " 0   prev_rfs              1123 non-null   int64\n",
            " 1   reminder              1123 non-null   int64\n",
            " 2   sow_Class 1 RFS       1123 non-null   bool \n",
            " 3   sow_Class 2 RFS       1123 non-null   bool \n",
            " 4   sow_Class 3 RFS       1123 non-null   bool \n",
            " 5   sow_PA & Class 1 RFS  1123 non-null   bool \n",
            " 6   sow_Update RFS        1123 non-null   bool \n",
            " 7   region_EO             1123 non-null   bool \n",
            " 8   region_GH             1123 non-null   bool \n",
            " 9   region_HUR            1123 non-null   bool \n",
            " 10  region_Other          1123 non-null   bool \n",
            " 11  region_TOR            1123 non-null   bool \n",
            " 12  region_Unknown        1123 non-null   bool \n",
            " 13  building_commercial   1123 non-null   bool \n",
            " 14  building_highrise     1123 non-null   bool \n",
            " 15  building_mixed_use    1123 non-null   bool \n",
            " 16  building_potl         1123 non-null   bool \n",
            " 17  building_residential  1123 non-null   bool \n",
            " 18  building_townhouse    1123 non-null   bool \n",
            " 19  building_unknown      1123 non-null   bool \n",
            " 20  unit_bin_0.0          1123 non-null   bool \n",
            " 21  unit_bin_1.0          1123 non-null   bool \n",
            " 22  unit_bin_2.0          1123 non-null   bool \n",
            " 23  unit_bin_3.0          1123 non-null   bool \n",
            " 24  unit_bin_4.0          1123 non-null   bool \n",
            " 25  unit_bin_5.0          1123 non-null   bool \n",
            " 26  unit_bin_6.0          1123 non-null   bool \n",
            " 27  unit_bin_7.0          1123 non-null   bool \n",
            " 28  unit_bin_8.0          1123 non-null   bool \n",
            " 29  unit_bin_9.0          1123 non-null   bool \n",
            " 30  fee_bin_0             1123 non-null   bool \n",
            " 31  fee_bin_1             1123 non-null   bool \n",
            " 32  fee_bin_2             1123 non-null   bool \n",
            " 33  fee_bin_3             1123 non-null   bool \n",
            " 34  fee_bin_4             1123 non-null   bool \n",
            " 35  fee_bin_5             1123 non-null   bool \n",
            " 36  fee_bin_6             1123 non-null   bool \n",
            " 37  fee_bin_7             1123 non-null   bool \n",
            " 38  fee_bin_8             1123 non-null   bool \n",
            " 39  fee_bin_9             1123 non-null   bool \n",
            "dtypes: bool(38), int64(2)\n",
            "memory usage: 68.0 KB\n"
          ]
        }
      ]
    },
    {
      "cell_type": "code",
      "source": [
        "X_test_rfs.info()"
      ],
      "metadata": {
        "colab": {
          "base_uri": "https://localhost:8080/"
        },
        "id": "lYkK1sgWNGVI",
        "outputId": "bcb9caa2-8a6b-42ae-b44b-7be112213a36"
      },
      "execution_count": 91,
      "outputs": [
        {
          "output_type": "stream",
          "name": "stdout",
          "text": [
            "<class 'pandas.core.frame.DataFrame'>\n",
            "Index: 281 entries, 1224 to 258\n",
            "Data columns (total 40 columns):\n",
            " #   Column                Non-Null Count  Dtype\n",
            "---  ------                --------------  -----\n",
            " 0   prev_rfs              281 non-null    int64\n",
            " 1   reminder              281 non-null    int64\n",
            " 2   sow_Class 1 RFS       281 non-null    bool \n",
            " 3   sow_Class 2 RFS       281 non-null    bool \n",
            " 4   sow_Class 3 RFS       281 non-null    bool \n",
            " 5   sow_PA & Class 1 RFS  281 non-null    bool \n",
            " 6   sow_Update RFS        281 non-null    bool \n",
            " 7   region_EO             281 non-null    bool \n",
            " 8   region_GH             281 non-null    bool \n",
            " 9   region_HUR            281 non-null    bool \n",
            " 10  region_Other          281 non-null    bool \n",
            " 11  region_TOR            281 non-null    bool \n",
            " 12  region_Unknown        281 non-null    bool \n",
            " 13  building_commercial   281 non-null    bool \n",
            " 14  building_highrise     281 non-null    bool \n",
            " 15  building_mixed_use    281 non-null    bool \n",
            " 16  building_potl         281 non-null    bool \n",
            " 17  building_residential  281 non-null    bool \n",
            " 18  building_townhouse    281 non-null    bool \n",
            " 19  building_unknown      281 non-null    bool \n",
            " 20  unit_bin_0.0          281 non-null    bool \n",
            " 21  unit_bin_1.0          281 non-null    bool \n",
            " 22  unit_bin_2.0          281 non-null    bool \n",
            " 23  unit_bin_3.0          281 non-null    bool \n",
            " 24  unit_bin_4.0          281 non-null    bool \n",
            " 25  unit_bin_5.0          281 non-null    bool \n",
            " 26  unit_bin_6.0          281 non-null    bool \n",
            " 27  unit_bin_7.0          281 non-null    bool \n",
            " 28  unit_bin_8.0          281 non-null    bool \n",
            " 29  unit_bin_9.0          281 non-null    bool \n",
            " 30  fee_bin_0             281 non-null    bool \n",
            " 31  fee_bin_1             281 non-null    bool \n",
            " 32  fee_bin_2             281 non-null    bool \n",
            " 33  fee_bin_3             281 non-null    bool \n",
            " 34  fee_bin_4             281 non-null    bool \n",
            " 35  fee_bin_5             281 non-null    bool \n",
            " 36  fee_bin_6             281 non-null    bool \n",
            " 37  fee_bin_7             281 non-null    bool \n",
            " 38  fee_bin_8             281 non-null    bool \n",
            " 39  fee_bin_9             281 non-null    bool \n",
            "dtypes: bool(38), int64(2)\n",
            "memory usage: 17.0 KB\n"
          ]
        }
      ]
    },
    {
      "cell_type": "markdown",
      "source": [
        "These are done and ready to go!"
      ],
      "metadata": {
        "id": "xzKT-gEENKGh"
      }
    },
    {
      "cell_type": "markdown",
      "source": [
        "# **ALL Multicollinearity Check**"
      ],
      "metadata": {
        "id": "ELYI6ty1TNOQ"
      }
    },
    {
      "cell_type": "markdown",
      "source": [
        "Before we finalize the data we'll check for correlation between features"
      ],
      "metadata": {
        "id": "h8LVeJkbTSLE"
      }
    },
    {
      "cell_type": "code",
      "source": [
        "correlation_matrix = X_train_all.corr()"
      ],
      "metadata": {
        "id": "T3Z3DoJ7U3ld"
      },
      "execution_count": 97,
      "outputs": []
    },
    {
      "cell_type": "code",
      "source": [
        "plt.figure(figsize=(10, 8))\n",
        "sns.heatmap(correlation_matrix, cmap='coolwarm', fmt='.2f', linewidths=0.5)"
      ],
      "metadata": {
        "colab": {
          "base_uri": "https://localhost:8080/",
          "height": 895
        },
        "id": "KhZIu0DoVWn0",
        "outputId": "d380c4b9-945d-4960-f4e1-1605de9d87ba"
      },
      "execution_count": 99,
      "outputs": [
        {
          "output_type": "execute_result",
          "data": {
            "text/plain": [
              "<Axes: >"
            ]
          },
          "metadata": {},
          "execution_count": 99
        },
        {
          "output_type": "display_data",
          "data": {
            "text/plain": [
              "<Figure size 1000x800 with 2 Axes>"
            ],
            "image/png": "[encoded data removed]"
          },
          "metadata": {}
        }
      ]
    },
    {
      "cell_type": "markdown",
      "source": [
        "There is a lot of overlap between sow and project_type dummies. This isn't hugely surprising since project_type is an aggregated form of sow. We'll remove the ones that do not offer a unique aggregation"
      ],
      "metadata": {
        "id": "KGlkv_sEV2K0"
      }
    },
    {
      "cell_type": "code",
      "source": [
        "X_train_all = X_train_all.drop(['project_type_BCA',\n",
        "                                'project_type_Consult',\n",
        "                                'project_type_Garage',\n",
        "                                'project_type_Mechanical',\n",
        "                                'project_type_Other',\n",
        "                                'project_type_PCA',\n",
        "                                'project_type_Roofing',\n",
        "                                'project_type_Envelope'], axis=1)"
      ],
      "metadata": {
        "id": "Qda25PUAV_Bu"
      },
      "execution_count": 100,
      "outputs": []
    },
    {
      "cell_type": "code",
      "source": [
        "X_test_all = X_test_all.drop(['project_type_BCA',\n",
        "                                'project_type_Consult',\n",
        "                                'project_type_Garage',\n",
        "                                'project_type_Mechanical',\n",
        "                                'project_type_Other',\n",
        "                                'project_type_PCA',\n",
        "                                'project_type_Roofing',\n",
        "                                'project_type_Envelope'], axis=1)"
      ],
      "metadata": {
        "id": "-FPJs61NXSh1"
      },
      "execution_count": 101,
      "outputs": []
    },
    {
      "cell_type": "markdown",
      "source": [
        "The relationship between region_Unknown and the PCA project type is interesting. While I can't think of a reason for this, there is no harm in removing region_Unknown"
      ],
      "metadata": {
        "id": "cw-AbNPIXqdW"
      }
    },
    {
      "cell_type": "code",
      "source": [
        "X_train_all = X_train_all.drop('region_Unknown', axis=1)\n",
        "X_test_all = X_test_all.drop('region_Unknown', axis=1)"
      ],
      "metadata": {
        "id": "9IaR6soLVt4R"
      },
      "execution_count": 102,
      "outputs": []
    },
    {
      "cell_type": "code",
      "source": [
        "print(X_train_all.shape)"
      ],
      "metadata": {
        "colab": {
          "base_uri": "https://localhost:8080/"
        },
        "id": "eHzSfOGWbrJ8",
        "outputId": "a358c864-9a2d-4e4f-983a-d9eae4cd76c7"
      },
      "execution_count": 108,
      "outputs": [
        {
          "output_type": "stream",
          "name": "stdout",
          "text": [
            "(1780, 34)\n"
          ]
        }
      ]
    },
    {
      "cell_type": "markdown",
      "source": [
        "# **RFS Multicollinearity Check**"
      ],
      "metadata": {
        "id": "_nFceM1qYIna"
      }
    },
    {
      "cell_type": "code",
      "source": [
        "correlation_matrix = X_train_rfs.corr()"
      ],
      "metadata": {
        "id": "afpfLqHXYL3O"
      },
      "execution_count": 104,
      "outputs": []
    },
    {
      "cell_type": "code",
      "source": [
        "plt.figure(figsize=(10, 8))\n",
        "sns.heatmap(correlation_matrix, cmap='coolwarm', fmt='.2f', linewidths=0.5)"
      ],
      "metadata": {
        "colab": {
          "base_uri": "https://localhost:8080/",
          "height": 835
        },
        "id": "4mDMJF8_YOMO",
        "outputId": "096e90ac-61a0-4d1d-e0f4-bfebf82a5850"
      },
      "execution_count": 105,
      "outputs": [
        {
          "output_type": "execute_result",
          "data": {
            "text/plain": [
              "<Axes: >"
            ]
          },
          "metadata": {},
          "execution_count": 105
        },
        {
          "output_type": "display_data",
          "data": {
            "text/plain": [
              "<Figure size 1000x800 with 2 Axes>"
            ],
            "image/png": "[encoded data removed]"
          },
          "metadata": {}
        }
      ]
    },
    {
      "cell_type": "markdown",
      "source": [
        "The main worry here is the prev_rfs feature, which is correlated with both reminder and sow_Update RFS. This isn't surprising, since they can usually only send reminders for clients that they did the previous rfs for. These reminder proposals are also usually Update RFS type."
      ],
      "metadata": {
        "id": "ovYjiPpHYpVo"
      }
    },
    {
      "cell_type": "code",
      "source": [
        "print('reminder and prev_rfs corr:', X_train_rfs['reminder'].corr(X_train_rfs['prev_rfs']))\n",
        "print('Update RFS and prev_rfs corr:', X_train_rfs['sow_Update RFS'].corr(X_train_rfs['prev_rfs']))"
      ],
      "metadata": {
        "colab": {
          "base_uri": "https://localhost:8080/"
        },
        "id": "IzLgqxl3abzL",
        "outputId": "44ad4553-dfaa-4445-a8ac-458990a159b8"
      },
      "execution_count": 106,
      "outputs": [
        {
          "output_type": "stream",
          "name": "stdout",
          "text": [
            "reminder and prev_rfs corr: 0.5366803977810636\n",
            "Update RFS and prev_rfs corr: 0.6890446046971238\n"
          ]
        }
      ]
    },
    {
      "cell_type": "markdown",
      "source": [
        "The correlation isn't strong enough to require these features be removed. Each of these features adds unique value to the data, so I will keep them all as is"
      ],
      "metadata": {
        "id": "w-HqSJSKbHKQ"
      }
    },
    {
      "cell_type": "markdown",
      "source": [
        "# **Data Export**"
      ],
      "metadata": {
        "id": "x4RQX7rnNBly"
      }
    },
    {
      "cell_type": "code",
      "source": [
        "from google.colab import drive\n",
        "drive.mount('/content/drive')"
      ],
      "metadata": {
        "colab": {
          "base_uri": "https://localhost:8080/"
        },
        "id": "FmGrsrFXKEZB",
        "outputId": "10ec41a3-1cb9-4414-d773-581518070945"
      },
      "execution_count": 92,
      "outputs": [
        {
          "output_type": "stream",
          "name": "stdout",
          "text": [
            "Drive already mounted at /content/drive; to attempt to forcibly remount, call drive.mount(\"/content/drive\", force_remount=True).\n"
          ]
        }
      ]
    },
    {
      "cell_type": "code",
      "source": [
        "X_train_all.to_pickle('/content/drive/My Drive/shared_folder/X_train_all.pkl')\n",
        "X_test_all.to_pickle('/content/drive/My Drive/shared_folder/X_test_all.pkl')\n",
        "y_train_all.to_pickle('/content/drive/My Drive/shared_folder/y_train_all.pkl')\n",
        "y_test_all.to_pickle('/content/drive/My Drive/shared_folder/y_test_all.pkl')\n",
        "\n",
        "X_train_rfs.to_pickle('/content/drive/My Drive/shared_folder/X_train_rfs.pkl')\n",
        "X_test_rfs.to_pickle('/content/drive/My Drive/shared_folder/X_test_rfs.pkl')\n",
        "y_train_rfs.to_pickle('/content/drive/My Drive/shared_folder/y_train_rfs.pkl')\n",
        "y_test_rfs.to_pickle('/content/drive/My Drive/shared_folder/y_test_rfs.pkl')"
      ],
      "metadata": {
        "id": "dgjGFSFfMd0v"
      },
      "execution_count": 107,
      "outputs": []
    }
  ]
}